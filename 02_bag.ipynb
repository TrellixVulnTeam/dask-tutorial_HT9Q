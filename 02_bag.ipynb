{
 "cells": [
  {
   "cell_type": "markdown",
   "metadata": {},
   "source": [
    "<img src=\"images/dask_horizontal.svg\" align=\"right\" width=\"30%\">"
   ]
  },
  {
   "cell_type": "markdown",
   "metadata": {},
   "source": [
    "# Bag: Parallel Lists for semi-structured data"
   ]
  },
  {
   "cell_type": "markdown",
   "metadata": {},
   "source": [
    "Dask-bag excels in processing data that can be represented as a sequence of arbitrary inputs. We'll refer to this as \"messy\" data, because it can contain complex nested structures, missing fields, mixtures of data types, etc. The *functional* programming style fits very nicely with standard Python iteration, such as can be found in the `itertools` module.\n",
    "\n",
    "Messy data is often encountered at the beginning of data processing pipelines when large volumes of raw data are first consumed. The initial set of data might be JSON, CSV, XML, or any other format that does not enforce strict structure and datatypes.\n",
    "For this reason, the initial data massaging and processing is often done with Python `list`s, `dict`s, and `set`s.\n",
    "\n",
    "These core data structures are optimized for general-purpose storage and processing.  Adding streaming computation with iterators/generator expressions or libraries like `itertools` or [`toolz`](https://toolz.readthedocs.io/en/latest/) let us process large volumes in a small space.  If we combine this with parallel processing then we can churn through a fair amount of data.\n",
    "\n",
    "Dask.bag is a high level Dask collection to automate common workloads of this form.  In a nutshell\n",
    "\n",
    "    dask.bag = map, filter, toolz + parallel execution\n",
    "    \n",
    "**Related Documentation**\n",
    "\n",
    "* [Bag documentation](https://docs.dask.org/en/latest/bag.html)\n",
    "* [Bag screencast](https://youtu.be/-qIiJ1XtSv0)\n",
    "* [Bag API](https://docs.dask.org/en/latest/bag-api.html)\n",
    "* [Bag examples](https://examples.dask.org/bag.html)"
   ]
  },
  {
   "cell_type": "markdown",
   "metadata": {},
   "source": [
    "## Create data"
   ]
  },
  {
   "cell_type": "code",
   "execution_count": 1,
   "metadata": {
    "execution": {
     "iopub.execute_input": "2022-01-25T15:00:12.487379Z",
     "iopub.status.busy": "2022-01-25T15:00:12.486548Z",
     "iopub.status.idle": "2022-01-25T15:00:13.215562Z",
     "shell.execute_reply": "2022-01-25T15:00:13.214612Z"
    }
   },
   "outputs": [],
   "source": [
    "%run prep.py -d accounts"
   ]
  },
  {
   "cell_type": "markdown",
   "metadata": {},
   "source": [
    "## Setup"
   ]
  },
  {
   "cell_type": "markdown",
   "metadata": {},
   "source": [
    "Again, we'll use the distributed scheduler. Schedulers will be explained in depth [later](05_distributed.ipynb)."
   ]
  },
  {
   "cell_type": "code",
   "execution_count": 2,
   "metadata": {
    "execution": {
     "iopub.execute_input": "2022-01-25T15:00:13.221233Z",
     "iopub.status.busy": "2022-01-25T15:00:13.218410Z",
     "iopub.status.idle": "2022-01-25T15:00:15.763622Z",
     "shell.execute_reply": "2022-01-25T15:00:15.762864Z"
    }
   },
   "outputs": [],
   "source": [
    "from dask.distributed import Client\n",
    "\n",
    "client = Client(n_workers=4)"
   ]
  },
  {
   "cell_type": "markdown",
   "metadata": {},
   "source": [
    "## Creation"
   ]
  },
  {
   "cell_type": "markdown",
   "metadata": {},
   "source": [
    "You can create a `Bag` from a Python sequence, from files, from data on S3, etc.\n",
    "We demonstrate using `.take()` to show elements of the data. (Doing `.take(1)` results in a tuple with one element)\n",
    "\n",
    "Note that the data are partitioned into blocks, and there are many items per block. In the first example, the two partitions contain five elements each, and in the following two, each file is partitioned into one or more bytes blocks."
   ]
  },
  {
   "cell_type": "code",
   "execution_count": 3,
   "metadata": {
    "execution": {
     "iopub.execute_input": "2022-01-25T15:00:15.768658Z",
     "iopub.status.busy": "2022-01-25T15:00:15.768081Z",
     "iopub.status.idle": "2022-01-25T15:00:16.073222Z",
     "shell.execute_reply": "2022-01-25T15:00:16.073636Z"
    }
   },
   "outputs": [
    {
     "data": {
      "text/plain": [
       "(1, 2, 3)"
      ]
     },
     "execution_count": 3,
     "metadata": {},
     "output_type": "execute_result"
    }
   ],
   "source": [
    "# each element is an integer\n",
    "import dask.bag as db\n",
    "b = db.from_sequence([1, 2, 3, 4, 5, 6, 7, 8, 9, 10], npartitions=2)\n",
    "b.take(3)"
   ]
  },
  {
   "cell_type": "code",
   "execution_count": 4,
   "metadata": {
    "execution": {
     "iopub.execute_input": "2022-01-25T15:00:16.078802Z",
     "iopub.status.busy": "2022-01-25T15:00:16.077505Z",
     "iopub.status.idle": "2022-01-25T15:00:16.182122Z",
     "shell.execute_reply": "2022-01-25T15:00:16.181724Z"
    }
   },
   "outputs": [
    {
     "data": {
      "text/plain": [
       "('{\"id\": 0, \"name\": \"Oliver\", \"transactions\": [{\"transaction-id\": 559, \"amount\": 5943}, {\"transaction-id\": 5253, \"amount\": 5080}]}\\n',)"
      ]
     },
     "execution_count": 4,
     "metadata": {},
     "output_type": "execute_result"
    }
   ],
   "source": [
    "# each element is a text file, where each line is a JSON object\n",
    "# note that the compression is handled automatically\n",
    "import os\n",
    "b = db.read_text(os.path.join('data', 'accounts.*.json.gz'))\n",
    "b.take(1)"
   ]
  },
  {
   "cell_type": "code",
   "execution_count": 5,
   "metadata": {
    "execution": {
     "iopub.execute_input": "2022-01-25T15:00:16.186245Z",
     "iopub.status.busy": "2022-01-25T15:00:16.185569Z",
     "iopub.status.idle": "2022-01-25T15:00:16.188176Z",
     "shell.execute_reply": "2022-01-25T15:00:16.188580Z"
    }
   },
   "outputs": [
    {
     "data": {
      "text/plain": [
       "'s3://dask-data/nyc-taxi/2015/yellow_tripdata_2015-01.csv'"
      ]
     },
     "execution_count": 5,
     "metadata": {},
     "output_type": "execute_result"
    }
   ],
   "source": [
    "# Edit sources.py to configure source locations\n",
    "import sources\n",
    "sources.bag_url"
   ]
  },
  {
   "cell_type": "code",
   "execution_count": 6,
   "metadata": {
    "execution": {
     "iopub.execute_input": "2022-01-25T15:00:16.191160Z",
     "iopub.status.busy": "2022-01-25T15:00:16.190672Z",
     "iopub.status.idle": "2022-01-25T15:00:17.786360Z",
     "shell.execute_reply": "2022-01-25T15:00:17.786807Z"
    }
   },
   "outputs": [
    {
     "data": {
      "text/plain": [
       "('VendorID,tpep_pickup_datetime,tpep_dropoff_datetime,passenger_count,trip_distance,pickup_longitude,pickup_latitude,RateCodeID,store_and_fwd_flag,dropoff_longitude,dropoff_latitude,payment_type,fare_amount,extra,mta_tax,tip_amount,tolls_amount,improvement_surcharge,total_amount\\n',)"
      ]
     },
     "execution_count": 6,
     "metadata": {},
     "output_type": "execute_result"
    }
   ],
   "source": [
    "# Requires `s3fs` library\n",
    "# each partition is a remote CSV text file\n",
    "b = db.read_text(sources.bag_url,\n",
    "                 storage_options={'anon': True})\n",
    "b.take(1)"
   ]
  },
  {
   "cell_type": "markdown",
   "metadata": {},
   "source": [
    "## Manipulation"
   ]
  },
  {
   "cell_type": "markdown",
   "metadata": {},
   "source": [
    "`Bag` objects hold the standard functional API found in projects like the Python standard library, `toolz`, or `pyspark`, including `map`, `filter`, `groupby`, etc..\n",
    "\n",
    "Operations on `Bag` objects create new bags.  Call the `.compute()` method to trigger execution, as we saw for `Delayed` objects.  "
   ]
  },
  {
   "cell_type": "code",
   "execution_count": 7,
   "metadata": {
    "execution": {
     "iopub.execute_input": "2022-01-25T15:00:17.793817Z",
     "iopub.status.busy": "2022-01-25T15:00:17.793300Z",
     "iopub.status.idle": "2022-01-25T15:00:17.796871Z",
     "shell.execute_reply": "2022-01-25T15:00:17.797285Z"
    }
   },
   "outputs": [
    {
     "data": {
      "text/plain": [
       "dask.bag<lambda, npartitions=10>"
      ]
     },
     "execution_count": 7,
     "metadata": {},
     "output_type": "execute_result"
    }
   ],
   "source": [
    "def is_even(n):\n",
    "    return n % 2 == 0\n",
    "\n",
    "b = db.from_sequence([1, 2, 3, 4, 5, 6, 7, 8, 9, 10])\n",
    "c = b.filter(is_even).map(lambda x: x ** 2)\n",
    "c"
   ]
  },
  {
   "cell_type": "code",
   "execution_count": 8,
   "metadata": {
    "execution": {
     "iopub.execute_input": "2022-01-25T15:00:17.815212Z",
     "iopub.status.busy": "2022-01-25T15:00:17.814707Z",
     "iopub.status.idle": "2022-01-25T15:00:17.925159Z",
     "shell.execute_reply": "2022-01-25T15:00:17.924734Z"
    }
   },
   "outputs": [
    {
     "data": {
      "text/plain": [
       "[4, 16, 36, 64, 100]"
      ]
     },
     "execution_count": 8,
     "metadata": {},
     "output_type": "execute_result"
    }
   ],
   "source": [
    "# blocking form: wait for completion (which is very fast in this case)\n",
    "c.compute()"
   ]
  },
  {
   "cell_type": "markdown",
   "metadata": {},
   "source": [
    "### Example: Accounts JSON data"
   ]
  },
  {
   "cell_type": "markdown",
   "metadata": {},
   "source": [
    "We've created a fake dataset of gzipped JSON data in your data directory.  This is like the example used in the `DataFrame` example we will see later, except that it has bundled up all of the entries for each individual `id` into a single record.  This is similar to data that you might collect off of a document store database or a web API.\n",
    "\n",
    "Each line is a JSON encoded dictionary with the following keys\n",
    "\n",
    "*  id: Unique identifier of the customer\n",
    "*  name: Name of the customer\n",
    "*  transactions: List of `transaction-id`, `amount` pairs, one for each transaction for the customer in that file"
   ]
  },
  {
   "cell_type": "code",
   "execution_count": 9,
   "metadata": {
    "execution": {
     "iopub.execute_input": "2022-01-25T15:00:17.929285Z",
     "iopub.status.busy": "2022-01-25T15:00:17.928800Z",
     "iopub.status.idle": "2022-01-25T15:00:17.962404Z",
     "shell.execute_reply": "2022-01-25T15:00:17.961958Z"
    }
   },
   "outputs": [
    {
     "data": {
      "text/plain": [
       "('{\"id\": 0, \"name\": \"Oliver\", \"transactions\": [{\"transaction-id\": 559, \"amount\": 5943}, {\"transaction-id\": 5253, \"amount\": 5080}]}\\n',\n",
       " '{\"id\": 1, \"name\": \"Wendy\", \"transactions\": [{\"transaction-id\": 1317, \"amount\": 254}, {\"transaction-id\": 1743, \"amount\": 263}, {\"transaction-id\": 1805, \"amount\": 252}, {\"transaction-id\": 2491, \"amount\": 257}, {\"transaction-id\": 2514, \"amount\": 264}, {\"transaction-id\": 2841, \"amount\": 239}, {\"transaction-id\": 4155, \"amount\": 258}, {\"transaction-id\": 4447, \"amount\": 251}, {\"transaction-id\": 4555, \"amount\": 261}, {\"transaction-id\": 5717, \"amount\": 253}, {\"transaction-id\": 6254, \"amount\": 256}, {\"transaction-id\": 6282, \"amount\": 256}, {\"transaction-id\": 6459, \"amount\": 265}, {\"transaction-id\": 6602, \"amount\": 250}, {\"transaction-id\": 6657, \"amount\": 257}, {\"transaction-id\": 7305, \"amount\": 261}, {\"transaction-id\": 7941, \"amount\": 281}, {\"transaction-id\": 8274, \"amount\": 263}, {\"transaction-id\": 8429, \"amount\": 264}, {\"transaction-id\": 9005, \"amount\": 267}, {\"transaction-id\": 9505, \"amount\": 259}, {\"transaction-id\": 9825, \"amount\": 269}, {\"transaction-id\": 9958, \"amount\": 253}]}\\n',\n",
       " '{\"id\": 2, \"name\": \"Alice\", \"transactions\": [{\"transaction-id\": 25, \"amount\": 1697}, {\"transaction-id\": 214, \"amount\": 1661}, {\"transaction-id\": 289, \"amount\": 1624}, {\"transaction-id\": 882, \"amount\": 1649}, {\"transaction-id\": 1213, \"amount\": 1413}, {\"transaction-id\": 1242, \"amount\": 1679}, {\"transaction-id\": 1262, \"amount\": 1581}, {\"transaction-id\": 1414, \"amount\": 1506}, {\"transaction-id\": 1499, \"amount\": 1721}, {\"transaction-id\": 1785, \"amount\": 1594}, {\"transaction-id\": 1899, \"amount\": 1552}, {\"transaction-id\": 2117, \"amount\": 1753}, {\"transaction-id\": 2141, \"amount\": 1609}, {\"transaction-id\": 2234, \"amount\": 1560}, {\"transaction-id\": 2310, \"amount\": 1454}, {\"transaction-id\": 2601, \"amount\": 1596}, {\"transaction-id\": 2697, \"amount\": 1573}, {\"transaction-id\": 2768, \"amount\": 1756}, {\"transaction-id\": 2784, \"amount\": 1642}, {\"transaction-id\": 2906, \"amount\": 1536}, {\"transaction-id\": 2945, \"amount\": 1532}, {\"transaction-id\": 2970, \"amount\": 1477}, {\"transaction-id\": 3021, \"amount\": 1554}, {\"transaction-id\": 3103, \"amount\": 1438}, {\"transaction-id\": 3385, \"amount\": 1481}, {\"transaction-id\": 3807, \"amount\": 1757}, {\"transaction-id\": 3906, \"amount\": 1604}, {\"transaction-id\": 4083, \"amount\": 1723}, {\"transaction-id\": 4326, \"amount\": 1686}, {\"transaction-id\": 4516, \"amount\": 1511}, {\"transaction-id\": 4599, \"amount\": 1464}, {\"transaction-id\": 4625, \"amount\": 1600}, {\"transaction-id\": 4721, \"amount\": 1484}, {\"transaction-id\": 4866, \"amount\": 1634}, {\"transaction-id\": 5021, \"amount\": 1426}, {\"transaction-id\": 5093, \"amount\": 1524}, {\"transaction-id\": 6245, \"amount\": 1763}, {\"transaction-id\": 6386, \"amount\": 1531}, {\"transaction-id\": 6540, \"amount\": 1660}, {\"transaction-id\": 6587, \"amount\": 1642}, {\"transaction-id\": 6664, \"amount\": 1443}, {\"transaction-id\": 6677, \"amount\": 1713}, {\"transaction-id\": 6812, \"amount\": 1563}, {\"transaction-id\": 7185, \"amount\": 1709}, {\"transaction-id\": 7218, \"amount\": 1567}, {\"transaction-id\": 7577, \"amount\": 1359}, {\"transaction-id\": 7650, \"amount\": 1479}, {\"transaction-id\": 7851, \"amount\": 1663}, {\"transaction-id\": 8169, \"amount\": 1643}, {\"transaction-id\": 8306, \"amount\": 1706}, {\"transaction-id\": 8566, \"amount\": 1470}, {\"transaction-id\": 8764, \"amount\": 1741}, {\"transaction-id\": 8967, \"amount\": 1610}, {\"transaction-id\": 9024, \"amount\": 1555}, {\"transaction-id\": 9187, \"amount\": 1550}, {\"transaction-id\": 9480, \"amount\": 1662}, {\"transaction-id\": 9834, \"amount\": 1619}, {\"transaction-id\": 9945, \"amount\": 1703}]}\\n')"
      ]
     },
     "execution_count": 9,
     "metadata": {},
     "output_type": "execute_result"
    }
   ],
   "source": [
    "filename = os.path.join('data', 'accounts.*.json.gz')\n",
    "lines = db.read_text(filename)\n",
    "lines.take(3)"
   ]
  },
  {
   "cell_type": "markdown",
   "metadata": {},
   "source": [
    "Our data comes out of the file as lines of text. Notice that file decompression happened automatically. We can make this data look more reasonable by mapping the `json.loads` function onto our bag."
   ]
  },
  {
   "cell_type": "code",
   "execution_count": 10,
   "metadata": {
    "execution": {
     "iopub.execute_input": "2022-01-25T15:00:17.974145Z",
     "iopub.status.busy": "2022-01-25T15:00:17.967616Z",
     "iopub.status.idle": "2022-01-25T15:00:17.997069Z",
     "shell.execute_reply": "2022-01-25T15:00:17.996585Z"
    }
   },
   "outputs": [
    {
     "data": {
      "text/plain": [
       "({'id': 0,\n",
       "  'name': 'Oliver',\n",
       "  'transactions': [{'transaction-id': 559, 'amount': 5943},\n",
       "   {'transaction-id': 5253, 'amount': 5080}]},\n",
       " {'id': 1,\n",
       "  'name': 'Wendy',\n",
       "  'transactions': [{'transaction-id': 1317, 'amount': 254},\n",
       "   {'transaction-id': 1743, 'amount': 263},\n",
       "   {'transaction-id': 1805, 'amount': 252},\n",
       "   {'transaction-id': 2491, 'amount': 257},\n",
       "   {'transaction-id': 2514, 'amount': 264},\n",
       "   {'transaction-id': 2841, 'amount': 239},\n",
       "   {'transaction-id': 4155, 'amount': 258},\n",
       "   {'transaction-id': 4447, 'amount': 251},\n",
       "   {'transaction-id': 4555, 'amount': 261},\n",
       "   {'transaction-id': 5717, 'amount': 253},\n",
       "   {'transaction-id': 6254, 'amount': 256},\n",
       "   {'transaction-id': 6282, 'amount': 256},\n",
       "   {'transaction-id': 6459, 'amount': 265},\n",
       "   {'transaction-id': 6602, 'amount': 250},\n",
       "   {'transaction-id': 6657, 'amount': 257},\n",
       "   {'transaction-id': 7305, 'amount': 261},\n",
       "   {'transaction-id': 7941, 'amount': 281},\n",
       "   {'transaction-id': 8274, 'amount': 263},\n",
       "   {'transaction-id': 8429, 'amount': 264},\n",
       "   {'transaction-id': 9005, 'amount': 267},\n",
       "   {'transaction-id': 9505, 'amount': 259},\n",
       "   {'transaction-id': 9825, 'amount': 269},\n",
       "   {'transaction-id': 9958, 'amount': 253}]},\n",
       " {'id': 2,\n",
       "  'name': 'Alice',\n",
       "  'transactions': [{'transaction-id': 25, 'amount': 1697},\n",
       "   {'transaction-id': 214, 'amount': 1661},\n",
       "   {'transaction-id': 289, 'amount': 1624},\n",
       "   {'transaction-id': 882, 'amount': 1649},\n",
       "   {'transaction-id': 1213, 'amount': 1413},\n",
       "   {'transaction-id': 1242, 'amount': 1679},\n",
       "   {'transaction-id': 1262, 'amount': 1581},\n",
       "   {'transaction-id': 1414, 'amount': 1506},\n",
       "   {'transaction-id': 1499, 'amount': 1721},\n",
       "   {'transaction-id': 1785, 'amount': 1594},\n",
       "   {'transaction-id': 1899, 'amount': 1552},\n",
       "   {'transaction-id': 2117, 'amount': 1753},\n",
       "   {'transaction-id': 2141, 'amount': 1609},\n",
       "   {'transaction-id': 2234, 'amount': 1560},\n",
       "   {'transaction-id': 2310, 'amount': 1454},\n",
       "   {'transaction-id': 2601, 'amount': 1596},\n",
       "   {'transaction-id': 2697, 'amount': 1573},\n",
       "   {'transaction-id': 2768, 'amount': 1756},\n",
       "   {'transaction-id': 2784, 'amount': 1642},\n",
       "   {'transaction-id': 2906, 'amount': 1536},\n",
       "   {'transaction-id': 2945, 'amount': 1532},\n",
       "   {'transaction-id': 2970, 'amount': 1477},\n",
       "   {'transaction-id': 3021, 'amount': 1554},\n",
       "   {'transaction-id': 3103, 'amount': 1438},\n",
       "   {'transaction-id': 3385, 'amount': 1481},\n",
       "   {'transaction-id': 3807, 'amount': 1757},\n",
       "   {'transaction-id': 3906, 'amount': 1604},\n",
       "   {'transaction-id': 4083, 'amount': 1723},\n",
       "   {'transaction-id': 4326, 'amount': 1686},\n",
       "   {'transaction-id': 4516, 'amount': 1511},\n",
       "   {'transaction-id': 4599, 'amount': 1464},\n",
       "   {'transaction-id': 4625, 'amount': 1600},\n",
       "   {'transaction-id': 4721, 'amount': 1484},\n",
       "   {'transaction-id': 4866, 'amount': 1634},\n",
       "   {'transaction-id': 5021, 'amount': 1426},\n",
       "   {'transaction-id': 5093, 'amount': 1524},\n",
       "   {'transaction-id': 6245, 'amount': 1763},\n",
       "   {'transaction-id': 6386, 'amount': 1531},\n",
       "   {'transaction-id': 6540, 'amount': 1660},\n",
       "   {'transaction-id': 6587, 'amount': 1642},\n",
       "   {'transaction-id': 6664, 'amount': 1443},\n",
       "   {'transaction-id': 6677, 'amount': 1713},\n",
       "   {'transaction-id': 6812, 'amount': 1563},\n",
       "   {'transaction-id': 7185, 'amount': 1709},\n",
       "   {'transaction-id': 7218, 'amount': 1567},\n",
       "   {'transaction-id': 7577, 'amount': 1359},\n",
       "   {'transaction-id': 7650, 'amount': 1479},\n",
       "   {'transaction-id': 7851, 'amount': 1663},\n",
       "   {'transaction-id': 8169, 'amount': 1643},\n",
       "   {'transaction-id': 8306, 'amount': 1706},\n",
       "   {'transaction-id': 8566, 'amount': 1470},\n",
       "   {'transaction-id': 8764, 'amount': 1741},\n",
       "   {'transaction-id': 8967, 'amount': 1610},\n",
       "   {'transaction-id': 9024, 'amount': 1555},\n",
       "   {'transaction-id': 9187, 'amount': 1550},\n",
       "   {'transaction-id': 9480, 'amount': 1662},\n",
       "   {'transaction-id': 9834, 'amount': 1619},\n",
       "   {'transaction-id': 9945, 'amount': 1703}]})"
      ]
     },
     "execution_count": 10,
     "metadata": {},
     "output_type": "execute_result"
    }
   ],
   "source": [
    "import json\n",
    "js = lines.map(json.loads)\n",
    "# take: inspect first few elements\n",
    "js.take(3)"
   ]
  },
  {
   "cell_type": "markdown",
   "metadata": {},
   "source": [
    "### Basic Queries"
   ]
  },
  {
   "cell_type": "markdown",
   "metadata": {},
   "source": [
    "Once we parse our JSON data into proper Python objects (`dict`s, `list`s, etc.) we can perform more interesting queries by creating small Python functions to run on our data."
   ]
  },
  {
   "cell_type": "code",
   "execution_count": 11,
   "metadata": {
    "execution": {
     "iopub.execute_input": "2022-01-25T15:00:18.009636Z",
     "iopub.status.busy": "2022-01-25T15:00:18.002392Z",
     "iopub.status.idle": "2022-01-25T15:00:18.046934Z",
     "shell.execute_reply": "2022-01-25T15:00:18.046484Z"
    }
   },
   "outputs": [
    {
     "data": {
      "text/plain": [
       "({'id': 2,\n",
       "  'name': 'Alice',\n",
       "  'transactions': [{'transaction-id': 25, 'amount': 1697},\n",
       "   {'transaction-id': 214, 'amount': 1661},\n",
       "   {'transaction-id': 289, 'amount': 1624},\n",
       "   {'transaction-id': 882, 'amount': 1649},\n",
       "   {'transaction-id': 1213, 'amount': 1413},\n",
       "   {'transaction-id': 1242, 'amount': 1679},\n",
       "   {'transaction-id': 1262, 'amount': 1581},\n",
       "   {'transaction-id': 1414, 'amount': 1506},\n",
       "   {'transaction-id': 1499, 'amount': 1721},\n",
       "   {'transaction-id': 1785, 'amount': 1594},\n",
       "   {'transaction-id': 1899, 'amount': 1552},\n",
       "   {'transaction-id': 2117, 'amount': 1753},\n",
       "   {'transaction-id': 2141, 'amount': 1609},\n",
       "   {'transaction-id': 2234, 'amount': 1560},\n",
       "   {'transaction-id': 2310, 'amount': 1454},\n",
       "   {'transaction-id': 2601, 'amount': 1596},\n",
       "   {'transaction-id': 2697, 'amount': 1573},\n",
       "   {'transaction-id': 2768, 'amount': 1756},\n",
       "   {'transaction-id': 2784, 'amount': 1642},\n",
       "   {'transaction-id': 2906, 'amount': 1536},\n",
       "   {'transaction-id': 2945, 'amount': 1532},\n",
       "   {'transaction-id': 2970, 'amount': 1477},\n",
       "   {'transaction-id': 3021, 'amount': 1554},\n",
       "   {'transaction-id': 3103, 'amount': 1438},\n",
       "   {'transaction-id': 3385, 'amount': 1481},\n",
       "   {'transaction-id': 3807, 'amount': 1757},\n",
       "   {'transaction-id': 3906, 'amount': 1604},\n",
       "   {'transaction-id': 4083, 'amount': 1723},\n",
       "   {'transaction-id': 4326, 'amount': 1686},\n",
       "   {'transaction-id': 4516, 'amount': 1511},\n",
       "   {'transaction-id': 4599, 'amount': 1464},\n",
       "   {'transaction-id': 4625, 'amount': 1600},\n",
       "   {'transaction-id': 4721, 'amount': 1484},\n",
       "   {'transaction-id': 4866, 'amount': 1634},\n",
       "   {'transaction-id': 5021, 'amount': 1426},\n",
       "   {'transaction-id': 5093, 'amount': 1524},\n",
       "   {'transaction-id': 6245, 'amount': 1763},\n",
       "   {'transaction-id': 6386, 'amount': 1531},\n",
       "   {'transaction-id': 6540, 'amount': 1660},\n",
       "   {'transaction-id': 6587, 'amount': 1642},\n",
       "   {'transaction-id': 6664, 'amount': 1443},\n",
       "   {'transaction-id': 6677, 'amount': 1713},\n",
       "   {'transaction-id': 6812, 'amount': 1563},\n",
       "   {'transaction-id': 7185, 'amount': 1709},\n",
       "   {'transaction-id': 7218, 'amount': 1567},\n",
       "   {'transaction-id': 7577, 'amount': 1359},\n",
       "   {'transaction-id': 7650, 'amount': 1479},\n",
       "   {'transaction-id': 7851, 'amount': 1663},\n",
       "   {'transaction-id': 8169, 'amount': 1643},\n",
       "   {'transaction-id': 8306, 'amount': 1706},\n",
       "   {'transaction-id': 8566, 'amount': 1470},\n",
       "   {'transaction-id': 8764, 'amount': 1741},\n",
       "   {'transaction-id': 8967, 'amount': 1610},\n",
       "   {'transaction-id': 9024, 'amount': 1555},\n",
       "   {'transaction-id': 9187, 'amount': 1550},\n",
       "   {'transaction-id': 9480, 'amount': 1662},\n",
       "   {'transaction-id': 9834, 'amount': 1619},\n",
       "   {'transaction-id': 9945, 'amount': 1703}]},\n",
       " {'id': 3,\n",
       "  'name': 'Alice',\n",
       "  'transactions': [{'transaction-id': 493, 'amount': 2095},\n",
       "   {'transaction-id': 628, 'amount': 2140},\n",
       "   {'transaction-id': 681, 'amount': 2133},\n",
       "   {'transaction-id': 723, 'amount': 2122},\n",
       "   {'transaction-id': 791, 'amount': 2163},\n",
       "   {'transaction-id': 917, 'amount': 2072},\n",
       "   {'transaction-id': 1026, 'amount': 2100},\n",
       "   {'transaction-id': 1246, 'amount': 2143},\n",
       "   {'transaction-id': 1350, 'amount': 2041},\n",
       "   {'transaction-id': 1434, 'amount': 2141},\n",
       "   {'transaction-id': 1452, 'amount': 2159},\n",
       "   {'transaction-id': 1493, 'amount': 2222},\n",
       "   {'transaction-id': 1534, 'amount': 2213},\n",
       "   {'transaction-id': 1594, 'amount': 2032},\n",
       "   {'transaction-id': 1634, 'amount': 2204},\n",
       "   {'transaction-id': 1698, 'amount': 2108},\n",
       "   {'transaction-id': 1799, 'amount': 2195},\n",
       "   {'transaction-id': 1853, 'amount': 2185},\n",
       "   {'transaction-id': 1863, 'amount': 2076},\n",
       "   {'transaction-id': 2286, 'amount': 2262},\n",
       "   {'transaction-id': 2290, 'amount': 2033},\n",
       "   {'transaction-id': 2429, 'amount': 2198},\n",
       "   {'transaction-id': 2643, 'amount': 2075},\n",
       "   {'transaction-id': 2670, 'amount': 2126},\n",
       "   {'transaction-id': 2753, 'amount': 2018},\n",
       "   {'transaction-id': 2801, 'amount': 2221},\n",
       "   {'transaction-id': 2896, 'amount': 2228},\n",
       "   {'transaction-id': 2919, 'amount': 2057},\n",
       "   {'transaction-id': 2950, 'amount': 2063},\n",
       "   {'transaction-id': 3055, 'amount': 2187},\n",
       "   {'transaction-id': 3107, 'amount': 2138},\n",
       "   {'transaction-id': 3115, 'amount': 2087},\n",
       "   {'transaction-id': 3204, 'amount': 2130},\n",
       "   {'transaction-id': 3278, 'amount': 2082},\n",
       "   {'transaction-id': 3512, 'amount': 2029},\n",
       "   {'transaction-id': 3551, 'amount': 2022},\n",
       "   {'transaction-id': 3557, 'amount': 2154},\n",
       "   {'transaction-id': 3665, 'amount': 1991},\n",
       "   {'transaction-id': 3756, 'amount': 2185},\n",
       "   {'transaction-id': 3871, 'amount': 1966},\n",
       "   {'transaction-id': 4090, 'amount': 2135},\n",
       "   {'transaction-id': 4103, 'amount': 2157},\n",
       "   {'transaction-id': 4195, 'amount': 2127},\n",
       "   {'transaction-id': 4218, 'amount': 2087},\n",
       "   {'transaction-id': 4258, 'amount': 2149},\n",
       "   {'transaction-id': 4311, 'amount': 2156},\n",
       "   {'transaction-id': 4374, 'amount': 2146},\n",
       "   {'transaction-id': 4379, 'amount': 2020},\n",
       "   {'transaction-id': 4380, 'amount': 2157},\n",
       "   {'transaction-id': 4441, 'amount': 1920},\n",
       "   {'transaction-id': 4548, 'amount': 2073},\n",
       "   {'transaction-id': 4699, 'amount': 2074},\n",
       "   {'transaction-id': 4750, 'amount': 2221},\n",
       "   {'transaction-id': 4824, 'amount': 2151},\n",
       "   {'transaction-id': 4855, 'amount': 2218},\n",
       "   {'transaction-id': 4927, 'amount': 2069},\n",
       "   {'transaction-id': 4946, 'amount': 2174},\n",
       "   {'transaction-id': 4954, 'amount': 2229},\n",
       "   {'transaction-id': 5272, 'amount': 2096},\n",
       "   {'transaction-id': 5415, 'amount': 2134},\n",
       "   {'transaction-id': 5483, 'amount': 2044},\n",
       "   {'transaction-id': 5571, 'amount': 2036},\n",
       "   {'transaction-id': 5590, 'amount': 2079},\n",
       "   {'transaction-id': 5672, 'amount': 2223},\n",
       "   {'transaction-id': 5715, 'amount': 2245},\n",
       "   {'transaction-id': 5732, 'amount': 2096},\n",
       "   {'transaction-id': 5775, 'amount': 2066},\n",
       "   {'transaction-id': 5814, 'amount': 2028},\n",
       "   {'transaction-id': 5892, 'amount': 2059},\n",
       "   {'transaction-id': 5982, 'amount': 2020},\n",
       "   {'transaction-id': 6149, 'amount': 2020},\n",
       "   {'transaction-id': 6165, 'amount': 2114},\n",
       "   {'transaction-id': 6198, 'amount': 2173},\n",
       "   {'transaction-id': 6220, 'amount': 2091},\n",
       "   {'transaction-id': 6223, 'amount': 2087},\n",
       "   {'transaction-id': 6356, 'amount': 2341},\n",
       "   {'transaction-id': 6489, 'amount': 2191},\n",
       "   {'transaction-id': 6492, 'amount': 2210},\n",
       "   {'transaction-id': 6508, 'amount': 2150},\n",
       "   {'transaction-id': 6558, 'amount': 2161},\n",
       "   {'transaction-id': 6595, 'amount': 2076},\n",
       "   {'transaction-id': 6604, 'amount': 2108},\n",
       "   {'transaction-id': 6763, 'amount': 2203},\n",
       "   {'transaction-id': 6842, 'amount': 2196},\n",
       "   {'transaction-id': 6958, 'amount': 2036},\n",
       "   {'transaction-id': 7070, 'amount': 2117},\n",
       "   {'transaction-id': 7106, 'amount': 2172},\n",
       "   {'transaction-id': 7264, 'amount': 2069},\n",
       "   {'transaction-id': 7307, 'amount': 2097},\n",
       "   {'transaction-id': 7346, 'amount': 2058},\n",
       "   {'transaction-id': 7375, 'amount': 2069},\n",
       "   {'transaction-id': 7518, 'amount': 2125},\n",
       "   {'transaction-id': 7545, 'amount': 2087},\n",
       "   {'transaction-id': 7711, 'amount': 2139},\n",
       "   {'transaction-id': 7902, 'amount': 2106},\n",
       "   {'transaction-id': 7949, 'amount': 2101},\n",
       "   {'transaction-id': 7969, 'amount': 2160},\n",
       "   {'transaction-id': 8061, 'amount': 2096},\n",
       "   {'transaction-id': 8071, 'amount': 2124},\n",
       "   {'transaction-id': 8163, 'amount': 2161},\n",
       "   {'transaction-id': 8323, 'amount': 2218},\n",
       "   {'transaction-id': 8326, 'amount': 2157},\n",
       "   {'transaction-id': 8428, 'amount': 2039},\n",
       "   {'transaction-id': 8448, 'amount': 2134},\n",
       "   {'transaction-id': 8463, 'amount': 2035},\n",
       "   {'transaction-id': 8592, 'amount': 2116},\n",
       "   {'transaction-id': 8658, 'amount': 2176},\n",
       "   {'transaction-id': 8895, 'amount': 2165},\n",
       "   {'transaction-id': 8941, 'amount': 2153},\n",
       "   {'transaction-id': 8951, 'amount': 2150},\n",
       "   {'transaction-id': 9013, 'amount': 2040},\n",
       "   {'transaction-id': 9058, 'amount': 2082},\n",
       "   {'transaction-id': 9110, 'amount': 2167},\n",
       "   {'transaction-id': 9240, 'amount': 2290},\n",
       "   {'transaction-id': 9244, 'amount': 2076},\n",
       "   {'transaction-id': 9294, 'amount': 2043},\n",
       "   {'transaction-id': 9330, 'amount': 2189},\n",
       "   {'transaction-id': 9379, 'amount': 2060},\n",
       "   {'transaction-id': 9395, 'amount': 2057},\n",
       "   {'transaction-id': 9472, 'amount': 2002},\n",
       "   {'transaction-id': 9575, 'amount': 2110},\n",
       "   {'transaction-id': 9579, 'amount': 2129},\n",
       "   {'transaction-id': 9696, 'amount': 2076},\n",
       "   {'transaction-id': 9710, 'amount': 1997},\n",
       "   {'transaction-id': 9752, 'amount': 2136},\n",
       "   {'transaction-id': 9885, 'amount': 2090}]},\n",
       " {'id': 37,\n",
       "  'name': 'Alice',\n",
       "  'transactions': [{'transaction-id': 270, 'amount': 40},\n",
       "   {'transaction-id': 505, 'amount': 35},\n",
       "   {'transaction-id': 905, 'amount': 43},\n",
       "   {'transaction-id': 1551, 'amount': 47},\n",
       "   {'transaction-id': 2811, 'amount': 45},\n",
       "   {'transaction-id': 3270, 'amount': 31},\n",
       "   {'transaction-id': 3925, 'amount': 40},\n",
       "   {'transaction-id': 4110, 'amount': 37},\n",
       "   {'transaction-id': 5013, 'amount': 40},\n",
       "   {'transaction-id': 5495, 'amount': 42},\n",
       "   {'transaction-id': 5538, 'amount': 42},\n",
       "   {'transaction-id': 6493, 'amount': 44},\n",
       "   {'transaction-id': 6534, 'amount': 34},\n",
       "   {'transaction-id': 7330, 'amount': 40},\n",
       "   {'transaction-id': 7397, 'amount': 40},\n",
       "   {'transaction-id': 7614, 'amount': 35},\n",
       "   {'transaction-id': 8345, 'amount': 38}]},\n",
       " {'id': 61,\n",
       "  'name': 'Alice',\n",
       "  'transactions': [{'transaction-id': 451, 'amount': 209},\n",
       "   {'transaction-id': 936, 'amount': -220},\n",
       "   {'transaction-id': 952, 'amount': 154},\n",
       "   {'transaction-id': 957, 'amount': 0},\n",
       "   {'transaction-id': 987, 'amount': -194},\n",
       "   {'transaction-id': 1052, 'amount': 224},\n",
       "   {'transaction-id': 1103, 'amount': 187},\n",
       "   {'transaction-id': 1235, 'amount': 93},\n",
       "   {'transaction-id': 1281, 'amount': 249},\n",
       "   {'transaction-id': 1465, 'amount': 352},\n",
       "   {'transaction-id': 1648, 'amount': 111},\n",
       "   {'transaction-id': 2086, 'amount': 160},\n",
       "   {'transaction-id': 2150, 'amount': 179},\n",
       "   {'transaction-id': 2225, 'amount': 262},\n",
       "   {'transaction-id': 2393, 'amount': -44},\n",
       "   {'transaction-id': 2420, 'amount': -26},\n",
       "   {'transaction-id': 2536, 'amount': 241},\n",
       "   {'transaction-id': 2554, 'amount': 359},\n",
       "   {'transaction-id': 2976, 'amount': 169},\n",
       "   {'transaction-id': 3068, 'amount': 14},\n",
       "   {'transaction-id': 3273, 'amount': 1},\n",
       "   {'transaction-id': 3668, 'amount': 134},\n",
       "   {'transaction-id': 3754, 'amount': 223},\n",
       "   {'transaction-id': 4327, 'amount': 217},\n",
       "   {'transaction-id': 4429, 'amount': -1},\n",
       "   {'transaction-id': 4497, 'amount': 50},\n",
       "   {'transaction-id': 4521, 'amount': 198},\n",
       "   {'transaction-id': 4795, 'amount': 101},\n",
       "   {'transaction-id': 4874, 'amount': 349},\n",
       "   {'transaction-id': 4987, 'amount': 282},\n",
       "   {'transaction-id': 5516, 'amount': 91},\n",
       "   {'transaction-id': 5801, 'amount': 160},\n",
       "   {'transaction-id': 5973, 'amount': 294},\n",
       "   {'transaction-id': 6002, 'amount': 170},\n",
       "   {'transaction-id': 6038, 'amount': 126},\n",
       "   {'transaction-id': 6311, 'amount': 216},\n",
       "   {'transaction-id': 6574, 'amount': 179},\n",
       "   {'transaction-id': 6601, 'amount': 355},\n",
       "   {'transaction-id': 7003, 'amount': 217},\n",
       "   {'transaction-id': 7327, 'amount': 171},\n",
       "   {'transaction-id': 7356, 'amount': 459},\n",
       "   {'transaction-id': 8084, 'amount': 114},\n",
       "   {'transaction-id': 8220, 'amount': 133},\n",
       "   {'transaction-id': 8252, 'amount': 311},\n",
       "   {'transaction-id': 8435, 'amount': 247},\n",
       "   {'transaction-id': 8488, 'amount': 127},\n",
       "   {'transaction-id': 8572, 'amount': 221},\n",
       "   {'transaction-id': 8603, 'amount': 178},\n",
       "   {'transaction-id': 8617, 'amount': 54},\n",
       "   {'transaction-id': 8627, 'amount': 229},\n",
       "   {'transaction-id': 8655, 'amount': 151},\n",
       "   {'transaction-id': 8803, 'amount': 295},\n",
       "   {'transaction-id': 8910, 'amount': 143},\n",
       "   {'transaction-id': 8930, 'amount': 117},\n",
       "   {'transaction-id': 8958, 'amount': -101},\n",
       "   {'transaction-id': 9650, 'amount': -29},\n",
       "   {'transaction-id': 9750, 'amount': 106},\n",
       "   {'transaction-id': 9983, 'amount': 5}]},\n",
       " {'id': 63,\n",
       "  'name': 'Alice',\n",
       "  'transactions': [{'transaction-id': 321, 'amount': 903},\n",
       "   {'transaction-id': 429, 'amount': 925},\n",
       "   {'transaction-id': 435, 'amount': 726},\n",
       "   {'transaction-id': 583, 'amount': 758},\n",
       "   {'transaction-id': 818, 'amount': 671},\n",
       "   {'transaction-id': 902, 'amount': 742},\n",
       "   {'transaction-id': 1159, 'amount': 801},\n",
       "   {'transaction-id': 1185, 'amount': 856},\n",
       "   {'transaction-id': 1566, 'amount': 849},\n",
       "   {'transaction-id': 1665, 'amount': 908},\n",
       "   {'transaction-id': 2975, 'amount': 833},\n",
       "   {'transaction-id': 2983, 'amount': 876},\n",
       "   {'transaction-id': 3158, 'amount': 994},\n",
       "   {'transaction-id': 3342, 'amount': 861},\n",
       "   {'transaction-id': 3514, 'amount': 1020},\n",
       "   {'transaction-id': 3764, 'amount': 900},\n",
       "   {'transaction-id': 3883, 'amount': 780},\n",
       "   {'transaction-id': 4971, 'amount': 792},\n",
       "   {'transaction-id': 5561, 'amount': 773},\n",
       "   {'transaction-id': 5701, 'amount': 898},\n",
       "   {'transaction-id': 5833, 'amount': 885},\n",
       "   {'transaction-id': 6107, 'amount': 970},\n",
       "   {'transaction-id': 6221, 'amount': 983},\n",
       "   {'transaction-id': 6688, 'amount': 843},\n",
       "   {'transaction-id': 7333, 'amount': 743},\n",
       "   {'transaction-id': 7389, 'amount': 834},\n",
       "   {'transaction-id': 7642, 'amount': 864},\n",
       "   {'transaction-id': 7869, 'amount': 889},\n",
       "   {'transaction-id': 8193, 'amount': 747},\n",
       "   {'transaction-id': 8530, 'amount': 783},\n",
       "   {'transaction-id': 8618, 'amount': 811},\n",
       "   {'transaction-id': 8630, 'amount': 1075},\n",
       "   {'transaction-id': 8645, 'amount': 764},\n",
       "   {'transaction-id': 9241, 'amount': 826},\n",
       "   {'transaction-id': 9340, 'amount': 863},\n",
       "   {'transaction-id': 9435, 'amount': 840},\n",
       "   {'transaction-id': 9688, 'amount': 824},\n",
       "   {'transaction-id': 9725, 'amount': 717}]})"
      ]
     },
     "execution_count": 11,
     "metadata": {},
     "output_type": "execute_result"
    }
   ],
   "source": [
    "# filter: keep only some elements of the sequence\n",
    "js.filter(lambda record: record['name'] == 'Alice').take(5)"
   ]
  },
  {
   "cell_type": "code",
   "execution_count": 12,
   "metadata": {
    "execution": {
     "iopub.execute_input": "2022-01-25T15:00:18.061633Z",
     "iopub.status.busy": "2022-01-25T15:00:18.052991Z",
     "iopub.status.idle": "2022-01-25T15:00:18.078021Z",
     "shell.execute_reply": "2022-01-25T15:00:18.077391Z"
    }
   },
   "outputs": [
    {
     "data": {
      "text/plain": [
       "({'name': 'Alice', 'count': 58},\n",
       " {'name': 'Alice', 'count': 126},\n",
       " {'name': 'Alice', 'count': 17},\n",
       " {'name': 'Alice', 'count': 58},\n",
       " {'name': 'Alice', 'count': 38})"
      ]
     },
     "execution_count": 12,
     "metadata": {},
     "output_type": "execute_result"
    }
   ],
   "source": [
    "def count_transactions(d):\n",
    "    return {'name': d['name'], 'count': len(d['transactions'])}\n",
    "\n",
    "# map: apply a function to each element\n",
    "(js.filter(lambda record: record['name'] == 'Alice')\n",
    "   .map(count_transactions)\n",
    "   .take(5))"
   ]
  },
  {
   "cell_type": "code",
   "execution_count": 13,
   "metadata": {
    "execution": {
     "iopub.execute_input": "2022-01-25T15:00:18.089164Z",
     "iopub.status.busy": "2022-01-25T15:00:18.088646Z",
     "iopub.status.idle": "2022-01-25T15:00:18.107119Z",
     "shell.execute_reply": "2022-01-25T15:00:18.107496Z"
    }
   },
   "outputs": [
    {
     "data": {
      "text/plain": [
       "(58, 126, 17, 58, 38)"
      ]
     },
     "execution_count": 13,
     "metadata": {},
     "output_type": "execute_result"
    }
   ],
   "source": [
    "# pluck: select a field, as from a dictionary, element[field]\n",
    "(js.filter(lambda record: record['name'] == 'Alice')\n",
    "   .map(count_transactions)\n",
    "   .pluck('count')\n",
    "   .take(5))"
   ]
  },
  {
   "cell_type": "code",
   "execution_count": 14,
   "metadata": {
    "execution": {
     "iopub.execute_input": "2022-01-25T15:00:18.114641Z",
     "iopub.status.busy": "2022-01-25T15:00:18.112308Z",
     "iopub.status.idle": "2022-01-25T15:00:18.685074Z",
     "shell.execute_reply": "2022-01-25T15:00:18.685489Z"
    }
   },
   "outputs": [
    {
     "data": {
      "text/plain": [
       "47.88623853211009"
      ]
     },
     "execution_count": 14,
     "metadata": {},
     "output_type": "execute_result"
    }
   ],
   "source": [
    "# Average number of transactions for all of the Alice entries\n",
    "(js.filter(lambda record: record['name'] == 'Alice')\n",
    "   .map(count_transactions)\n",
    "   .pluck('count')\n",
    "   .mean()\n",
    "   .compute())"
   ]
  },
  {
   "cell_type": "markdown",
   "metadata": {},
   "source": [
    "### Use `flatten` to de-nest"
   ]
  },
  {
   "cell_type": "markdown",
   "metadata": {},
   "source": [
    "In the example below we see the use of `.flatten()` to flatten results.  We compute the average amount for all transactions for all Alices."
   ]
  },
  {
   "cell_type": "code",
   "execution_count": 15,
   "metadata": {
    "execution": {
     "iopub.execute_input": "2022-01-25T15:00:18.691660Z",
     "iopub.status.busy": "2022-01-25T15:00:18.691168Z",
     "iopub.status.idle": "2022-01-25T15:00:18.731609Z",
     "shell.execute_reply": "2022-01-25T15:00:18.729697Z"
    }
   },
   "outputs": [
    {
     "data": {
      "text/plain": [
       "([{'transaction-id': 25, 'amount': 1697},\n",
       "  {'transaction-id': 214, 'amount': 1661},\n",
       "  {'transaction-id': 289, 'amount': 1624},\n",
       "  {'transaction-id': 882, 'amount': 1649},\n",
       "  {'transaction-id': 1213, 'amount': 1413},\n",
       "  {'transaction-id': 1242, 'amount': 1679},\n",
       "  {'transaction-id': 1262, 'amount': 1581},\n",
       "  {'transaction-id': 1414, 'amount': 1506},\n",
       "  {'transaction-id': 1499, 'amount': 1721},\n",
       "  {'transaction-id': 1785, 'amount': 1594},\n",
       "  {'transaction-id': 1899, 'amount': 1552},\n",
       "  {'transaction-id': 2117, 'amount': 1753},\n",
       "  {'transaction-id': 2141, 'amount': 1609},\n",
       "  {'transaction-id': 2234, 'amount': 1560},\n",
       "  {'transaction-id': 2310, 'amount': 1454},\n",
       "  {'transaction-id': 2601, 'amount': 1596},\n",
       "  {'transaction-id': 2697, 'amount': 1573},\n",
       "  {'transaction-id': 2768, 'amount': 1756},\n",
       "  {'transaction-id': 2784, 'amount': 1642},\n",
       "  {'transaction-id': 2906, 'amount': 1536},\n",
       "  {'transaction-id': 2945, 'amount': 1532},\n",
       "  {'transaction-id': 2970, 'amount': 1477},\n",
       "  {'transaction-id': 3021, 'amount': 1554},\n",
       "  {'transaction-id': 3103, 'amount': 1438},\n",
       "  {'transaction-id': 3385, 'amount': 1481},\n",
       "  {'transaction-id': 3807, 'amount': 1757},\n",
       "  {'transaction-id': 3906, 'amount': 1604},\n",
       "  {'transaction-id': 4083, 'amount': 1723},\n",
       "  {'transaction-id': 4326, 'amount': 1686},\n",
       "  {'transaction-id': 4516, 'amount': 1511},\n",
       "  {'transaction-id': 4599, 'amount': 1464},\n",
       "  {'transaction-id': 4625, 'amount': 1600},\n",
       "  {'transaction-id': 4721, 'amount': 1484},\n",
       "  {'transaction-id': 4866, 'amount': 1634},\n",
       "  {'transaction-id': 5021, 'amount': 1426},\n",
       "  {'transaction-id': 5093, 'amount': 1524},\n",
       "  {'transaction-id': 6245, 'amount': 1763},\n",
       "  {'transaction-id': 6386, 'amount': 1531},\n",
       "  {'transaction-id': 6540, 'amount': 1660},\n",
       "  {'transaction-id': 6587, 'amount': 1642},\n",
       "  {'transaction-id': 6664, 'amount': 1443},\n",
       "  {'transaction-id': 6677, 'amount': 1713},\n",
       "  {'transaction-id': 6812, 'amount': 1563},\n",
       "  {'transaction-id': 7185, 'amount': 1709},\n",
       "  {'transaction-id': 7218, 'amount': 1567},\n",
       "  {'transaction-id': 7577, 'amount': 1359},\n",
       "  {'transaction-id': 7650, 'amount': 1479},\n",
       "  {'transaction-id': 7851, 'amount': 1663},\n",
       "  {'transaction-id': 8169, 'amount': 1643},\n",
       "  {'transaction-id': 8306, 'amount': 1706},\n",
       "  {'transaction-id': 8566, 'amount': 1470},\n",
       "  {'transaction-id': 8764, 'amount': 1741},\n",
       "  {'transaction-id': 8967, 'amount': 1610},\n",
       "  {'transaction-id': 9024, 'amount': 1555},\n",
       "  {'transaction-id': 9187, 'amount': 1550},\n",
       "  {'transaction-id': 9480, 'amount': 1662},\n",
       "  {'transaction-id': 9834, 'amount': 1619},\n",
       "  {'transaction-id': 9945, 'amount': 1703}],\n",
       " [{'transaction-id': 493, 'amount': 2095},\n",
       "  {'transaction-id': 628, 'amount': 2140},\n",
       "  {'transaction-id': 681, 'amount': 2133},\n",
       "  {'transaction-id': 723, 'amount': 2122},\n",
       "  {'transaction-id': 791, 'amount': 2163},\n",
       "  {'transaction-id': 917, 'amount': 2072},\n",
       "  {'transaction-id': 1026, 'amount': 2100},\n",
       "  {'transaction-id': 1246, 'amount': 2143},\n",
       "  {'transaction-id': 1350, 'amount': 2041},\n",
       "  {'transaction-id': 1434, 'amount': 2141},\n",
       "  {'transaction-id': 1452, 'amount': 2159},\n",
       "  {'transaction-id': 1493, 'amount': 2222},\n",
       "  {'transaction-id': 1534, 'amount': 2213},\n",
       "  {'transaction-id': 1594, 'amount': 2032},\n",
       "  {'transaction-id': 1634, 'amount': 2204},\n",
       "  {'transaction-id': 1698, 'amount': 2108},\n",
       "  {'transaction-id': 1799, 'amount': 2195},\n",
       "  {'transaction-id': 1853, 'amount': 2185},\n",
       "  {'transaction-id': 1863, 'amount': 2076},\n",
       "  {'transaction-id': 2286, 'amount': 2262},\n",
       "  {'transaction-id': 2290, 'amount': 2033},\n",
       "  {'transaction-id': 2429, 'amount': 2198},\n",
       "  {'transaction-id': 2643, 'amount': 2075},\n",
       "  {'transaction-id': 2670, 'amount': 2126},\n",
       "  {'transaction-id': 2753, 'amount': 2018},\n",
       "  {'transaction-id': 2801, 'amount': 2221},\n",
       "  {'transaction-id': 2896, 'amount': 2228},\n",
       "  {'transaction-id': 2919, 'amount': 2057},\n",
       "  {'transaction-id': 2950, 'amount': 2063},\n",
       "  {'transaction-id': 3055, 'amount': 2187},\n",
       "  {'transaction-id': 3107, 'amount': 2138},\n",
       "  {'transaction-id': 3115, 'amount': 2087},\n",
       "  {'transaction-id': 3204, 'amount': 2130},\n",
       "  {'transaction-id': 3278, 'amount': 2082},\n",
       "  {'transaction-id': 3512, 'amount': 2029},\n",
       "  {'transaction-id': 3551, 'amount': 2022},\n",
       "  {'transaction-id': 3557, 'amount': 2154},\n",
       "  {'transaction-id': 3665, 'amount': 1991},\n",
       "  {'transaction-id': 3756, 'amount': 2185},\n",
       "  {'transaction-id': 3871, 'amount': 1966},\n",
       "  {'transaction-id': 4090, 'amount': 2135},\n",
       "  {'transaction-id': 4103, 'amount': 2157},\n",
       "  {'transaction-id': 4195, 'amount': 2127},\n",
       "  {'transaction-id': 4218, 'amount': 2087},\n",
       "  {'transaction-id': 4258, 'amount': 2149},\n",
       "  {'transaction-id': 4311, 'amount': 2156},\n",
       "  {'transaction-id': 4374, 'amount': 2146},\n",
       "  {'transaction-id': 4379, 'amount': 2020},\n",
       "  {'transaction-id': 4380, 'amount': 2157},\n",
       "  {'transaction-id': 4441, 'amount': 1920},\n",
       "  {'transaction-id': 4548, 'amount': 2073},\n",
       "  {'transaction-id': 4699, 'amount': 2074},\n",
       "  {'transaction-id': 4750, 'amount': 2221},\n",
       "  {'transaction-id': 4824, 'amount': 2151},\n",
       "  {'transaction-id': 4855, 'amount': 2218},\n",
       "  {'transaction-id': 4927, 'amount': 2069},\n",
       "  {'transaction-id': 4946, 'amount': 2174},\n",
       "  {'transaction-id': 4954, 'amount': 2229},\n",
       "  {'transaction-id': 5272, 'amount': 2096},\n",
       "  {'transaction-id': 5415, 'amount': 2134},\n",
       "  {'transaction-id': 5483, 'amount': 2044},\n",
       "  {'transaction-id': 5571, 'amount': 2036},\n",
       "  {'transaction-id': 5590, 'amount': 2079},\n",
       "  {'transaction-id': 5672, 'amount': 2223},\n",
       "  {'transaction-id': 5715, 'amount': 2245},\n",
       "  {'transaction-id': 5732, 'amount': 2096},\n",
       "  {'transaction-id': 5775, 'amount': 2066},\n",
       "  {'transaction-id': 5814, 'amount': 2028},\n",
       "  {'transaction-id': 5892, 'amount': 2059},\n",
       "  {'transaction-id': 5982, 'amount': 2020},\n",
       "  {'transaction-id': 6149, 'amount': 2020},\n",
       "  {'transaction-id': 6165, 'amount': 2114},\n",
       "  {'transaction-id': 6198, 'amount': 2173},\n",
       "  {'transaction-id': 6220, 'amount': 2091},\n",
       "  {'transaction-id': 6223, 'amount': 2087},\n",
       "  {'transaction-id': 6356, 'amount': 2341},\n",
       "  {'transaction-id': 6489, 'amount': 2191},\n",
       "  {'transaction-id': 6492, 'amount': 2210},\n",
       "  {'transaction-id': 6508, 'amount': 2150},\n",
       "  {'transaction-id': 6558, 'amount': 2161},\n",
       "  {'transaction-id': 6595, 'amount': 2076},\n",
       "  {'transaction-id': 6604, 'amount': 2108},\n",
       "  {'transaction-id': 6763, 'amount': 2203},\n",
       "  {'transaction-id': 6842, 'amount': 2196},\n",
       "  {'transaction-id': 6958, 'amount': 2036},\n",
       "  {'transaction-id': 7070, 'amount': 2117},\n",
       "  {'transaction-id': 7106, 'amount': 2172},\n",
       "  {'transaction-id': 7264, 'amount': 2069},\n",
       "  {'transaction-id': 7307, 'amount': 2097},\n",
       "  {'transaction-id': 7346, 'amount': 2058},\n",
       "  {'transaction-id': 7375, 'amount': 2069},\n",
       "  {'transaction-id': 7518, 'amount': 2125},\n",
       "  {'transaction-id': 7545, 'amount': 2087},\n",
       "  {'transaction-id': 7711, 'amount': 2139},\n",
       "  {'transaction-id': 7902, 'amount': 2106},\n",
       "  {'transaction-id': 7949, 'amount': 2101},\n",
       "  {'transaction-id': 7969, 'amount': 2160},\n",
       "  {'transaction-id': 8061, 'amount': 2096},\n",
       "  {'transaction-id': 8071, 'amount': 2124},\n",
       "  {'transaction-id': 8163, 'amount': 2161},\n",
       "  {'transaction-id': 8323, 'amount': 2218},\n",
       "  {'transaction-id': 8326, 'amount': 2157},\n",
       "  {'transaction-id': 8428, 'amount': 2039},\n",
       "  {'transaction-id': 8448, 'amount': 2134},\n",
       "  {'transaction-id': 8463, 'amount': 2035},\n",
       "  {'transaction-id': 8592, 'amount': 2116},\n",
       "  {'transaction-id': 8658, 'amount': 2176},\n",
       "  {'transaction-id': 8895, 'amount': 2165},\n",
       "  {'transaction-id': 8941, 'amount': 2153},\n",
       "  {'transaction-id': 8951, 'amount': 2150},\n",
       "  {'transaction-id': 9013, 'amount': 2040},\n",
       "  {'transaction-id': 9058, 'amount': 2082},\n",
       "  {'transaction-id': 9110, 'amount': 2167},\n",
       "  {'transaction-id': 9240, 'amount': 2290},\n",
       "  {'transaction-id': 9244, 'amount': 2076},\n",
       "  {'transaction-id': 9294, 'amount': 2043},\n",
       "  {'transaction-id': 9330, 'amount': 2189},\n",
       "  {'transaction-id': 9379, 'amount': 2060},\n",
       "  {'transaction-id': 9395, 'amount': 2057},\n",
       "  {'transaction-id': 9472, 'amount': 2002},\n",
       "  {'transaction-id': 9575, 'amount': 2110},\n",
       "  {'transaction-id': 9579, 'amount': 2129},\n",
       "  {'transaction-id': 9696, 'amount': 2076},\n",
       "  {'transaction-id': 9710, 'amount': 1997},\n",
       "  {'transaction-id': 9752, 'amount': 2136},\n",
       "  {'transaction-id': 9885, 'amount': 2090}],\n",
       " [{'transaction-id': 270, 'amount': 40},\n",
       "  {'transaction-id': 505, 'amount': 35},\n",
       "  {'transaction-id': 905, 'amount': 43},\n",
       "  {'transaction-id': 1551, 'amount': 47},\n",
       "  {'transaction-id': 2811, 'amount': 45},\n",
       "  {'transaction-id': 3270, 'amount': 31},\n",
       "  {'transaction-id': 3925, 'amount': 40},\n",
       "  {'transaction-id': 4110, 'amount': 37},\n",
       "  {'transaction-id': 5013, 'amount': 40},\n",
       "  {'transaction-id': 5495, 'amount': 42},\n",
       "  {'transaction-id': 5538, 'amount': 42},\n",
       "  {'transaction-id': 6493, 'amount': 44},\n",
       "  {'transaction-id': 6534, 'amount': 34},\n",
       "  {'transaction-id': 7330, 'amount': 40},\n",
       "  {'transaction-id': 7397, 'amount': 40},\n",
       "  {'transaction-id': 7614, 'amount': 35},\n",
       "  {'transaction-id': 8345, 'amount': 38}])"
      ]
     },
     "execution_count": 15,
     "metadata": {},
     "output_type": "execute_result"
    }
   ],
   "source": [
    "(js.filter(lambda record: record['name'] == 'Alice')\n",
    "   .pluck('transactions')\n",
    "   .take(3))"
   ]
  },
  {
   "cell_type": "code",
   "execution_count": 16,
   "metadata": {
    "execution": {
     "iopub.execute_input": "2022-01-25T15:00:18.737175Z",
     "iopub.status.busy": "2022-01-25T15:00:18.736702Z",
     "iopub.status.idle": "2022-01-25T15:00:18.765401Z",
     "shell.execute_reply": "2022-01-25T15:00:18.764701Z"
    }
   },
   "outputs": [
    {
     "data": {
      "text/plain": [
       "({'transaction-id': 25, 'amount': 1697},\n",
       " {'transaction-id': 214, 'amount': 1661},\n",
       " {'transaction-id': 289, 'amount': 1624})"
      ]
     },
     "execution_count": 16,
     "metadata": {},
     "output_type": "execute_result"
    }
   ],
   "source": [
    "(js.filter(lambda record: record['name'] == 'Alice')\n",
    "   .pluck('transactions')\n",
    "   .flatten()\n",
    "   .take(3))"
   ]
  },
  {
   "cell_type": "code",
   "execution_count": 17,
   "metadata": {
    "execution": {
     "iopub.execute_input": "2022-01-25T15:00:18.778626Z",
     "iopub.status.busy": "2022-01-25T15:00:18.768069Z",
     "iopub.status.idle": "2022-01-25T15:00:18.796248Z",
     "shell.execute_reply": "2022-01-25T15:00:18.795816Z"
    }
   },
   "outputs": [
    {
     "data": {
      "text/plain": [
       "(1697, 1661, 1624)"
      ]
     },
     "execution_count": 17,
     "metadata": {},
     "output_type": "execute_result"
    }
   ],
   "source": [
    "(js.filter(lambda record: record['name'] == 'Alice')\n",
    "   .pluck('transactions')\n",
    "   .flatten()\n",
    "   .pluck('amount')\n",
    "   .take(3))"
   ]
  },
  {
   "cell_type": "code",
   "execution_count": 18,
   "metadata": {
    "execution": {
     "iopub.execute_input": "2022-01-25T15:00:18.801772Z",
     "iopub.status.busy": "2022-01-25T15:00:18.801315Z",
     "iopub.status.idle": "2022-01-25T15:00:19.255042Z",
     "shell.execute_reply": "2022-01-25T15:00:19.254608Z"
    }
   },
   "outputs": [
    {
     "data": {
      "text/plain": [
       "789.3863514445551"
      ]
     },
     "execution_count": 18,
     "metadata": {},
     "output_type": "execute_result"
    }
   ],
   "source": [
    "(js.filter(lambda record: record['name'] == 'Alice')\n",
    "   .pluck('transactions')\n",
    "   .flatten()\n",
    "   .pluck('amount')\n",
    "   .mean()\n",
    "   .compute())"
   ]
  },
  {
   "cell_type": "markdown",
   "metadata": {},
   "source": [
    "### Groupby and Foldby"
   ]
  },
  {
   "cell_type": "markdown",
   "metadata": {},
   "source": [
    "Often we want to group data by some function or key.  We can do this either with the `.groupby` method, which is straightforward but forces a full shuffle of the data (expensive) or with the harder-to-use but faster `.foldby` method, which does a streaming combined groupby and reduction.\n",
    "\n",
    "*  `groupby`:  Shuffles data so that all items with the same key are in the same key-value pair\n",
    "*  `foldby`:  Walks through the data accumulating a result per key\n",
    "\n",
    "*Note: the full groupby is particularly bad. In actual workloads you would do well to use `foldby` or switch to `DataFrame`s if possible.*"
   ]
  },
  {
   "cell_type": "markdown",
   "metadata": {},
   "source": [
    "### `groupby`"
   ]
  },
  {
   "cell_type": "markdown",
   "metadata": {},
   "source": [
    "Groupby collects items in your collection so that all items with the same value under some function are collected together into a key-value pair."
   ]
  },
  {
   "cell_type": "code",
   "execution_count": 19,
   "metadata": {
    "execution": {
     "iopub.execute_input": "2022-01-25T15:00:19.271061Z",
     "iopub.status.busy": "2022-01-25T15:00:19.270393Z",
     "iopub.status.idle": "2022-01-25T15:00:19.369398Z",
     "shell.execute_reply": "2022-01-25T15:00:19.368622Z"
    }
   },
   "outputs": [
    {
     "data": {
      "text/plain": [
       "[(7, ['Charlie']), (3, ['Bob', 'Dan']), (5, ['Alice', 'Edith', 'Frank'])]"
      ]
     },
     "execution_count": 19,
     "metadata": {},
     "output_type": "execute_result"
    }
   ],
   "source": [
    "b = db.from_sequence(['Alice', 'Bob', 'Charlie', 'Dan', 'Edith', 'Frank'])\n",
    "b.groupby(len).compute()  # names grouped by length"
   ]
  },
  {
   "cell_type": "code",
   "execution_count": 20,
   "metadata": {
    "execution": {
     "iopub.execute_input": "2022-01-25T15:00:19.380719Z",
     "iopub.status.busy": "2022-01-25T15:00:19.380203Z",
     "iopub.status.idle": "2022-01-25T15:00:19.532248Z",
     "shell.execute_reply": "2022-01-25T15:00:19.531365Z"
    }
   },
   "outputs": [
    {
     "data": {
      "text/plain": [
       "[(0, [0, 2, 4, 6, 8]), (1, [1, 3, 5, 7, 9])]"
      ]
     },
     "execution_count": 20,
     "metadata": {},
     "output_type": "execute_result"
    }
   ],
   "source": [
    "b = db.from_sequence(list(range(10)))\n",
    "b.groupby(lambda x: x % 2).compute()"
   ]
  },
  {
   "cell_type": "code",
   "execution_count": 21,
   "metadata": {
    "execution": {
     "iopub.execute_input": "2022-01-25T15:00:19.543719Z",
     "iopub.status.busy": "2022-01-25T15:00:19.542876Z",
     "iopub.status.idle": "2022-01-25T15:00:19.704370Z",
     "shell.execute_reply": "2022-01-25T15:00:19.703655Z"
    }
   },
   "outputs": [
    {
     "data": {
      "text/plain": [
       "[(0, 8), (1, 9)]"
      ]
     },
     "execution_count": 21,
     "metadata": {},
     "output_type": "execute_result"
    }
   ],
   "source": [
    "b.groupby(lambda x: x % 2).starmap(lambda k, v: (k, max(v))).compute()"
   ]
  },
  {
   "cell_type": "markdown",
   "metadata": {},
   "source": [
    "### `foldby`"
   ]
  },
  {
   "cell_type": "markdown",
   "metadata": {},
   "source": [
    "Foldby can be quite odd at first.  It is similar to the following functions from other libraries:\n",
    "\n",
    "*  [`toolz.reduceby`](http://toolz.readthedocs.io/en/latest/streaming-analytics.html#streaming-split-apply-combine)\n",
    "*  [`pyspark.RDD.combineByKey`](http://abshinn.github.io/python/apache-spark/2014/10/11/using-combinebykey-in-apache-spark/)\n",
    "\n",
    "When using `foldby` you provide \n",
    "\n",
    "1.  A key function on which to group elements\n",
    "2.  A binary operator such as you would pass to `reduce` that you use to perform reduction per each group\n",
    "3.  A combine binary operator that can combine the results of two `reduce` calls on different parts of your dataset.\n",
    "\n",
    "Your reduction must be associative.  It will happen in parallel in each of the partitions of your dataset.  Then all of these intermediate results will be combined by the `combine` binary operator."
   ]
  },
  {
   "cell_type": "code",
   "execution_count": 22,
   "metadata": {
    "execution": {
     "iopub.execute_input": "2022-01-25T15:00:19.709119Z",
     "iopub.status.busy": "2022-01-25T15:00:19.708517Z",
     "iopub.status.idle": "2022-01-25T15:00:19.774717Z",
     "shell.execute_reply": "2022-01-25T15:00:19.774268Z"
    }
   },
   "outputs": [
    {
     "data": {
      "text/plain": [
       "[(0, 8), (1, 9)]"
      ]
     },
     "execution_count": 22,
     "metadata": {},
     "output_type": "execute_result"
    }
   ],
   "source": [
    "b.foldby(lambda x: x % 2, binop=max, combine=max).compute()"
   ]
  },
  {
   "cell_type": "markdown",
   "metadata": {},
   "source": [
    "### Example with account data"
   ]
  },
  {
   "cell_type": "markdown",
   "metadata": {},
   "source": [
    "We find the number of people with the same name."
   ]
  },
  {
   "cell_type": "code",
   "execution_count": 23,
   "metadata": {
    "execution": {
     "iopub.execute_input": "2022-01-25T15:00:19.795091Z",
     "iopub.status.busy": "2022-01-25T15:00:19.794051Z",
     "iopub.status.idle": "2022-01-25T15:00:24.727406Z",
     "shell.execute_reply": "2022-01-25T15:00:24.726957Z"
    }
   },
   "outputs": [
    {
     "name": "stdout",
     "output_type": "stream",
     "text": [
      "[('Alice', 129), ('Alice', 130), ('Alice', 132), ('Alice', 154), ('Bob', 135), ('Bob', 135), ('Bob', 137), ('Bob', 158), ('Charlie', 96), ('Charlie', 96), ('Charlie', 96), ('Charlie', 112), ('Dan', 108), ('Dan', 108), ('Dan', 108), ('Dan', 126), ('Edith', 93), ('Edith', 97), ('Edith', 98), ('Edith', 111), ('Frank', 119), ('Frank', 120), ('Frank', 120), ('Frank', 139), ('George', 43), ('George', 45), ('George', 45), ('George', 53), ('Hannah', 168), ('Hannah', 168), ('Hannah', 168), ('Hannah', 196), ('Ingrid', 180), ('Ingrid', 209), ('Ingrid', 359), ('Jerry', 71), ('Jerry', 71), ('Jerry', 72), ('Jerry', 84), ('Kevin', 119), ('Kevin', 119), ('Kevin', 120), ('Kevin', 140), ('Laura', 84), ('Laura', 84), ('Laura', 84), ('Laura', 98), ('Michael', 117), ('Michael', 119), ('Michael', 120), ('Michael', 140), ('Norbert', 155), ('Norbert', 155), ('Norbert', 156), ('Norbert', 181), ('Oliver', 96), ('Oliver', 96), ('Oliver', 96), ('Oliver', 112), ('Patricia', 48), ('Patricia', 48), ('Patricia', 104), ('Quinn', 85), ('Quinn', 86), ('Quinn', 87), ('Quinn', 105), ('Ray', 144), ('Ray', 144), ('Ray', 144), ('Ray', 168), ('Sarah', 112), ('Sarah', 114), ('Sarah', 117), ('Sarah', 135), ('Tim', 89), ('Tim', 95), ('Tim', 95), ('Tim', 107), ('Ursula', 92), ('Ursula', 93), ('Ursula', 94), ('Ursula', 105), ('Victor', 113), ('Victor', 115), ('Victor', 116), ('Victor', 137), ('Wendy', 171), ('Wendy', 171), ('Wendy', 172), ('Wendy', 202), ('Xavier', 117), ('Xavier', 119), ('Xavier', 120), ('Xavier', 139), ('Yvonne', 180), ('Yvonne', 210), ('Yvonne', 360), ('Zelda', 36), ('Zelda', 36), ('Zelda', 78)]\n",
      "CPU times: user 1.04 s, sys: 78.4 ms, total: 1.11 s\n",
      "Wall time: 4.94 s\n"
     ]
    }
   ],
   "source": [
    "%%time\n",
    "# Warning, this one takes a while...\n",
    "result = js.groupby(lambda item: item['name']).starmap(lambda k, v: (k, len(v))).compute()\n",
    "print(sorted(result))"
   ]
  },
  {
   "cell_type": "code",
   "execution_count": 24,
   "metadata": {
    "execution": {
     "iopub.execute_input": "2022-01-25T15:00:24.751733Z",
     "iopub.status.busy": "2022-01-25T15:00:24.746690Z",
     "iopub.status.idle": "2022-01-25T15:00:25.343372Z",
     "shell.execute_reply": "2022-01-25T15:00:25.342951Z"
    }
   },
   "outputs": [
    {
     "name": "stdout",
     "output_type": "stream",
     "text": [
      "[('Alice', 545), ('Bob', 565), ('Charlie', 400), ('Dan', 450), ('Edith', 399), ('Frank', 498), ('George', 186), ('Hannah', 700), ('Ingrid', 748), ('Jerry', 298), ('Kevin', 498), ('Laura', 350), ('Michael', 496), ('Norbert', 647), ('Oliver', 400), ('Patricia', 200), ('Quinn', 363), ('Ray', 600), ('Sarah', 478), ('Tim', 386), ('Ursula', 384), ('Victor', 481), ('Wendy', 716), ('Xavier', 495), ('Yvonne', 750), ('Zelda', 150)]\n",
      "CPU times: user 213 ms, sys: 16.9 ms, total: 230 ms\n",
      "Wall time: 581 ms\n"
     ]
    }
   ],
   "source": [
    "%%time\n",
    "# This one is comparatively fast and produces the same result.\n",
    "from operator import add\n",
    "def incr(tot, _):\n",
    "    return tot + 1\n",
    "\n",
    "result = js.foldby(key='name', \n",
    "                   binop=incr, \n",
    "                   initial=0, \n",
    "                   combine=add, \n",
    "                   combine_initial=0).compute()\n",
    "print(sorted(result))"
   ]
  },
  {
   "cell_type": "markdown",
   "metadata": {},
   "source": [
    "### Exercise: compute total amount per name"
   ]
  },
  {
   "cell_type": "markdown",
   "metadata": {},
   "source": [
    "We want to groupby (or foldby) the `name` key, then add up the all of the amounts for each name.\n",
    "\n",
    "Steps\n",
    "\n",
    "1.  Create a small function that, given a dictionary like \n",
    "\n",
    "        {'name': 'Alice', 'transactions': [{'amount': 1, 'id': 123}, {'amount': 2, 'id': 456}]}\n",
    "        \n",
    "    produces the sum of the amounts, e.g. `3`\n",
    "    \n",
    "2.  Slightly change the binary operator of the `foldby` example above so that the binary operator doesn't count the number of entries, but instead accumulates the sum of the amounts."
   ]
  },
  {
   "cell_type": "code",
   "execution_count": 25,
   "metadata": {
    "execution": {
     "iopub.execute_input": "2022-01-25T15:00:25.346208Z",
     "iopub.status.busy": "2022-01-25T15:00:25.345787Z",
     "iopub.status.idle": "2022-01-25T15:00:25.349772Z",
     "shell.execute_reply": "2022-01-25T15:00:25.349354Z"
    }
   },
   "outputs": [],
   "source": [
    "# Your code here..."
   ]
  },
  {
   "cell_type": "markdown",
   "metadata": {},
   "source": [
    "## DataFrames"
   ]
  },
  {
   "cell_type": "markdown",
   "metadata": {},
   "source": [
    "For the same reasons that Pandas is often faster than pure Python, `dask.dataframe` can be faster than `dask.bag`.  We will work more with DataFrames later, but from the point of view of a Bag, it is frequently the end-point of the \"messy\" part of data ingestion—once the data can be made into a data-frame, then complex split-apply-combine logic will become much more straight-forward and efficient.\n",
    "\n",
    "You can transform a bag with a simple tuple or flat dictionary structure into a `dask.dataframe` with the `to_dataframe` method."
   ]
  },
  {
   "cell_type": "code",
   "execution_count": 26,
   "metadata": {
    "execution": {
     "iopub.execute_input": "2022-01-25T15:00:25.354605Z",
     "iopub.status.busy": "2022-01-25T15:00:25.353510Z",
     "iopub.status.idle": "2022-01-25T15:00:25.854683Z",
     "shell.execute_reply": "2022-01-25T15:00:25.855055Z"
    }
   },
   "outputs": [
    {
     "name": "stderr",
     "output_type": "stream",
     "text": [
      "/usr/share/miniconda3/envs/dask-tutorial/lib/python3.8/site-packages/dask/dataframe/backends.py:187: FutureWarning: pandas.Int64Index is deprecated and will be removed from pandas in a future version. Use pandas.Index with the appropriate dtype instead.\n",
      "  _numeric_index_types = (pd.Int64Index, pd.Float64Index, pd.UInt64Index)\n",
      "/usr/share/miniconda3/envs/dask-tutorial/lib/python3.8/site-packages/dask/dataframe/backends.py:187: FutureWarning: pandas.Float64Index is deprecated and will be removed from pandas in a future version. Use pandas.Index with the appropriate dtype instead.\n",
      "  _numeric_index_types = (pd.Int64Index, pd.Float64Index, pd.UInt64Index)\n",
      "/usr/share/miniconda3/envs/dask-tutorial/lib/python3.8/site-packages/dask/dataframe/backends.py:187: FutureWarning: pandas.UInt64Index is deprecated and will be removed from pandas in a future version. Use pandas.Index with the appropriate dtype instead.\n",
      "  _numeric_index_types = (pd.Int64Index, pd.Float64Index, pd.UInt64Index)\n"
     ]
    },
    {
     "data": {
      "text/html": [
       "<div>\n",
       "<style scoped>\n",
       "    .dataframe tbody tr th:only-of-type {\n",
       "        vertical-align: middle;\n",
       "    }\n",
       "\n",
       "    .dataframe tbody tr th {\n",
       "        vertical-align: top;\n",
       "    }\n",
       "\n",
       "    .dataframe thead th {\n",
       "        text-align: right;\n",
       "    }\n",
       "</style>\n",
       "<table border=\"1\" class=\"dataframe\">\n",
       "  <thead>\n",
       "    <tr style=\"text-align: right;\">\n",
       "      <th></th>\n",
       "      <th>id</th>\n",
       "      <th>name</th>\n",
       "      <th>transactions</th>\n",
       "    </tr>\n",
       "  </thead>\n",
       "  <tbody>\n",
       "    <tr>\n",
       "      <th>0</th>\n",
       "      <td>0</td>\n",
       "      <td>Oliver</td>\n",
       "      <td>[{'transaction-id': 559, 'amount': 5943}, {'tr...</td>\n",
       "    </tr>\n",
       "    <tr>\n",
       "      <th>1</th>\n",
       "      <td>1</td>\n",
       "      <td>Wendy</td>\n",
       "      <td>[{'transaction-id': 1317, 'amount': 254}, {'tr...</td>\n",
       "    </tr>\n",
       "    <tr>\n",
       "      <th>2</th>\n",
       "      <td>2</td>\n",
       "      <td>Alice</td>\n",
       "      <td>[{'transaction-id': 25, 'amount': 1697}, {'tra...</td>\n",
       "    </tr>\n",
       "    <tr>\n",
       "      <th>3</th>\n",
       "      <td>3</td>\n",
       "      <td>Alice</td>\n",
       "      <td>[{'transaction-id': 493, 'amount': 2095}, {'tr...</td>\n",
       "    </tr>\n",
       "    <tr>\n",
       "      <th>4</th>\n",
       "      <td>4</td>\n",
       "      <td>Hannah</td>\n",
       "      <td>[{'transaction-id': 613, 'amount': 7113}, {'tr...</td>\n",
       "    </tr>\n",
       "  </tbody>\n",
       "</table>\n",
       "</div>"
      ],
      "text/plain": [
       "   id    name                                       transactions\n",
       "0   0  Oliver  [{'transaction-id': 559, 'amount': 5943}, {'tr...\n",
       "1   1   Wendy  [{'transaction-id': 1317, 'amount': 254}, {'tr...\n",
       "2   2   Alice  [{'transaction-id': 25, 'amount': 1697}, {'tra...\n",
       "3   3   Alice  [{'transaction-id': 493, 'amount': 2095}, {'tr...\n",
       "4   4  Hannah  [{'transaction-id': 613, 'amount': 7113}, {'tr..."
      ]
     },
     "execution_count": 26,
     "metadata": {},
     "output_type": "execute_result"
    }
   ],
   "source": [
    "df1 = js.to_dataframe()\n",
    "df1.head()"
   ]
  },
  {
   "cell_type": "markdown",
   "metadata": {},
   "source": [
    "This now looks like a well-defined DataFrame, and we can apply Pandas-like computations to it efficiently."
   ]
  },
  {
   "cell_type": "markdown",
   "metadata": {},
   "source": [
    "Using a Dask DataFrame, how long does it take to do our prior computation of numbers of people with the same name?  It turns out that `dask.dataframe.groupby()` beats `dask.bag.groupby()` by more than an order of magnitude; but it still cannot match `dask.bag.foldby()` for this case."
   ]
  },
  {
   "cell_type": "code",
   "execution_count": 27,
   "metadata": {
    "execution": {
     "iopub.execute_input": "2022-01-25T15:00:25.868923Z",
     "iopub.status.busy": "2022-01-25T15:00:25.868429Z",
     "iopub.status.idle": "2022-01-25T15:00:27.359524Z",
     "shell.execute_reply": "2022-01-25T15:00:27.359125Z"
    }
   },
   "outputs": [
    {
     "name": "stdout",
     "output_type": "stream",
     "text": [
      "CPU times: user 218 ms, sys: 21.5 ms, total: 239 ms\n",
      "Wall time: 1.49 s\n"
     ]
    },
    {
     "data": {
      "text/plain": [
       "name\n",
       "Alice      545\n",
       "Bob        565\n",
       "Charlie    400\n",
       "Dan        450\n",
       "Edith      399\n",
       "Name: id, dtype: int64"
      ]
     },
     "execution_count": 27,
     "metadata": {},
     "output_type": "execute_result"
    }
   ],
   "source": [
    "%time df1.groupby('name').id.count().compute().head()"
   ]
  },
  {
   "cell_type": "markdown",
   "metadata": {},
   "source": [
    "### Denormalization"
   ]
  },
  {
   "cell_type": "markdown",
   "metadata": {},
   "source": [
    "This DataFrame format is less-than-optimal because the `transactions` column is filled with nested data so Pandas has to revert to `object` dtype, which is quite slow in Pandas.  Ideally we want to transform to a dataframe only after we have flattened our data so that each record is a single `int`, `string`, `float`, etc.."
   ]
  },
  {
   "cell_type": "code",
   "execution_count": 28,
   "metadata": {
    "execution": {
     "iopub.execute_input": "2022-01-25T15:00:27.365233Z",
     "iopub.status.busy": "2022-01-25T15:00:27.361934Z",
     "iopub.status.idle": "2022-01-25T15:00:27.389895Z",
     "shell.execute_reply": "2022-01-25T15:00:27.389452Z"
    }
   },
   "outputs": [
    {
     "data": {
      "text/plain": [
       "({'id': 0, 'name': 'Oliver', 'amount': 5943, 'transaction-id': 559},\n",
       " {'id': 0, 'name': 'Oliver', 'amount': 5080, 'transaction-id': 5253},\n",
       " {'id': 1, 'name': 'Wendy', 'amount': 254, 'transaction-id': 1317})"
      ]
     },
     "execution_count": 28,
     "metadata": {},
     "output_type": "execute_result"
    }
   ],
   "source": [
    "def denormalize(record):\n",
    "    # returns a list for each person, one item per transaction\n",
    "    return [{'id': record['id'], \n",
    "             'name': record['name'], \n",
    "             'amount': transaction['amount'], \n",
    "             'transaction-id': transaction['transaction-id']}\n",
    "            for transaction in record['transactions']]\n",
    "\n",
    "transactions = js.map(denormalize).flatten()\n",
    "transactions.take(3)"
   ]
  },
  {
   "cell_type": "code",
   "execution_count": 29,
   "metadata": {
    "execution": {
     "iopub.execute_input": "2022-01-25T15:00:27.401889Z",
     "iopub.status.busy": "2022-01-25T15:00:27.394836Z",
     "iopub.status.idle": "2022-01-25T15:00:27.478451Z",
     "shell.execute_reply": "2022-01-25T15:00:27.478834Z"
    }
   },
   "outputs": [
    {
     "data": {
      "text/html": [
       "<div>\n",
       "<style scoped>\n",
       "    .dataframe tbody tr th:only-of-type {\n",
       "        vertical-align: middle;\n",
       "    }\n",
       "\n",
       "    .dataframe tbody tr th {\n",
       "        vertical-align: top;\n",
       "    }\n",
       "\n",
       "    .dataframe thead th {\n",
       "        text-align: right;\n",
       "    }\n",
       "</style>\n",
       "<table border=\"1\" class=\"dataframe\">\n",
       "  <thead>\n",
       "    <tr style=\"text-align: right;\">\n",
       "      <th></th>\n",
       "      <th>id</th>\n",
       "      <th>name</th>\n",
       "      <th>amount</th>\n",
       "      <th>transaction-id</th>\n",
       "    </tr>\n",
       "  </thead>\n",
       "  <tbody>\n",
       "    <tr>\n",
       "      <th>0</th>\n",
       "      <td>0</td>\n",
       "      <td>Oliver</td>\n",
       "      <td>5943</td>\n",
       "      <td>559</td>\n",
       "    </tr>\n",
       "    <tr>\n",
       "      <th>1</th>\n",
       "      <td>0</td>\n",
       "      <td>Oliver</td>\n",
       "      <td>5080</td>\n",
       "      <td>5253</td>\n",
       "    </tr>\n",
       "    <tr>\n",
       "      <th>2</th>\n",
       "      <td>1</td>\n",
       "      <td>Wendy</td>\n",
       "      <td>254</td>\n",
       "      <td>1317</td>\n",
       "    </tr>\n",
       "    <tr>\n",
       "      <th>3</th>\n",
       "      <td>1</td>\n",
       "      <td>Wendy</td>\n",
       "      <td>263</td>\n",
       "      <td>1743</td>\n",
       "    </tr>\n",
       "    <tr>\n",
       "      <th>4</th>\n",
       "      <td>1</td>\n",
       "      <td>Wendy</td>\n",
       "      <td>252</td>\n",
       "      <td>1805</td>\n",
       "    </tr>\n",
       "  </tbody>\n",
       "</table>\n",
       "</div>"
      ],
      "text/plain": [
       "   id    name  amount  transaction-id\n",
       "0   0  Oliver    5943             559\n",
       "1   0  Oliver    5080            5253\n",
       "2   1   Wendy     254            1317\n",
       "3   1   Wendy     263            1743\n",
       "4   1   Wendy     252            1805"
      ]
     },
     "execution_count": 29,
     "metadata": {},
     "output_type": "execute_result"
    }
   ],
   "source": [
    "df = transactions.to_dataframe()\n",
    "df.head()"
   ]
  },
  {
   "cell_type": "code",
   "execution_count": 30,
   "metadata": {
    "execution": {
     "iopub.execute_input": "2022-01-25T15:00:27.486637Z",
     "iopub.status.busy": "2022-01-25T15:00:27.486147Z",
     "iopub.status.idle": "2022-01-25T15:00:28.591335Z",
     "shell.execute_reply": "2022-01-25T15:00:28.590829Z"
    }
   },
   "outputs": [
    {
     "name": "stdout",
     "output_type": "stream",
     "text": [
      "CPU times: user 159 ms, sys: 35.4 ms, total: 195 ms\n",
      "Wall time: 1.1 s\n"
     ]
    },
    {
     "data": {
      "text/plain": [
       "name\n",
       "Alice       26098\n",
       "Bob         22577\n",
       "Charlie     23441\n",
       "Dan         11840\n",
       "Edith       10690\n",
       "Frank       13625\n",
       "George       5400\n",
       "Hannah      24171\n",
       "Ingrid      40361\n",
       "Jerry        8904\n",
       "Kevin       14953\n",
       "Laura       16226\n",
       "Michael     13674\n",
       "Norbert     25711\n",
       "Oliver       8337\n",
       "Patricia    11942\n",
       "Quinn       14750\n",
       "Ray         32162\n",
       "Sarah       16150\n",
       "Tim         11692\n",
       "Ursula      12504\n",
       "Victor      26871\n",
       "Wendy       42259\n",
       "Xavier      20389\n",
       "Yvonne      35871\n",
       "Zelda        9402\n",
       "Name: transaction-id, dtype: int64"
      ]
     },
     "execution_count": 30,
     "metadata": {},
     "output_type": "execute_result"
    }
   ],
   "source": [
    "%%time\n",
    "# number of transactions per name\n",
    "# note that the time here includes the data load and ingestion\n",
    "df.groupby('name')['transaction-id'].count().compute()"
   ]
  },
  {
   "cell_type": "markdown",
   "metadata": {},
   "source": [
    "## Limitations"
   ]
  },
  {
   "cell_type": "markdown",
   "metadata": {},
   "source": [
    "Bags provide very general computation (any Python function.)  This generality\n",
    "comes at cost.  Bags have the following known limitations\n",
    "\n",
    "1.  Bag operations tend to be slower than array/dataframe computations in the\n",
    "    same way that Python tends to be slower than NumPy/Pandas\n",
    "2.  ``Bag.groupby`` is slow.  You should try to use ``Bag.foldby`` if possible.\n",
    "    Using ``Bag.foldby`` requires more thought. Even better, consider creating\n",
    "    a normalised dataframe."
   ]
  },
  {
   "cell_type": "markdown",
   "metadata": {},
   "source": [
    "## Learn More\n",
    "\n",
    "* [Bag documentation](https://docs.dask.org/en/latest/bag.html)\n",
    "* [Bag screencast](https://youtu.be/-qIiJ1XtSv0)\n",
    "* [Bag API](https://docs.dask.org/en/latest/bag-api.html)\n",
    "* [Bag examples](https://examples.dask.org/bag.html)"
   ]
  },
  {
   "cell_type": "markdown",
   "metadata": {},
   "source": [
    "## Shutdown"
   ]
  },
  {
   "cell_type": "code",
   "execution_count": 31,
   "metadata": {
    "execution": {
     "iopub.execute_input": "2022-01-25T15:00:28.595163Z",
     "iopub.status.busy": "2022-01-25T15:00:28.594710Z",
     "iopub.status.idle": "2022-01-25T15:00:29.114655Z",
     "shell.execute_reply": "2022-01-25T15:00:29.114149Z"
    }
   },
   "outputs": [
    {
     "name": "stderr",
     "output_type": "stream",
     "text": [
      "/usr/share/miniconda3/envs/dask-tutorial/lib/python3.8/site-packages/dask/dataframe/backends.py:187: FutureWarning: pandas.Int64Index is deprecated and will be removed from pandas in a future version. Use pandas.Index with the appropriate dtype instead.\n",
      "  _numeric_index_types = (pd.Int64Index, pd.Float64Index, pd.UInt64Index)\n",
      "/usr/share/miniconda3/envs/dask-tutorial/lib/python3.8/site-packages/dask/dataframe/backends.py:187: FutureWarning: pandas.Float64Index is deprecated and will be removed from pandas in a future version. Use pandas.Index with the appropriate dtype instead.\n",
      "  _numeric_index_types = (pd.Int64Index, pd.Float64Index, pd.UInt64Index)\n",
      "/usr/share/miniconda3/envs/dask-tutorial/lib/python3.8/site-packages/dask/dataframe/backends.py:187: FutureWarning: pandas.UInt64Index is deprecated and will be removed from pandas in a future version. Use pandas.Index with the appropriate dtype instead.\n",
      "  _numeric_index_types = (pd.Int64Index, pd.Float64Index, pd.UInt64Index)\n",
      "/usr/share/miniconda3/envs/dask-tutorial/lib/python3.8/site-packages/dask/dataframe/backends.py:187: FutureWarning: pandas.Int64Index is deprecated and will be removed from pandas in a future version. Use pandas.Index with the appropriate dtype instead.\n",
      "  _numeric_index_types = (pd.Int64Index, pd.Float64Index, pd.UInt64Index)\n",
      "/usr/share/miniconda3/envs/dask-tutorial/lib/python3.8/site-packages/dask/dataframe/backends.py:187: FutureWarning: pandas.Float64Index is deprecated and will be removed from pandas in a future version. Use pandas.Index with the appropriate dtype instead.\n",
      "  _numeric_index_types = (pd.Int64Index, pd.Float64Index, pd.UInt64Index)\n",
      "/usr/share/miniconda3/envs/dask-tutorial/lib/python3.8/site-packages/dask/dataframe/backends.py:187: FutureWarning: pandas.UInt64Index is deprecated and will be removed from pandas in a future version. Use pandas.Index with the appropriate dtype instead.\n",
      "  _numeric_index_types = (pd.Int64Index, pd.Float64Index, pd.UInt64Index)\n",
      "/usr/share/miniconda3/envs/dask-tutorial/lib/python3.8/site-packages/dask/dataframe/backends.py:187: FutureWarning: pandas.Int64Index is deprecated and will be removed from pandas in a future version. Use pandas.Index with the appropriate dtype instead.\n",
      "  _numeric_index_types = (pd.Int64Index, pd.Float64Index, pd.UInt64Index)\n",
      "/usr/share/miniconda3/envs/dask-tutorial/lib/python3.8/site-packages/dask/dataframe/backends.py:187: FutureWarning: pandas.Float64Index is deprecated and will be removed from pandas in a future version. Use pandas.Index with the appropriate dtype instead.\n",
      "  _numeric_index_types = (pd.Int64Index, pd.Float64Index, pd.UInt64Index)\n",
      "/usr/share/miniconda3/envs/dask-tutorial/lib/python3.8/site-packages/dask/dataframe/backends.py:187: FutureWarning: pandas.UInt64Index is deprecated and will be removed from pandas in a future version. Use pandas.Index with the appropriate dtype instead.\n",
      "  _numeric_index_types = (pd.Int64Index, pd.Float64Index, pd.UInt64Index)\n",
      "/usr/share/miniconda3/envs/dask-tutorial/lib/python3.8/site-packages/dask/dataframe/backends.py:187: FutureWarning: pandas.Int64Index is deprecated and will be removed from pandas in a future version. Use pandas.Index with the appropriate dtype instead.\n",
      "  _numeric_index_types = (pd.Int64Index, pd.Float64Index, pd.UInt64Index)\n",
      "/usr/share/miniconda3/envs/dask-tutorial/lib/python3.8/site-packages/dask/dataframe/backends.py:187: FutureWarning: pandas.Float64Index is deprecated and will be removed from pandas in a future version. Use pandas.Index with the appropriate dtype instead.\n",
      "  _numeric_index_types = (pd.Int64Index, pd.Float64Index, pd.UInt64Index)\n",
      "/usr/share/miniconda3/envs/dask-tutorial/lib/python3.8/site-packages/dask/dataframe/backends.py:187: FutureWarning: pandas.UInt64Index is deprecated and will be removed from pandas in a future version. Use pandas.Index with the appropriate dtype instead.\n",
      "  _numeric_index_types = (pd.Int64Index, pd.Float64Index, pd.UInt64Index)\n"
     ]
    }
   ],
   "source": [
    "client.shutdown()"
   ]
  }
 ],
 "metadata": {
  "anaconda-cloud": {},
  "kernelspec": {
   "display_name": "Python 3 (ipykernel)",
   "language": "python",
   "name": "python3"
  },
  "language_info": {
   "codemirror_mode": {
    "name": "ipython",
    "version": 3
   },
   "file_extension": ".py",
   "mimetype": "text/x-python",
   "name": "python",
   "nbconvert_exporter": "python",
   "pygments_lexer": "ipython3",
   "version": "3.8.12"
  }
 },
 "nbformat": 4,
 "nbformat_minor": 4
}
