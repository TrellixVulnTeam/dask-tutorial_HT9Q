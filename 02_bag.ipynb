{
 "cells": [
  {
   "cell_type": "markdown",
   "metadata": {},
   "source": [
    "<img src=\"images/dask_horizontal.svg\" align=\"right\" width=\"30%\">"
   ]
  },
  {
   "cell_type": "markdown",
   "metadata": {},
   "source": [
    "# Bag: Parallel Lists for semi-structured data"
   ]
  },
  {
   "cell_type": "markdown",
   "metadata": {},
   "source": [
    "Dask-bag excels in processing data that can be represented as a sequence of arbitrary inputs. We'll refer to this as \"messy\" data, because it can contain complex nested structures, missing fields, mixtures of data types, etc. The *functional* programming style fits very nicely with standard Python iteration, such as can be found in the `itertools` module.\n",
    "\n",
    "Messy data is often encountered at the beginning of data processing pipelines when large volumes of raw data are first consumed. The initial set of data might be JSON, CSV, XML, or any other format that does not enforce strict structure and datatypes.\n",
    "For this reason, the initial data massaging and processing is often done with Python `list`s, `dict`s, and `set`s.\n",
    "\n",
    "These core data structures are optimized for general-purpose storage and processing.  Adding streaming computation with iterators/generator expressions or libraries like `itertools` or [`toolz`](https://toolz.readthedocs.io/en/latest/) let us process large volumes in a small space.  If we combine this with parallel processing then we can churn through a fair amount of data.\n",
    "\n",
    "Dask.bag is a high level Dask collection to automate common workloads of this form.  In a nutshell\n",
    "\n",
    "    dask.bag = map, filter, toolz + parallel execution\n",
    "    \n",
    "**Related Documentation**\n",
    "\n",
    "* [Bag documentation](https://docs.dask.org/en/latest/bag.html)\n",
    "* [Bag screencast](https://youtu.be/-qIiJ1XtSv0)\n",
    "* [Bag API](https://docs.dask.org/en/latest/bag-api.html)\n",
    "* [Bag examples](https://examples.dask.org/bag.html)"
   ]
  },
  {
   "cell_type": "markdown",
   "metadata": {},
   "source": [
    "## Create data"
   ]
  },
  {
   "cell_type": "code",
   "execution_count": 1,
   "metadata": {
    "execution": {
     "iopub.execute_input": "2022-01-21T13:39:45.697602Z",
     "iopub.status.busy": "2022-01-21T13:39:45.697246Z",
     "iopub.status.idle": "2022-01-21T13:39:46.230109Z",
     "shell.execute_reply": "2022-01-21T13:39:46.229641Z"
    }
   },
   "outputs": [],
   "source": [
    "%run prep.py -d accounts"
   ]
  },
  {
   "cell_type": "markdown",
   "metadata": {},
   "source": [
    "## Setup"
   ]
  },
  {
   "cell_type": "markdown",
   "metadata": {},
   "source": [
    "Again, we'll use the distributed scheduler. Schedulers will be explained in depth [later](05_distributed.ipynb)."
   ]
  },
  {
   "cell_type": "code",
   "execution_count": 2,
   "metadata": {
    "execution": {
     "iopub.execute_input": "2022-01-21T13:39:46.233139Z",
     "iopub.status.busy": "2022-01-21T13:39:46.232061Z",
     "iopub.status.idle": "2022-01-21T13:39:48.244374Z",
     "shell.execute_reply": "2022-01-21T13:39:48.244725Z"
    }
   },
   "outputs": [],
   "source": [
    "from dask.distributed import Client\n",
    "\n",
    "client = Client(n_workers=4)"
   ]
  },
  {
   "cell_type": "markdown",
   "metadata": {},
   "source": [
    "## Creation"
   ]
  },
  {
   "cell_type": "markdown",
   "metadata": {},
   "source": [
    "You can create a `Bag` from a Python sequence, from files, from data on S3, etc.\n",
    "We demonstrate using `.take()` to show elements of the data. (Doing `.take(1)` results in a tuple with one element)\n",
    "\n",
    "Note that the data are partitioned into blocks, and there are many items per block. In the first example, the two partitions contain five elements each, and in the following two, each file is partitioned into one or more bytes blocks."
   ]
  },
  {
   "cell_type": "code",
   "execution_count": 3,
   "metadata": {
    "execution": {
     "iopub.execute_input": "2022-01-21T13:39:48.248986Z",
     "iopub.status.busy": "2022-01-21T13:39:48.248566Z",
     "iopub.status.idle": "2022-01-21T13:39:48.506263Z",
     "shell.execute_reply": "2022-01-21T13:39:48.505901Z"
    }
   },
   "outputs": [
    {
     "data": {
      "text/plain": [
       "(1, 2, 3)"
      ]
     },
     "execution_count": 3,
     "metadata": {},
     "output_type": "execute_result"
    }
   ],
   "source": [
    "# each element is an integer\n",
    "import dask.bag as db\n",
    "b = db.from_sequence([1, 2, 3, 4, 5, 6, 7, 8, 9, 10], npartitions=2)\n",
    "b.take(3)"
   ]
  },
  {
   "cell_type": "code",
   "execution_count": 4,
   "metadata": {
    "execution": {
     "iopub.execute_input": "2022-01-21T13:39:48.510332Z",
     "iopub.status.busy": "2022-01-21T13:39:48.509279Z",
     "iopub.status.idle": "2022-01-21T13:39:48.591374Z",
     "shell.execute_reply": "2022-01-21T13:39:48.591007Z"
    }
   },
   "outputs": [
    {
     "data": {
      "text/plain": [
       "('{\"id\": 0, \"name\": \"Kevin\", \"transactions\": [{\"transaction-id\": 469, \"amount\": 40}, {\"transaction-id\": 3196, \"amount\": 66}, {\"transaction-id\": 3600, \"amount\": 73}, {\"transaction-id\": 4110, \"amount\": 77}, {\"transaction-id\": 8152, \"amount\": 50}, {\"transaction-id\": 8993, \"amount\": 68}, {\"transaction-id\": 9403, \"amount\": 75}]}\\n',)"
      ]
     },
     "execution_count": 4,
     "metadata": {},
     "output_type": "execute_result"
    }
   ],
   "source": [
    "# each element is a text file, where each line is a JSON object\n",
    "# note that the compression is handled automatically\n",
    "import os\n",
    "b = db.read_text(os.path.join('data', 'accounts.*.json.gz'))\n",
    "b.take(1)"
   ]
  },
  {
   "cell_type": "code",
   "execution_count": 5,
   "metadata": {
    "execution": {
     "iopub.execute_input": "2022-01-21T13:39:48.595029Z",
     "iopub.status.busy": "2022-01-21T13:39:48.593610Z",
     "iopub.status.idle": "2022-01-21T13:39:48.598527Z",
     "shell.execute_reply": "2022-01-21T13:39:48.598841Z"
    }
   },
   "outputs": [
    {
     "data": {
      "text/plain": [
       "'s3://dask-data/nyc-taxi/2015/yellow_tripdata_2015-01.csv'"
      ]
     },
     "execution_count": 5,
     "metadata": {},
     "output_type": "execute_result"
    }
   ],
   "source": [
    "# Edit sources.py to configure source locations\n",
    "import sources\n",
    "sources.bag_url"
   ]
  },
  {
   "cell_type": "code",
   "execution_count": 6,
   "metadata": {
    "execution": {
     "iopub.execute_input": "2022-01-21T13:39:48.602278Z",
     "iopub.status.busy": "2022-01-21T13:39:48.601859Z",
     "iopub.status.idle": "2022-01-21T13:39:49.887242Z",
     "shell.execute_reply": "2022-01-21T13:39:49.887551Z"
    }
   },
   "outputs": [
    {
     "data": {
      "text/plain": [
       "('VendorID,tpep_pickup_datetime,tpep_dropoff_datetime,passenger_count,trip_distance,pickup_longitude,pickup_latitude,RateCodeID,store_and_fwd_flag,dropoff_longitude,dropoff_latitude,payment_type,fare_amount,extra,mta_tax,tip_amount,tolls_amount,improvement_surcharge,total_amount\\n',)"
      ]
     },
     "execution_count": 6,
     "metadata": {},
     "output_type": "execute_result"
    }
   ],
   "source": [
    "# Requires `s3fs` library\n",
    "# each partition is a remote CSV text file\n",
    "b = db.read_text(sources.bag_url,\n",
    "                 storage_options={'anon': True})\n",
    "b.take(1)"
   ]
  },
  {
   "cell_type": "markdown",
   "metadata": {},
   "source": [
    "## Manipulation"
   ]
  },
  {
   "cell_type": "markdown",
   "metadata": {},
   "source": [
    "`Bag` objects hold the standard functional API found in projects like the Python standard library, `toolz`, or `pyspark`, including `map`, `filter`, `groupby`, etc..\n",
    "\n",
    "Operations on `Bag` objects create new bags.  Call the `.compute()` method to trigger execution, as we saw for `Delayed` objects.  "
   ]
  },
  {
   "cell_type": "code",
   "execution_count": 7,
   "metadata": {
    "execution": {
     "iopub.execute_input": "2022-01-21T13:39:49.893098Z",
     "iopub.status.busy": "2022-01-21T13:39:49.892669Z",
     "iopub.status.idle": "2022-01-21T13:39:49.894699Z",
     "shell.execute_reply": "2022-01-21T13:39:49.894356Z"
    }
   },
   "outputs": [
    {
     "data": {
      "text/plain": [
       "dask.bag<lambda, npartitions=10>"
      ]
     },
     "execution_count": 7,
     "metadata": {},
     "output_type": "execute_result"
    }
   ],
   "source": [
    "def is_even(n):\n",
    "    return n % 2 == 0\n",
    "\n",
    "b = db.from_sequence([1, 2, 3, 4, 5, 6, 7, 8, 9, 10])\n",
    "c = b.filter(is_even).map(lambda x: x ** 2)\n",
    "c"
   ]
  },
  {
   "cell_type": "code",
   "execution_count": 8,
   "metadata": {
    "execution": {
     "iopub.execute_input": "2022-01-21T13:39:49.907370Z",
     "iopub.status.busy": "2022-01-21T13:39:49.896714Z",
     "iopub.status.idle": "2022-01-21T13:39:50.012461Z",
     "shell.execute_reply": "2022-01-21T13:39:50.012774Z"
    }
   },
   "outputs": [
    {
     "data": {
      "text/plain": [
       "[4, 16, 36, 64, 100]"
      ]
     },
     "execution_count": 8,
     "metadata": {},
     "output_type": "execute_result"
    }
   ],
   "source": [
    "# blocking form: wait for completion (which is very fast in this case)\n",
    "c.compute()"
   ]
  },
  {
   "cell_type": "markdown",
   "metadata": {},
   "source": [
    "### Example: Accounts JSON data"
   ]
  },
  {
   "cell_type": "markdown",
   "metadata": {},
   "source": [
    "We've created a fake dataset of gzipped JSON data in your data directory.  This is like the example used in the `DataFrame` example we will see later, except that it has bundled up all of the entries for each individual `id` into a single record.  This is similar to data that you might collect off of a document store database or a web API.\n",
    "\n",
    "Each line is a JSON encoded dictionary with the following keys\n",
    "\n",
    "*  id: Unique identifier of the customer\n",
    "*  name: Name of the customer\n",
    "*  transactions: List of `transaction-id`, `amount` pairs, one for each transaction for the customer in that file"
   ]
  },
  {
   "cell_type": "code",
   "execution_count": 9,
   "metadata": {
    "execution": {
     "iopub.execute_input": "2022-01-21T13:39:50.016460Z",
     "iopub.status.busy": "2022-01-21T13:39:50.016067Z",
     "iopub.status.idle": "2022-01-21T13:39:50.043172Z",
     "shell.execute_reply": "2022-01-21T13:39:50.043530Z"
    }
   },
   "outputs": [
    {
     "data": {
      "text/plain": [
       "('{\"id\": 0, \"name\": \"Kevin\", \"transactions\": [{\"transaction-id\": 469, \"amount\": 40}, {\"transaction-id\": 3196, \"amount\": 66}, {\"transaction-id\": 3600, \"amount\": 73}, {\"transaction-id\": 4110, \"amount\": 77}, {\"transaction-id\": 8152, \"amount\": 50}, {\"transaction-id\": 8993, \"amount\": 68}, {\"transaction-id\": 9403, \"amount\": 75}]}\\n',\n",
       " '{\"id\": 1, \"name\": \"Victor\", \"transactions\": [{\"transaction-id\": 3634, \"amount\": 13}, {\"transaction-id\": 5858, \"amount\": -41}, {\"transaction-id\": 8317, \"amount\": 97}]}\\n',\n",
       " '{\"id\": 2, \"name\": \"Quinn\", \"transactions\": [{\"transaction-id\": 595, \"amount\": 788}, {\"transaction-id\": 1054, \"amount\": 698}, {\"transaction-id\": 1723, \"amount\": 648}, {\"transaction-id\": 2648, \"amount\": 724}, {\"transaction-id\": 2779, \"amount\": 622}, {\"transaction-id\": 2832, \"amount\": 682}, {\"transaction-id\": 3017, \"amount\": 677}, {\"transaction-id\": 3533, \"amount\": 758}, {\"transaction-id\": 3554, \"amount\": 690}, {\"transaction-id\": 3827, \"amount\": 693}, {\"transaction-id\": 3918, \"amount\": 727}, {\"transaction-id\": 4508, \"amount\": 640}, {\"transaction-id\": 5402, \"amount\": 670}, {\"transaction-id\": 6317, \"amount\": 624}, {\"transaction-id\": 6607, \"amount\": 675}, {\"transaction-id\": 6995, \"amount\": 683}, {\"transaction-id\": 7137, \"amount\": 659}, {\"transaction-id\": 7444, \"amount\": 734}, {\"transaction-id\": 7789, \"amount\": 703}, {\"transaction-id\": 8335, \"amount\": 667}, {\"transaction-id\": 8646, \"amount\": 720}, {\"transaction-id\": 9438, \"amount\": 725}, {\"transaction-id\": 9445, \"amount\": 668}, {\"transaction-id\": 9777, \"amount\": 841}, {\"transaction-id\": 9847, \"amount\": 657}]}\\n')"
      ]
     },
     "execution_count": 9,
     "metadata": {},
     "output_type": "execute_result"
    }
   ],
   "source": [
    "filename = os.path.join('data', 'accounts.*.json.gz')\n",
    "lines = db.read_text(filename)\n",
    "lines.take(3)"
   ]
  },
  {
   "cell_type": "markdown",
   "metadata": {},
   "source": [
    "Our data comes out of the file as lines of text. Notice that file decompression happened automatically. We can make this data look more reasonable by mapping the `json.loads` function onto our bag."
   ]
  },
  {
   "cell_type": "code",
   "execution_count": 10,
   "metadata": {
    "execution": {
     "iopub.execute_input": "2022-01-21T13:39:50.050626Z",
     "iopub.status.busy": "2022-01-21T13:39:50.045281Z",
     "iopub.status.idle": "2022-01-21T13:39:50.067696Z",
     "shell.execute_reply": "2022-01-21T13:39:50.068014Z"
    }
   },
   "outputs": [
    {
     "data": {
      "text/plain": [
       "({'id': 0,\n",
       "  'name': 'Kevin',\n",
       "  'transactions': [{'transaction-id': 469, 'amount': 40},\n",
       "   {'transaction-id': 3196, 'amount': 66},\n",
       "   {'transaction-id': 3600, 'amount': 73},\n",
       "   {'transaction-id': 4110, 'amount': 77},\n",
       "   {'transaction-id': 8152, 'amount': 50},\n",
       "   {'transaction-id': 8993, 'amount': 68},\n",
       "   {'transaction-id': 9403, 'amount': 75}]},\n",
       " {'id': 1,\n",
       "  'name': 'Victor',\n",
       "  'transactions': [{'transaction-id': 3634, 'amount': 13},\n",
       "   {'transaction-id': 5858, 'amount': -41},\n",
       "   {'transaction-id': 8317, 'amount': 97}]},\n",
       " {'id': 2,\n",
       "  'name': 'Quinn',\n",
       "  'transactions': [{'transaction-id': 595, 'amount': 788},\n",
       "   {'transaction-id': 1054, 'amount': 698},\n",
       "   {'transaction-id': 1723, 'amount': 648},\n",
       "   {'transaction-id': 2648, 'amount': 724},\n",
       "   {'transaction-id': 2779, 'amount': 622},\n",
       "   {'transaction-id': 2832, 'amount': 682},\n",
       "   {'transaction-id': 3017, 'amount': 677},\n",
       "   {'transaction-id': 3533, 'amount': 758},\n",
       "   {'transaction-id': 3554, 'amount': 690},\n",
       "   {'transaction-id': 3827, 'amount': 693},\n",
       "   {'transaction-id': 3918, 'amount': 727},\n",
       "   {'transaction-id': 4508, 'amount': 640},\n",
       "   {'transaction-id': 5402, 'amount': 670},\n",
       "   {'transaction-id': 6317, 'amount': 624},\n",
       "   {'transaction-id': 6607, 'amount': 675},\n",
       "   {'transaction-id': 6995, 'amount': 683},\n",
       "   {'transaction-id': 7137, 'amount': 659},\n",
       "   {'transaction-id': 7444, 'amount': 734},\n",
       "   {'transaction-id': 7789, 'amount': 703},\n",
       "   {'transaction-id': 8335, 'amount': 667},\n",
       "   {'transaction-id': 8646, 'amount': 720},\n",
       "   {'transaction-id': 9438, 'amount': 725},\n",
       "   {'transaction-id': 9445, 'amount': 668},\n",
       "   {'transaction-id': 9777, 'amount': 841},\n",
       "   {'transaction-id': 9847, 'amount': 657}]})"
      ]
     },
     "execution_count": 10,
     "metadata": {},
     "output_type": "execute_result"
    }
   ],
   "source": [
    "import json\n",
    "js = lines.map(json.loads)\n",
    "# take: inspect first few elements\n",
    "js.take(3)"
   ]
  },
  {
   "cell_type": "markdown",
   "metadata": {},
   "source": [
    "### Basic Queries"
   ]
  },
  {
   "cell_type": "markdown",
   "metadata": {},
   "source": [
    "Once we parse our JSON data into proper Python objects (`dict`s, `list`s, etc.) we can perform more interesting queries by creating small Python functions to run on our data."
   ]
  },
  {
   "cell_type": "code",
   "execution_count": 11,
   "metadata": {
    "execution": {
     "iopub.execute_input": "2022-01-21T13:39:50.072081Z",
     "iopub.status.busy": "2022-01-21T13:39:50.071683Z",
     "iopub.status.idle": "2022-01-21T13:39:50.109627Z",
     "shell.execute_reply": "2022-01-21T13:39:50.109272Z"
    }
   },
   "outputs": [
    {
     "data": {
      "text/plain": [
       "({'id': 92,\n",
       "  'name': 'Alice',\n",
       "  'transactions': [{'transaction-id': 127, 'amount': 610},\n",
       "   {'transaction-id': 373, 'amount': 469},\n",
       "   {'transaction-id': 406, 'amount': 514},\n",
       "   {'transaction-id': 415, 'amount': 568},\n",
       "   {'transaction-id': 556, 'amount': 661},\n",
       "   {'transaction-id': 594, 'amount': 716},\n",
       "   {'transaction-id': 661, 'amount': 658},\n",
       "   {'transaction-id': 930, 'amount': 657},\n",
       "   {'transaction-id': 964, 'amount': 678},\n",
       "   {'transaction-id': 993, 'amount': 664},\n",
       "   {'transaction-id': 1859, 'amount': 545},\n",
       "   {'transaction-id': 2213, 'amount': 679},\n",
       "   {'transaction-id': 2636, 'amount': 394},\n",
       "   {'transaction-id': 2661, 'amount': 763},\n",
       "   {'transaction-id': 2664, 'amount': 663},\n",
       "   {'transaction-id': 3136, 'amount': 768},\n",
       "   {'transaction-id': 3173, 'amount': 506},\n",
       "   {'transaction-id': 4012, 'amount': 778},\n",
       "   {'transaction-id': 4092, 'amount': 585},\n",
       "   {'transaction-id': 4155, 'amount': 700},\n",
       "   {'transaction-id': 4167, 'amount': 745},\n",
       "   {'transaction-id': 4380, 'amount': 692},\n",
       "   {'transaction-id': 4581, 'amount': 752},\n",
       "   {'transaction-id': 5332, 'amount': 601},\n",
       "   {'transaction-id': 5389, 'amount': 726},\n",
       "   {'transaction-id': 5422, 'amount': 626},\n",
       "   {'transaction-id': 5725, 'amount': 584},\n",
       "   {'transaction-id': 6255, 'amount': 550},\n",
       "   {'transaction-id': 6385, 'amount': 652},\n",
       "   {'transaction-id': 7420, 'amount': 594},\n",
       "   {'transaction-id': 7594, 'amount': 773},\n",
       "   {'transaction-id': 7644, 'amount': 654},\n",
       "   {'transaction-id': 7658, 'amount': 679},\n",
       "   {'transaction-id': 7774, 'amount': 419},\n",
       "   {'transaction-id': 8242, 'amount': 751},\n",
       "   {'transaction-id': 8267, 'amount': 653},\n",
       "   {'transaction-id': 8999, 'amount': 568},\n",
       "   {'transaction-id': 9106, 'amount': 705},\n",
       "   {'transaction-id': 9128, 'amount': 478},\n",
       "   {'transaction-id': 9424, 'amount': 602},\n",
       "   {'transaction-id': 9664, 'amount': 690},\n",
       "   {'transaction-id': 9944, 'amount': 666}]},\n",
       " {'id': 146,\n",
       "  'name': 'Alice',\n",
       "  'transactions': [{'transaction-id': 843, 'amount': -89},\n",
       "   {'transaction-id': 895, 'amount': -79},\n",
       "   {'transaction-id': 1305, 'amount': -94},\n",
       "   {'transaction-id': 2129, 'amount': -63},\n",
       "   {'transaction-id': 2691, 'amount': -86},\n",
       "   {'transaction-id': 3647, 'amount': -107},\n",
       "   {'transaction-id': 4358, 'amount': -92},\n",
       "   {'transaction-id': 5167, 'amount': -81},\n",
       "   {'transaction-id': 5386, 'amount': -84},\n",
       "   {'transaction-id': 6250, 'amount': -91},\n",
       "   {'transaction-id': 7908, 'amount': -92},\n",
       "   {'transaction-id': 8477, 'amount': -80},\n",
       "   {'transaction-id': 9301, 'amount': -118}]},\n",
       " {'id': 161,\n",
       "  'name': 'Alice',\n",
       "  'transactions': [{'transaction-id': 71, 'amount': 2191},\n",
       "   {'transaction-id': 95, 'amount': 1981},\n",
       "   {'transaction-id': 217, 'amount': 1852},\n",
       "   {'transaction-id': 676, 'amount': 2118},\n",
       "   {'transaction-id': 685, 'amount': 2554},\n",
       "   {'transaction-id': 770, 'amount': 2227},\n",
       "   {'transaction-id': 922, 'amount': 2286},\n",
       "   {'transaction-id': 952, 'amount': 2202},\n",
       "   {'transaction-id': 1143, 'amount': 2385},\n",
       "   {'transaction-id': 1506, 'amount': 1849},\n",
       "   {'transaction-id': 1615, 'amount': 2065},\n",
       "   {'transaction-id': 1617, 'amount': 2340},\n",
       "   {'transaction-id': 1731, 'amount': 2157},\n",
       "   {'transaction-id': 1847, 'amount': 2249},\n",
       "   {'transaction-id': 1958, 'amount': 2459},\n",
       "   {'transaction-id': 2010, 'amount': 2273},\n",
       "   {'transaction-id': 2344, 'amount': 2324},\n",
       "   {'transaction-id': 2383, 'amount': 2137},\n",
       "   {'transaction-id': 2478, 'amount': 2242},\n",
       "   {'transaction-id': 2573, 'amount': 2128},\n",
       "   {'transaction-id': 2766, 'amount': 2091},\n",
       "   {'transaction-id': 2812, 'amount': 2237},\n",
       "   {'transaction-id': 3209, 'amount': 2157},\n",
       "   {'transaction-id': 3282, 'amount': 2077},\n",
       "   {'transaction-id': 3419, 'amount': 2213},\n",
       "   {'transaction-id': 3621, 'amount': 2127},\n",
       "   {'transaction-id': 3699, 'amount': 2071},\n",
       "   {'transaction-id': 3728, 'amount': 2112},\n",
       "   {'transaction-id': 3764, 'amount': 2203},\n",
       "   {'transaction-id': 3870, 'amount': 2117},\n",
       "   {'transaction-id': 4123, 'amount': 1975},\n",
       "   {'transaction-id': 4265, 'amount': 2005},\n",
       "   {'transaction-id': 4315, 'amount': 2077},\n",
       "   {'transaction-id': 4363, 'amount': 2236},\n",
       "   {'transaction-id': 4364, 'amount': 2259},\n",
       "   {'transaction-id': 4554, 'amount': 2153},\n",
       "   {'transaction-id': 4717, 'amount': 2219},\n",
       "   {'transaction-id': 4820, 'amount': 2256},\n",
       "   {'transaction-id': 4821, 'amount': 2359},\n",
       "   {'transaction-id': 4853, 'amount': 2164},\n",
       "   {'transaction-id': 4876, 'amount': 1938},\n",
       "   {'transaction-id': 5134, 'amount': 2088},\n",
       "   {'transaction-id': 5215, 'amount': 2198},\n",
       "   {'transaction-id': 5239, 'amount': 2119},\n",
       "   {'transaction-id': 5252, 'amount': 2247},\n",
       "   {'transaction-id': 5653, 'amount': 2021},\n",
       "   {'transaction-id': 5674, 'amount': 2363},\n",
       "   {'transaction-id': 5909, 'amount': 1915},\n",
       "   {'transaction-id': 6247, 'amount': 1740},\n",
       "   {'transaction-id': 6704, 'amount': 2230},\n",
       "   {'transaction-id': 6938, 'amount': 2002},\n",
       "   {'transaction-id': 7088, 'amount': 2169},\n",
       "   {'transaction-id': 7691, 'amount': 2243},\n",
       "   {'transaction-id': 7721, 'amount': 2557},\n",
       "   {'transaction-id': 7846, 'amount': 2189},\n",
       "   {'transaction-id': 8442, 'amount': 2366},\n",
       "   {'transaction-id': 8550, 'amount': 2290},\n",
       "   {'transaction-id': 8618, 'amount': 2089},\n",
       "   {'transaction-id': 8660, 'amount': 2479},\n",
       "   {'transaction-id': 9180, 'amount': 2518},\n",
       "   {'transaction-id': 9343, 'amount': 2018},\n",
       "   {'transaction-id': 9508, 'amount': 2113},\n",
       "   {'transaction-id': 9694, 'amount': 2369},\n",
       "   {'transaction-id': 9923, 'amount': 2306},\n",
       "   {'transaction-id': 9995, 'amount': 2409}]},\n",
       " {'id': 190,\n",
       "  'name': 'Alice',\n",
       "  'transactions': [{'transaction-id': 3100, 'amount': -284}]},\n",
       " {'id': 248,\n",
       "  'name': 'Alice',\n",
       "  'transactions': [{'transaction-id': 203, 'amount': 595},\n",
       "   {'transaction-id': 297, 'amount': 705},\n",
       "   {'transaction-id': 460, 'amount': 602},\n",
       "   {'transaction-id': 625, 'amount': 597},\n",
       "   {'transaction-id': 638, 'amount': 736},\n",
       "   {'transaction-id': 943, 'amount': 613},\n",
       "   {'transaction-id': 1084, 'amount': 605},\n",
       "   {'transaction-id': 1162, 'amount': 650},\n",
       "   {'transaction-id': 1517, 'amount': 588},\n",
       "   {'transaction-id': 1583, 'amount': 689},\n",
       "   {'transaction-id': 2195, 'amount': 602},\n",
       "   {'transaction-id': 2196, 'amount': 604},\n",
       "   {'transaction-id': 2359, 'amount': 624},\n",
       "   {'transaction-id': 2507, 'amount': 569},\n",
       "   {'transaction-id': 2568, 'amount': 571},\n",
       "   {'transaction-id': 2709, 'amount': 658},\n",
       "   {'transaction-id': 2778, 'amount': 567},\n",
       "   {'transaction-id': 2867, 'amount': 654},\n",
       "   {'transaction-id': 3250, 'amount': 627},\n",
       "   {'transaction-id': 3424, 'amount': 547},\n",
       "   {'transaction-id': 3589, 'amount': 583},\n",
       "   {'transaction-id': 3645, 'amount': 499},\n",
       "   {'transaction-id': 3841, 'amount': 599},\n",
       "   {'transaction-id': 3861, 'amount': 683},\n",
       "   {'transaction-id': 3866, 'amount': 556},\n",
       "   {'transaction-id': 3875, 'amount': 686},\n",
       "   {'transaction-id': 3982, 'amount': 624},\n",
       "   {'transaction-id': 4013, 'amount': 703},\n",
       "   {'transaction-id': 4017, 'amount': 623},\n",
       "   {'transaction-id': 4033, 'amount': 641},\n",
       "   {'transaction-id': 4034, 'amount': 565},\n",
       "   {'transaction-id': 4264, 'amount': 671},\n",
       "   {'transaction-id': 4709, 'amount': 577},\n",
       "   {'transaction-id': 4747, 'amount': 554},\n",
       "   {'transaction-id': 4832, 'amount': 574},\n",
       "   {'transaction-id': 4838, 'amount': 583},\n",
       "   {'transaction-id': 4893, 'amount': 663},\n",
       "   {'transaction-id': 5185, 'amount': 610},\n",
       "   {'transaction-id': 5210, 'amount': 608},\n",
       "   {'transaction-id': 5313, 'amount': 674},\n",
       "   {'transaction-id': 5584, 'amount': 573},\n",
       "   {'transaction-id': 5715, 'amount': 657},\n",
       "   {'transaction-id': 5825, 'amount': 556},\n",
       "   {'transaction-id': 5845, 'amount': 625},\n",
       "   {'transaction-id': 5940, 'amount': 625},\n",
       "   {'transaction-id': 6088, 'amount': 676},\n",
       "   {'transaction-id': 6167, 'amount': 599},\n",
       "   {'transaction-id': 6559, 'amount': 629},\n",
       "   {'transaction-id': 6723, 'amount': 618},\n",
       "   {'transaction-id': 7970, 'amount': 599},\n",
       "   {'transaction-id': 7976, 'amount': 634},\n",
       "   {'transaction-id': 8110, 'amount': 639},\n",
       "   {'transaction-id': 8155, 'amount': 659},\n",
       "   {'transaction-id': 8243, 'amount': 603},\n",
       "   {'transaction-id': 8327, 'amount': 594},\n",
       "   {'transaction-id': 8361, 'amount': 636},\n",
       "   {'transaction-id': 8542, 'amount': 659},\n",
       "   {'transaction-id': 8786, 'amount': 584},\n",
       "   {'transaction-id': 8815, 'amount': 616},\n",
       "   {'transaction-id': 8837, 'amount': 585},\n",
       "   {'transaction-id': 9163, 'amount': 636},\n",
       "   {'transaction-id': 9562, 'amount': 630},\n",
       "   {'transaction-id': 9638, 'amount': 611},\n",
       "   {'transaction-id': 9663, 'amount': 565},\n",
       "   {'transaction-id': 9781, 'amount': 578},\n",
       "   {'transaction-id': 9931, 'amount': 633},\n",
       "   {'transaction-id': 9967, 'amount': 613}]})"
      ]
     },
     "execution_count": 11,
     "metadata": {},
     "output_type": "execute_result"
    }
   ],
   "source": [
    "# filter: keep only some elements of the sequence\n",
    "js.filter(lambda record: record['name'] == 'Alice').take(5)"
   ]
  },
  {
   "cell_type": "code",
   "execution_count": 12,
   "metadata": {
    "execution": {
     "iopub.execute_input": "2022-01-21T13:39:50.118941Z",
     "iopub.status.busy": "2022-01-21T13:39:50.111576Z",
     "iopub.status.idle": "2022-01-21T13:39:50.140145Z",
     "shell.execute_reply": "2022-01-21T13:39:50.139730Z"
    }
   },
   "outputs": [
    {
     "data": {
      "text/plain": [
       "({'name': 'Alice', 'count': 42},\n",
       " {'name': 'Alice', 'count': 13},\n",
       " {'name': 'Alice', 'count': 65},\n",
       " {'name': 'Alice', 'count': 1},\n",
       " {'name': 'Alice', 'count': 67})"
      ]
     },
     "execution_count": 12,
     "metadata": {},
     "output_type": "execute_result"
    }
   ],
   "source": [
    "def count_transactions(d):\n",
    "    return {'name': d['name'], 'count': len(d['transactions'])}\n",
    "\n",
    "# map: apply a function to each element\n",
    "(js.filter(lambda record: record['name'] == 'Alice')\n",
    "   .map(count_transactions)\n",
    "   .take(5))"
   ]
  },
  {
   "cell_type": "code",
   "execution_count": 13,
   "metadata": {
    "execution": {
     "iopub.execute_input": "2022-01-21T13:39:50.150351Z",
     "iopub.status.busy": "2022-01-21T13:39:50.142119Z",
     "iopub.status.idle": "2022-01-21T13:39:50.168989Z",
     "shell.execute_reply": "2022-01-21T13:39:50.168629Z"
    }
   },
   "outputs": [
    {
     "data": {
      "text/plain": [
       "(42, 13, 65, 1, 67)"
      ]
     },
     "execution_count": 13,
     "metadata": {},
     "output_type": "execute_result"
    }
   ],
   "source": [
    "# pluck: select a field, as from a dictionary, element[field]\n",
    "(js.filter(lambda record: record['name'] == 'Alice')\n",
    "   .map(count_transactions)\n",
    "   .pluck('count')\n",
    "   .take(5))"
   ]
  },
  {
   "cell_type": "code",
   "execution_count": 14,
   "metadata": {
    "execution": {
     "iopub.execute_input": "2022-01-21T13:39:50.173890Z",
     "iopub.status.busy": "2022-01-21T13:39:50.171201Z",
     "iopub.status.idle": "2022-01-21T13:39:50.622615Z",
     "shell.execute_reply": "2022-01-21T13:39:50.621961Z"
    }
   },
   "outputs": [
    {
     "data": {
      "text/plain": [
       "42.08433734939759"
      ]
     },
     "execution_count": 14,
     "metadata": {},
     "output_type": "execute_result"
    }
   ],
   "source": [
    "# Average number of transactions for all of the Alice entries\n",
    "(js.filter(lambda record: record['name'] == 'Alice')\n",
    "   .map(count_transactions)\n",
    "   .pluck('count')\n",
    "   .mean()\n",
    "   .compute())"
   ]
  },
  {
   "cell_type": "markdown",
   "metadata": {},
   "source": [
    "### Use `flatten` to de-nest"
   ]
  },
  {
   "cell_type": "markdown",
   "metadata": {},
   "source": [
    "In the example below we see the use of `.flatten()` to flatten results.  We compute the average amount for all transactions for all Alices."
   ]
  },
  {
   "cell_type": "code",
   "execution_count": 15,
   "metadata": {
    "execution": {
     "iopub.execute_input": "2022-01-21T13:39:50.626452Z",
     "iopub.status.busy": "2022-01-21T13:39:50.626046Z",
     "iopub.status.idle": "2022-01-21T13:39:50.656775Z",
     "shell.execute_reply": "2022-01-21T13:39:50.656094Z"
    }
   },
   "outputs": [
    {
     "data": {
      "text/plain": [
       "([{'transaction-id': 127, 'amount': 610},\n",
       "  {'transaction-id': 373, 'amount': 469},\n",
       "  {'transaction-id': 406, 'amount': 514},\n",
       "  {'transaction-id': 415, 'amount': 568},\n",
       "  {'transaction-id': 556, 'amount': 661},\n",
       "  {'transaction-id': 594, 'amount': 716},\n",
       "  {'transaction-id': 661, 'amount': 658},\n",
       "  {'transaction-id': 930, 'amount': 657},\n",
       "  {'transaction-id': 964, 'amount': 678},\n",
       "  {'transaction-id': 993, 'amount': 664},\n",
       "  {'transaction-id': 1859, 'amount': 545},\n",
       "  {'transaction-id': 2213, 'amount': 679},\n",
       "  {'transaction-id': 2636, 'amount': 394},\n",
       "  {'transaction-id': 2661, 'amount': 763},\n",
       "  {'transaction-id': 2664, 'amount': 663},\n",
       "  {'transaction-id': 3136, 'amount': 768},\n",
       "  {'transaction-id': 3173, 'amount': 506},\n",
       "  {'transaction-id': 4012, 'amount': 778},\n",
       "  {'transaction-id': 4092, 'amount': 585},\n",
       "  {'transaction-id': 4155, 'amount': 700},\n",
       "  {'transaction-id': 4167, 'amount': 745},\n",
       "  {'transaction-id': 4380, 'amount': 692},\n",
       "  {'transaction-id': 4581, 'amount': 752},\n",
       "  {'transaction-id': 5332, 'amount': 601},\n",
       "  {'transaction-id': 5389, 'amount': 726},\n",
       "  {'transaction-id': 5422, 'amount': 626},\n",
       "  {'transaction-id': 5725, 'amount': 584},\n",
       "  {'transaction-id': 6255, 'amount': 550},\n",
       "  {'transaction-id': 6385, 'amount': 652},\n",
       "  {'transaction-id': 7420, 'amount': 594},\n",
       "  {'transaction-id': 7594, 'amount': 773},\n",
       "  {'transaction-id': 7644, 'amount': 654},\n",
       "  {'transaction-id': 7658, 'amount': 679},\n",
       "  {'transaction-id': 7774, 'amount': 419},\n",
       "  {'transaction-id': 8242, 'amount': 751},\n",
       "  {'transaction-id': 8267, 'amount': 653},\n",
       "  {'transaction-id': 8999, 'amount': 568},\n",
       "  {'transaction-id': 9106, 'amount': 705},\n",
       "  {'transaction-id': 9128, 'amount': 478},\n",
       "  {'transaction-id': 9424, 'amount': 602},\n",
       "  {'transaction-id': 9664, 'amount': 690},\n",
       "  {'transaction-id': 9944, 'amount': 666}],\n",
       " [{'transaction-id': 843, 'amount': -89},\n",
       "  {'transaction-id': 895, 'amount': -79},\n",
       "  {'transaction-id': 1305, 'amount': -94},\n",
       "  {'transaction-id': 2129, 'amount': -63},\n",
       "  {'transaction-id': 2691, 'amount': -86},\n",
       "  {'transaction-id': 3647, 'amount': -107},\n",
       "  {'transaction-id': 4358, 'amount': -92},\n",
       "  {'transaction-id': 5167, 'amount': -81},\n",
       "  {'transaction-id': 5386, 'amount': -84},\n",
       "  {'transaction-id': 6250, 'amount': -91},\n",
       "  {'transaction-id': 7908, 'amount': -92},\n",
       "  {'transaction-id': 8477, 'amount': -80},\n",
       "  {'transaction-id': 9301, 'amount': -118}],\n",
       " [{'transaction-id': 71, 'amount': 2191},\n",
       "  {'transaction-id': 95, 'amount': 1981},\n",
       "  {'transaction-id': 217, 'amount': 1852},\n",
       "  {'transaction-id': 676, 'amount': 2118},\n",
       "  {'transaction-id': 685, 'amount': 2554},\n",
       "  {'transaction-id': 770, 'amount': 2227},\n",
       "  {'transaction-id': 922, 'amount': 2286},\n",
       "  {'transaction-id': 952, 'amount': 2202},\n",
       "  {'transaction-id': 1143, 'amount': 2385},\n",
       "  {'transaction-id': 1506, 'amount': 1849},\n",
       "  {'transaction-id': 1615, 'amount': 2065},\n",
       "  {'transaction-id': 1617, 'amount': 2340},\n",
       "  {'transaction-id': 1731, 'amount': 2157},\n",
       "  {'transaction-id': 1847, 'amount': 2249},\n",
       "  {'transaction-id': 1958, 'amount': 2459},\n",
       "  {'transaction-id': 2010, 'amount': 2273},\n",
       "  {'transaction-id': 2344, 'amount': 2324},\n",
       "  {'transaction-id': 2383, 'amount': 2137},\n",
       "  {'transaction-id': 2478, 'amount': 2242},\n",
       "  {'transaction-id': 2573, 'amount': 2128},\n",
       "  {'transaction-id': 2766, 'amount': 2091},\n",
       "  {'transaction-id': 2812, 'amount': 2237},\n",
       "  {'transaction-id': 3209, 'amount': 2157},\n",
       "  {'transaction-id': 3282, 'amount': 2077},\n",
       "  {'transaction-id': 3419, 'amount': 2213},\n",
       "  {'transaction-id': 3621, 'amount': 2127},\n",
       "  {'transaction-id': 3699, 'amount': 2071},\n",
       "  {'transaction-id': 3728, 'amount': 2112},\n",
       "  {'transaction-id': 3764, 'amount': 2203},\n",
       "  {'transaction-id': 3870, 'amount': 2117},\n",
       "  {'transaction-id': 4123, 'amount': 1975},\n",
       "  {'transaction-id': 4265, 'amount': 2005},\n",
       "  {'transaction-id': 4315, 'amount': 2077},\n",
       "  {'transaction-id': 4363, 'amount': 2236},\n",
       "  {'transaction-id': 4364, 'amount': 2259},\n",
       "  {'transaction-id': 4554, 'amount': 2153},\n",
       "  {'transaction-id': 4717, 'amount': 2219},\n",
       "  {'transaction-id': 4820, 'amount': 2256},\n",
       "  {'transaction-id': 4821, 'amount': 2359},\n",
       "  {'transaction-id': 4853, 'amount': 2164},\n",
       "  {'transaction-id': 4876, 'amount': 1938},\n",
       "  {'transaction-id': 5134, 'amount': 2088},\n",
       "  {'transaction-id': 5215, 'amount': 2198},\n",
       "  {'transaction-id': 5239, 'amount': 2119},\n",
       "  {'transaction-id': 5252, 'amount': 2247},\n",
       "  {'transaction-id': 5653, 'amount': 2021},\n",
       "  {'transaction-id': 5674, 'amount': 2363},\n",
       "  {'transaction-id': 5909, 'amount': 1915},\n",
       "  {'transaction-id': 6247, 'amount': 1740},\n",
       "  {'transaction-id': 6704, 'amount': 2230},\n",
       "  {'transaction-id': 6938, 'amount': 2002},\n",
       "  {'transaction-id': 7088, 'amount': 2169},\n",
       "  {'transaction-id': 7691, 'amount': 2243},\n",
       "  {'transaction-id': 7721, 'amount': 2557},\n",
       "  {'transaction-id': 7846, 'amount': 2189},\n",
       "  {'transaction-id': 8442, 'amount': 2366},\n",
       "  {'transaction-id': 8550, 'amount': 2290},\n",
       "  {'transaction-id': 8618, 'amount': 2089},\n",
       "  {'transaction-id': 8660, 'amount': 2479},\n",
       "  {'transaction-id': 9180, 'amount': 2518},\n",
       "  {'transaction-id': 9343, 'amount': 2018},\n",
       "  {'transaction-id': 9508, 'amount': 2113},\n",
       "  {'transaction-id': 9694, 'amount': 2369},\n",
       "  {'transaction-id': 9923, 'amount': 2306},\n",
       "  {'transaction-id': 9995, 'amount': 2409}])"
      ]
     },
     "execution_count": 15,
     "metadata": {},
     "output_type": "execute_result"
    }
   ],
   "source": [
    "(js.filter(lambda record: record['name'] == 'Alice')\n",
    "   .pluck('transactions')\n",
    "   .take(3))"
   ]
  },
  {
   "cell_type": "code",
   "execution_count": 16,
   "metadata": {
    "execution": {
     "iopub.execute_input": "2022-01-21T13:39:50.660748Z",
     "iopub.status.busy": "2022-01-21T13:39:50.660356Z",
     "iopub.status.idle": "2022-01-21T13:39:50.681426Z",
     "shell.execute_reply": "2022-01-21T13:39:50.681068Z"
    }
   },
   "outputs": [
    {
     "data": {
      "text/plain": [
       "({'transaction-id': 127, 'amount': 610},\n",
       " {'transaction-id': 373, 'amount': 469},\n",
       " {'transaction-id': 406, 'amount': 514})"
      ]
     },
     "execution_count": 16,
     "metadata": {},
     "output_type": "execute_result"
    }
   ],
   "source": [
    "(js.filter(lambda record: record['name'] == 'Alice')\n",
    "   .pluck('transactions')\n",
    "   .flatten()\n",
    "   .take(3))"
   ]
  },
  {
   "cell_type": "code",
   "execution_count": 17,
   "metadata": {
    "execution": {
     "iopub.execute_input": "2022-01-21T13:39:50.686591Z",
     "iopub.status.busy": "2022-01-21T13:39:50.685214Z",
     "iopub.status.idle": "2022-01-21T13:39:50.707618Z",
     "shell.execute_reply": "2022-01-21T13:39:50.707287Z"
    }
   },
   "outputs": [
    {
     "data": {
      "text/plain": [
       "(610, 469, 514)"
      ]
     },
     "execution_count": 17,
     "metadata": {},
     "output_type": "execute_result"
    }
   ],
   "source": [
    "(js.filter(lambda record: record['name'] == 'Alice')\n",
    "   .pluck('transactions')\n",
    "   .flatten()\n",
    "   .pluck('amount')\n",
    "   .take(3))"
   ]
  },
  {
   "cell_type": "code",
   "execution_count": 18,
   "metadata": {
    "execution": {
     "iopub.execute_input": "2022-01-21T13:39:50.717946Z",
     "iopub.status.busy": "2022-01-21T13:39:50.709538Z",
     "iopub.status.idle": "2022-01-21T13:39:51.083969Z",
     "shell.execute_reply": "2022-01-21T13:39:51.083597Z"
    }
   },
   "outputs": [
    {
     "data": {
      "text/plain": [
       "1090.4842065082546"
      ]
     },
     "execution_count": 18,
     "metadata": {},
     "output_type": "execute_result"
    }
   ],
   "source": [
    "(js.filter(lambda record: record['name'] == 'Alice')\n",
    "   .pluck('transactions')\n",
    "   .flatten()\n",
    "   .pluck('amount')\n",
    "   .mean()\n",
    "   .compute())"
   ]
  },
  {
   "cell_type": "markdown",
   "metadata": {},
   "source": [
    "### Groupby and Foldby"
   ]
  },
  {
   "cell_type": "markdown",
   "metadata": {},
   "source": [
    "Often we want to group data by some function or key.  We can do this either with the `.groupby` method, which is straightforward but forces a full shuffle of the data (expensive) or with the harder-to-use but faster `.foldby` method, which does a streaming combined groupby and reduction.\n",
    "\n",
    "*  `groupby`:  Shuffles data so that all items with the same key are in the same key-value pair\n",
    "*  `foldby`:  Walks through the data accumulating a result per key\n",
    "\n",
    "*Note: the full groupby is particularly bad. In actual workloads you would do well to use `foldby` or switch to `DataFrame`s if possible.*"
   ]
  },
  {
   "cell_type": "markdown",
   "metadata": {},
   "source": [
    "### `groupby`"
   ]
  },
  {
   "cell_type": "markdown",
   "metadata": {},
   "source": [
    "Groupby collects items in your collection so that all items with the same value under some function are collected together into a key-value pair."
   ]
  },
  {
   "cell_type": "code",
   "execution_count": 19,
   "metadata": {
    "execution": {
     "iopub.execute_input": "2022-01-21T13:39:51.098916Z",
     "iopub.status.busy": "2022-01-21T13:39:51.097340Z",
     "iopub.status.idle": "2022-01-21T13:39:51.170673Z",
     "shell.execute_reply": "2022-01-21T13:39:51.170298Z"
    }
   },
   "outputs": [
    {
     "data": {
      "text/plain": [
       "[(7, ['Charlie']), (3, ['Bob', 'Dan']), (5, ['Alice', 'Edith', 'Frank'])]"
      ]
     },
     "execution_count": 19,
     "metadata": {},
     "output_type": "execute_result"
    }
   ],
   "source": [
    "b = db.from_sequence(['Alice', 'Bob', 'Charlie', 'Dan', 'Edith', 'Frank'])\n",
    "b.groupby(len).compute()  # names grouped by length"
   ]
  },
  {
   "cell_type": "code",
   "execution_count": 20,
   "metadata": {
    "execution": {
     "iopub.execute_input": "2022-01-21T13:39:51.183168Z",
     "iopub.status.busy": "2022-01-21T13:39:51.174397Z",
     "iopub.status.idle": "2022-01-21T13:39:51.304039Z",
     "shell.execute_reply": "2022-01-21T13:39:51.303367Z"
    }
   },
   "outputs": [
    {
     "data": {
      "text/plain": [
       "[(0, [0, 2, 4, 6, 8]), (1, [1, 3, 5, 7, 9])]"
      ]
     },
     "execution_count": 20,
     "metadata": {},
     "output_type": "execute_result"
    }
   ],
   "source": [
    "b = db.from_sequence(list(range(10)))\n",
    "b.groupby(lambda x: x % 2).compute()"
   ]
  },
  {
   "cell_type": "code",
   "execution_count": 21,
   "metadata": {
    "execution": {
     "iopub.execute_input": "2022-01-21T13:39:51.308147Z",
     "iopub.status.busy": "2022-01-21T13:39:51.306097Z",
     "iopub.status.idle": "2022-01-21T13:39:51.448304Z",
     "shell.execute_reply": "2022-01-21T13:39:51.447648Z"
    }
   },
   "outputs": [
    {
     "data": {
      "text/plain": [
       "[(0, 8), (1, 9)]"
      ]
     },
     "execution_count": 21,
     "metadata": {},
     "output_type": "execute_result"
    }
   ],
   "source": [
    "b.groupby(lambda x: x % 2).starmap(lambda k, v: (k, max(v))).compute()"
   ]
  },
  {
   "cell_type": "markdown",
   "metadata": {},
   "source": [
    "### `foldby`"
   ]
  },
  {
   "cell_type": "markdown",
   "metadata": {},
   "source": [
    "Foldby can be quite odd at first.  It is similar to the following functions from other libraries:\n",
    "\n",
    "*  [`toolz.reduceby`](http://toolz.readthedocs.io/en/latest/streaming-analytics.html#streaming-split-apply-combine)\n",
    "*  [`pyspark.RDD.combineByKey`](http://abshinn.github.io/python/apache-spark/2014/10/11/using-combinebykey-in-apache-spark/)\n",
    "\n",
    "When using `foldby` you provide \n",
    "\n",
    "1.  A key function on which to group elements\n",
    "2.  A binary operator such as you would pass to `reduce` that you use to perform reduction per each group\n",
    "3.  A combine binary operator that can combine the results of two `reduce` calls on different parts of your dataset.\n",
    "\n",
    "Your reduction must be associative.  It will happen in parallel in each of the partitions of your dataset.  Then all of these intermediate results will be combined by the `combine` binary operator."
   ]
  },
  {
   "cell_type": "code",
   "execution_count": 22,
   "metadata": {
    "execution": {
     "iopub.execute_input": "2022-01-21T13:39:51.458294Z",
     "iopub.status.busy": "2022-01-21T13:39:51.450373Z",
     "iopub.status.idle": "2022-01-21T13:39:51.497161Z",
     "shell.execute_reply": "2022-01-21T13:39:51.496817Z"
    }
   },
   "outputs": [
    {
     "data": {
      "text/plain": [
       "[(0, 8), (1, 9)]"
      ]
     },
     "execution_count": 22,
     "metadata": {},
     "output_type": "execute_result"
    }
   ],
   "source": [
    "b.foldby(lambda x: x % 2, binop=max, combine=max).compute()"
   ]
  },
  {
   "cell_type": "markdown",
   "metadata": {},
   "source": [
    "### Example with account data"
   ]
  },
  {
   "cell_type": "markdown",
   "metadata": {},
   "source": [
    "We find the number of people with the same name."
   ]
  },
  {
   "cell_type": "code",
   "execution_count": 23,
   "metadata": {
    "execution": {
     "iopub.execute_input": "2022-01-21T13:39:51.503457Z",
     "iopub.status.busy": "2022-01-21T13:39:51.502818Z",
     "iopub.status.idle": "2022-01-21T13:39:55.620628Z",
     "shell.execute_reply": "2022-01-21T13:39:55.620268Z"
    }
   },
   "outputs": [
    {
     "name": "stdout",
     "output_type": "stream",
     "text": [
      "[('Alice', 59), ('Alice', 60), ('Alice', 60), ('Alice', 70), ('Bob', 120), ('Bob', 126), ('Bob', 128), ('Bob', 148), ('Charlie', 153), ('Charlie', 179), ('Charlie', 305), ('Dan', 84), ('Dan', 84), ('Dan', 84), ('Dan', 97), ('Edith', 151), ('Edith', 152), ('Edith', 152), ('Edith', 176), ('Frank', 96), ('Frank', 96), ('Frank', 96), ('Frank', 112), ('George', 144), ('George', 144), ('George', 144), ('George', 168), ('Hannah', 120), ('Hannah', 120), ('Hannah', 120), ('Hannah', 140), ('Ingrid', 108), ('Ingrid', 126), ('Ingrid', 216), ('Jerry', 154), ('Jerry', 177), ('Jerry', 305), ('Kevin', 118), ('Kevin', 118), ('Kevin', 119), ('Kevin', 138), ('Laura', 190), ('Laura', 191), ('Laura', 192), ('Laura', 222), ('Michael', 46), ('Michael', 53), ('Michael', 92), ('Norbert', 83), ('Norbert', 83), ('Norbert', 84), ('Norbert', 97), ('Oliver', 120), ('Oliver', 120), ('Oliver', 120), ('Oliver', 140), ('Patricia', 72), ('Patricia', 72), ('Patricia', 72), ('Patricia', 84), ('Quinn', 107), ('Quinn', 108), ('Quinn', 108), ('Quinn', 126), ('Ray', 132), ('Ray', 132), ('Ray', 132), ('Ray', 154), ('Sarah', 141), ('Sarah', 142), ('Sarah', 144), ('Sarah', 167), ('Tim', 74), ('Tim', 77), ('Tim', 77), ('Tim', 88), ('Ursula', 103), ('Ursula', 106), ('Ursula', 107), ('Ursula', 126), ('Victor', 87), ('Victor', 89), ('Victor', 91), ('Victor', 100), ('Wendy', 115), ('Wendy', 118), ('Wendy', 120), ('Wendy', 136), ('Xavier', 129), ('Xavier', 131), ('Xavier', 132), ('Xavier', 153), ('Yvonne', 60), ('Yvonne', 60), ('Yvonne', 60), ('Yvonne', 70), ('Zelda', 151), ('Zelda', 153), ('Zelda', 154), ('Zelda', 176)]\n",
      "CPU times: user 774 ms, sys: 64.2 ms, total: 838 ms\n",
      "Wall time: 4.12 s\n"
     ]
    }
   ],
   "source": [
    "%%time\n",
    "# Warning, this one takes a while...\n",
    "result = js.groupby(lambda item: item['name']).starmap(lambda k, v: (k, len(v))).compute()\n",
    "print(sorted(result))"
   ]
  },
  {
   "cell_type": "code",
   "execution_count": 24,
   "metadata": {
    "execution": {
     "iopub.execute_input": "2022-01-21T13:39:55.628815Z",
     "iopub.status.busy": "2022-01-21T13:39:55.624494Z",
     "iopub.status.idle": "2022-01-21T13:39:56.064727Z",
     "shell.execute_reply": "2022-01-21T13:39:56.065037Z"
    }
   },
   "outputs": [
    {
     "name": "stdout",
     "output_type": "stream",
     "text": [
      "[('Alice', 249), ('Bob', 522), ('Charlie', 637), ('Dan', 349), ('Edith', 631), ('Frank', 400), ('George', 600), ('Hannah', 500), ('Ingrid', 450), ('Jerry', 636), ('Kevin', 493), ('Laura', 795), ('Michael', 191), ('Norbert', 347), ('Oliver', 500), ('Patricia', 300), ('Quinn', 449), ('Ray', 550), ('Sarah', 594), ('Tim', 316), ('Ursula', 442), ('Victor', 367), ('Wendy', 489), ('Xavier', 545), ('Yvonne', 250), ('Zelda', 634)]\n",
      "CPU times: user 171 ms, sys: 7.69 ms, total: 179 ms\n",
      "Wall time: 438 ms\n"
     ]
    }
   ],
   "source": [
    "%%time\n",
    "# This one is comparatively fast and produces the same result.\n",
    "from operator import add\n",
    "def incr(tot, _):\n",
    "    return tot + 1\n",
    "\n",
    "result = js.foldby(key='name', \n",
    "                   binop=incr, \n",
    "                   initial=0, \n",
    "                   combine=add, \n",
    "                   combine_initial=0).compute()\n",
    "print(sorted(result))"
   ]
  },
  {
   "cell_type": "markdown",
   "metadata": {},
   "source": [
    "### Exercise: compute total amount per name"
   ]
  },
  {
   "cell_type": "markdown",
   "metadata": {},
   "source": [
    "We want to groupby (or foldby) the `name` key, then add up the all of the amounts for each name.\n",
    "\n",
    "Steps\n",
    "\n",
    "1.  Create a small function that, given a dictionary like \n",
    "\n",
    "        {'name': 'Alice', 'transactions': [{'amount': 1, 'id': 123}, {'amount': 2, 'id': 456}]}\n",
    "        \n",
    "    produces the sum of the amounts, e.g. `3`\n",
    "    \n",
    "2.  Slightly change the binary operator of the `foldby` example above so that the binary operator doesn't count the number of entries, but instead accumulates the sum of the amounts."
   ]
  },
  {
   "cell_type": "code",
   "execution_count": 25,
   "metadata": {
    "execution": {
     "iopub.execute_input": "2022-01-21T13:39:56.068404Z",
     "iopub.status.busy": "2022-01-21T13:39:56.068006Z",
     "iopub.status.idle": "2022-01-21T13:39:56.069755Z",
     "shell.execute_reply": "2022-01-21T13:39:56.069365Z"
    }
   },
   "outputs": [],
   "source": [
    "# Your code here..."
   ]
  },
  {
   "cell_type": "markdown",
   "metadata": {},
   "source": [
    "## DataFrames"
   ]
  },
  {
   "cell_type": "markdown",
   "metadata": {},
   "source": [
    "For the same reasons that Pandas is often faster than pure Python, `dask.dataframe` can be faster than `dask.bag`.  We will work more with DataFrames later, but from the point of view of a Bag, it is frequently the end-point of the \"messy\" part of data ingestion—once the data can be made into a data-frame, then complex split-apply-combine logic will become much more straight-forward and efficient.\n",
    "\n",
    "You can transform a bag with a simple tuple or flat dictionary structure into a `dask.dataframe` with the `to_dataframe` method."
   ]
  },
  {
   "cell_type": "code",
   "execution_count": 26,
   "metadata": {
    "execution": {
     "iopub.execute_input": "2022-01-21T13:39:56.072763Z",
     "iopub.status.busy": "2022-01-21T13:39:56.072369Z",
     "iopub.status.idle": "2022-01-21T13:39:56.499053Z",
     "shell.execute_reply": "2022-01-21T13:39:56.498706Z"
    }
   },
   "outputs": [
    {
     "data": {
      "text/html": [
       "<div>\n",
       "<style scoped>\n",
       "    .dataframe tbody tr th:only-of-type {\n",
       "        vertical-align: middle;\n",
       "    }\n",
       "\n",
       "    .dataframe tbody tr th {\n",
       "        vertical-align: top;\n",
       "    }\n",
       "\n",
       "    .dataframe thead th {\n",
       "        text-align: right;\n",
       "    }\n",
       "</style>\n",
       "<table border=\"1\" class=\"dataframe\">\n",
       "  <thead>\n",
       "    <tr style=\"text-align: right;\">\n",
       "      <th></th>\n",
       "      <th>id</th>\n",
       "      <th>name</th>\n",
       "      <th>transactions</th>\n",
       "    </tr>\n",
       "  </thead>\n",
       "  <tbody>\n",
       "    <tr>\n",
       "      <th>0</th>\n",
       "      <td>0</td>\n",
       "      <td>Kevin</td>\n",
       "      <td>[{'transaction-id': 469, 'amount': 40}, {'tran...</td>\n",
       "    </tr>\n",
       "    <tr>\n",
       "      <th>1</th>\n",
       "      <td>1</td>\n",
       "      <td>Victor</td>\n",
       "      <td>[{'transaction-id': 3634, 'amount': 13}, {'tra...</td>\n",
       "    </tr>\n",
       "    <tr>\n",
       "      <th>2</th>\n",
       "      <td>2</td>\n",
       "      <td>Quinn</td>\n",
       "      <td>[{'transaction-id': 595, 'amount': 788}, {'tra...</td>\n",
       "    </tr>\n",
       "    <tr>\n",
       "      <th>3</th>\n",
       "      <td>3</td>\n",
       "      <td>Ray</td>\n",
       "      <td>[{'transaction-id': 708, 'amount': 489}, {'tra...</td>\n",
       "    </tr>\n",
       "    <tr>\n",
       "      <th>4</th>\n",
       "      <td>4</td>\n",
       "      <td>George</td>\n",
       "      <td>[{'transaction-id': 101, 'amount': 1079}, {'tr...</td>\n",
       "    </tr>\n",
       "  </tbody>\n",
       "</table>\n",
       "</div>"
      ],
      "text/plain": [
       "   id    name                                       transactions\n",
       "0   0   Kevin  [{'transaction-id': 469, 'amount': 40}, {'tran...\n",
       "1   1  Victor  [{'transaction-id': 3634, 'amount': 13}, {'tra...\n",
       "2   2   Quinn  [{'transaction-id': 595, 'amount': 788}, {'tra...\n",
       "3   3     Ray  [{'transaction-id': 708, 'amount': 489}, {'tra...\n",
       "4   4  George  [{'transaction-id': 101, 'amount': 1079}, {'tr..."
      ]
     },
     "execution_count": 26,
     "metadata": {},
     "output_type": "execute_result"
    }
   ],
   "source": [
    "df1 = js.to_dataframe()\n",
    "df1.head()"
   ]
  },
  {
   "cell_type": "markdown",
   "metadata": {},
   "source": [
    "This now looks like a well-defined DataFrame, and we can apply Pandas-like computations to it efficiently."
   ]
  },
  {
   "cell_type": "markdown",
   "metadata": {},
   "source": [
    "Using a Dask DataFrame, how long does it take to do our prior computation of numbers of people with the same name?  It turns out that `dask.dataframe.groupby()` beats `dask.bag.groupby()` by more than an order of magnitude; but it still cannot match `dask.bag.foldby()` for this case."
   ]
  },
  {
   "cell_type": "code",
   "execution_count": 27,
   "metadata": {
    "execution": {
     "iopub.execute_input": "2022-01-21T13:39:56.515867Z",
     "iopub.status.busy": "2022-01-21T13:39:56.515439Z",
     "iopub.status.idle": "2022-01-21T13:39:57.740655Z",
     "shell.execute_reply": "2022-01-21T13:39:57.740029Z"
    }
   },
   "outputs": [
    {
     "name": "stdout",
     "output_type": "stream",
     "text": [
      "CPU times: user 193 ms, sys: 6.21 ms, total: 199 ms\n",
      "Wall time: 1.23 s\n"
     ]
    },
    {
     "data": {
      "text/plain": [
       "name\n",
       "Alice      249\n",
       "Bob        522\n",
       "Charlie    637\n",
       "Dan        349\n",
       "Edith      631\n",
       "Name: id, dtype: int64"
      ]
     },
     "execution_count": 27,
     "metadata": {},
     "output_type": "execute_result"
    }
   ],
   "source": [
    "%time df1.groupby('name').id.count().compute().head()"
   ]
  },
  {
   "cell_type": "markdown",
   "metadata": {},
   "source": [
    "### Denormalization"
   ]
  },
  {
   "cell_type": "markdown",
   "metadata": {},
   "source": [
    "This DataFrame format is less-than-optimal because the `transactions` column is filled with nested data so Pandas has to revert to `object` dtype, which is quite slow in Pandas.  Ideally we want to transform to a dataframe only after we have flattened our data so that each record is a single `int`, `string`, `float`, etc.."
   ]
  },
  {
   "cell_type": "code",
   "execution_count": 28,
   "metadata": {
    "execution": {
     "iopub.execute_input": "2022-01-21T13:39:57.742914Z",
     "iopub.status.busy": "2022-01-21T13:39:57.742505Z",
     "iopub.status.idle": "2022-01-21T13:39:57.764176Z",
     "shell.execute_reply": "2022-01-21T13:39:57.764502Z"
    }
   },
   "outputs": [
    {
     "data": {
      "text/plain": [
       "({'id': 0, 'name': 'Kevin', 'amount': 40, 'transaction-id': 469},\n",
       " {'id': 0, 'name': 'Kevin', 'amount': 66, 'transaction-id': 3196},\n",
       " {'id': 0, 'name': 'Kevin', 'amount': 73, 'transaction-id': 3600})"
      ]
     },
     "execution_count": 28,
     "metadata": {},
     "output_type": "execute_result"
    }
   ],
   "source": [
    "def denormalize(record):\n",
    "    # returns a list for each person, one item per transaction\n",
    "    return [{'id': record['id'], \n",
    "             'name': record['name'], \n",
    "             'amount': transaction['amount'], \n",
    "             'transaction-id': transaction['transaction-id']}\n",
    "            for transaction in record['transactions']]\n",
    "\n",
    "transactions = js.map(denormalize).flatten()\n",
    "transactions.take(3)"
   ]
  },
  {
   "cell_type": "code",
   "execution_count": 29,
   "metadata": {
    "execution": {
     "iopub.execute_input": "2022-01-21T13:39:57.774952Z",
     "iopub.status.busy": "2022-01-21T13:39:57.772895Z",
     "iopub.status.idle": "2022-01-21T13:39:57.839828Z",
     "shell.execute_reply": "2022-01-21T13:39:57.839451Z"
    }
   },
   "outputs": [
    {
     "data": {
      "text/html": [
       "<div>\n",
       "<style scoped>\n",
       "    .dataframe tbody tr th:only-of-type {\n",
       "        vertical-align: middle;\n",
       "    }\n",
       "\n",
       "    .dataframe tbody tr th {\n",
       "        vertical-align: top;\n",
       "    }\n",
       "\n",
       "    .dataframe thead th {\n",
       "        text-align: right;\n",
       "    }\n",
       "</style>\n",
       "<table border=\"1\" class=\"dataframe\">\n",
       "  <thead>\n",
       "    <tr style=\"text-align: right;\">\n",
       "      <th></th>\n",
       "      <th>id</th>\n",
       "      <th>name</th>\n",
       "      <th>amount</th>\n",
       "      <th>transaction-id</th>\n",
       "    </tr>\n",
       "  </thead>\n",
       "  <tbody>\n",
       "    <tr>\n",
       "      <th>0</th>\n",
       "      <td>0</td>\n",
       "      <td>Kevin</td>\n",
       "      <td>40</td>\n",
       "      <td>469</td>\n",
       "    </tr>\n",
       "    <tr>\n",
       "      <th>1</th>\n",
       "      <td>0</td>\n",
       "      <td>Kevin</td>\n",
       "      <td>66</td>\n",
       "      <td>3196</td>\n",
       "    </tr>\n",
       "    <tr>\n",
       "      <th>2</th>\n",
       "      <td>0</td>\n",
       "      <td>Kevin</td>\n",
       "      <td>73</td>\n",
       "      <td>3600</td>\n",
       "    </tr>\n",
       "    <tr>\n",
       "      <th>3</th>\n",
       "      <td>0</td>\n",
       "      <td>Kevin</td>\n",
       "      <td>77</td>\n",
       "      <td>4110</td>\n",
       "    </tr>\n",
       "    <tr>\n",
       "      <th>4</th>\n",
       "      <td>0</td>\n",
       "      <td>Kevin</td>\n",
       "      <td>50</td>\n",
       "      <td>8152</td>\n",
       "    </tr>\n",
       "  </tbody>\n",
       "</table>\n",
       "</div>"
      ],
      "text/plain": [
       "   id   name  amount  transaction-id\n",
       "0   0  Kevin      40             469\n",
       "1   0  Kevin      66            3196\n",
       "2   0  Kevin      73            3600\n",
       "3   0  Kevin      77            4110\n",
       "4   0  Kevin      50            8152"
      ]
     },
     "execution_count": 29,
     "metadata": {},
     "output_type": "execute_result"
    }
   ],
   "source": [
    "df = transactions.to_dataframe()\n",
    "df.head()"
   ]
  },
  {
   "cell_type": "code",
   "execution_count": 30,
   "metadata": {
    "execution": {
     "iopub.execute_input": "2022-01-21T13:39:57.845981Z",
     "iopub.status.busy": "2022-01-21T13:39:57.844905Z",
     "iopub.status.idle": "2022-01-21T13:39:58.732754Z",
     "shell.execute_reply": "2022-01-21T13:39:58.732400Z"
    }
   },
   "outputs": [
    {
     "name": "stdout",
     "output_type": "stream",
     "text": [
      "CPU times: user 138 ms, sys: 15.3 ms, total: 153 ms\n",
      "Wall time: 883 ms\n"
     ]
    },
    {
     "data": {
      "text/plain": [
       "name\n",
       "Alice       10479\n",
       "Bob         12554\n",
       "Charlie     29966\n",
       "Dan         11246\n",
       "Edith       22856\n",
       "Frank       18579\n",
       "George      26278\n",
       "Hannah      23576\n",
       "Ingrid      21165\n",
       "Jerry       24622\n",
       "Kevin       28378\n",
       "Laura       33015\n",
       "Michael      7639\n",
       "Norbert     22426\n",
       "Oliver      27969\n",
       "Patricia    11699\n",
       "Quinn        9908\n",
       "Ray         20851\n",
       "Sarah       11397\n",
       "Tim         10468\n",
       "Ursula      11975\n",
       "Victor      12497\n",
       "Wendy       23389\n",
       "Xavier      23125\n",
       "Yvonne      10967\n",
       "Zelda       32976\n",
       "Name: transaction-id, dtype: int64"
      ]
     },
     "execution_count": 30,
     "metadata": {},
     "output_type": "execute_result"
    }
   ],
   "source": [
    "%%time\n",
    "# number of transactions per name\n",
    "# note that the time here includes the data load and ingestion\n",
    "df.groupby('name')['transaction-id'].count().compute()"
   ]
  },
  {
   "cell_type": "markdown",
   "metadata": {},
   "source": [
    "## Limitations"
   ]
  },
  {
   "cell_type": "markdown",
   "metadata": {},
   "source": [
    "Bags provide very general computation (any Python function.)  This generality\n",
    "comes at cost.  Bags have the following known limitations\n",
    "\n",
    "1.  Bag operations tend to be slower than array/dataframe computations in the\n",
    "    same way that Python tends to be slower than NumPy/Pandas\n",
    "2.  ``Bag.groupby`` is slow.  You should try to use ``Bag.foldby`` if possible.\n",
    "    Using ``Bag.foldby`` requires more thought. Even better, consider creating\n",
    "    a normalised dataframe."
   ]
  },
  {
   "cell_type": "markdown",
   "metadata": {},
   "source": [
    "## Learn More\n",
    "\n",
    "* [Bag documentation](https://docs.dask.org/en/latest/bag.html)\n",
    "* [Bag screencast](https://youtu.be/-qIiJ1XtSv0)\n",
    "* [Bag API](https://docs.dask.org/en/latest/bag-api.html)\n",
    "* [Bag examples](https://examples.dask.org/bag.html)"
   ]
  },
  {
   "cell_type": "markdown",
   "metadata": {},
   "source": [
    "## Shutdown"
   ]
  },
  {
   "cell_type": "code",
   "execution_count": 31,
   "metadata": {
    "execution": {
     "iopub.execute_input": "2022-01-21T13:39:58.736476Z",
     "iopub.status.busy": "2022-01-21T13:39:58.735602Z",
     "iopub.status.idle": "2022-01-21T13:39:59.154034Z",
     "shell.execute_reply": "2022-01-21T13:39:59.153613Z"
    }
   },
   "outputs": [],
   "source": [
    "client.shutdown()"
   ]
  }
 ],
 "metadata": {
  "anaconda-cloud": {},
  "kernelspec": {
   "display_name": "Python 3 (ipykernel)",
   "language": "python",
   "name": "python3"
  },
  "language_info": {
   "codemirror_mode": {
    "name": "ipython",
    "version": 3
   },
   "file_extension": ".py",
   "mimetype": "text/x-python",
   "name": "python",
   "nbconvert_exporter": "python",
   "pygments_lexer": "ipython3",
   "version": "3.8.12"
  }
 },
 "nbformat": 4,
 "nbformat_minor": 4
}
