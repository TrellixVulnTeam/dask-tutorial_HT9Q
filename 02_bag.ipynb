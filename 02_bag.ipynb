{
 "cells": [
  {
   "cell_type": "markdown",
   "metadata": {},
   "source": [
    "<img src=\"images/dask_horizontal.svg\" align=\"right\" width=\"30%\">"
   ]
  },
  {
   "cell_type": "markdown",
   "metadata": {},
   "source": [
    "# Bag: Parallel Lists for semi-structured data"
   ]
  },
  {
   "cell_type": "markdown",
   "metadata": {},
   "source": [
    "Dask-bag excels in processing data that can be represented as a sequence of arbitrary inputs. We'll refer to this as \"messy\" data, because it can contain complex nested structures, missing fields, mixtures of data types, etc. The *functional* programming style fits very nicely with standard Python iteration, such as can be found in the `itertools` module.\n",
    "\n",
    "Messy data is often encountered at the beginning of data processing pipelines when large volumes of raw data are first consumed. The initial set of data might be JSON, CSV, XML, or any other format that does not enforce strict structure and datatypes.\n",
    "For this reason, the initial data massaging and processing is often done with Python `list`s, `dict`s, and `set`s.\n",
    "\n",
    "These core data structures are optimized for general-purpose storage and processing.  Adding streaming computation with iterators/generator expressions or libraries like `itertools` or [`toolz`](https://toolz.readthedocs.io/en/latest/) let us process large volumes in a small space.  If we combine this with parallel processing then we can churn through a fair amount of data.\n",
    "\n",
    "Dask.bag is a high level Dask collection to automate common workloads of this form.  In a nutshell\n",
    "\n",
    "    dask.bag = map, filter, toolz + parallel execution\n",
    "    \n",
    "**Related Documentation**\n",
    "\n",
    "* [Bag documentation](https://docs.dask.org/en/latest/bag.html)\n",
    "* [Bag screencast](https://youtu.be/-qIiJ1XtSv0)\n",
    "* [Bag API](https://docs.dask.org/en/latest/bag-api.html)\n",
    "* [Bag examples](https://examples.dask.org/bag.html)"
   ]
  },
  {
   "cell_type": "markdown",
   "metadata": {},
   "source": [
    "## Create data"
   ]
  },
  {
   "cell_type": "code",
   "execution_count": 1,
   "metadata": {
    "execution": {
     "iopub.execute_input": "2022-01-27T15:12:00.418795Z",
     "iopub.status.busy": "2022-01-27T15:12:00.418359Z",
     "iopub.status.idle": "2022-01-27T15:12:00.989018Z",
     "shell.execute_reply": "2022-01-27T15:12:00.988132Z"
    }
   },
   "outputs": [],
   "source": [
    "%run prep.py -d accounts"
   ]
  },
  {
   "cell_type": "markdown",
   "metadata": {},
   "source": [
    "## Setup"
   ]
  },
  {
   "cell_type": "markdown",
   "metadata": {},
   "source": [
    "Again, we'll use the distributed scheduler. Schedulers will be explained in depth [later](05_distributed.ipynb)."
   ]
  },
  {
   "cell_type": "code",
   "execution_count": 2,
   "metadata": {
    "execution": {
     "iopub.execute_input": "2022-01-27T15:12:00.994111Z",
     "iopub.status.busy": "2022-01-27T15:12:00.993049Z",
     "iopub.status.idle": "2022-01-27T15:12:03.060020Z",
     "shell.execute_reply": "2022-01-27T15:12:03.059547Z"
    }
   },
   "outputs": [],
   "source": [
    "from dask.distributed import Client\n",
    "\n",
    "client = Client(n_workers=4)"
   ]
  },
  {
   "cell_type": "markdown",
   "metadata": {},
   "source": [
    "## Creation"
   ]
  },
  {
   "cell_type": "markdown",
   "metadata": {},
   "source": [
    "You can create a `Bag` from a Python sequence, from files, from data on S3, etc.\n",
    "We demonstrate using `.take()` to show elements of the data. (Doing `.take(1)` results in a tuple with one element)\n",
    "\n",
    "Note that the data are partitioned into blocks, and there are many items per block. In the first example, the two partitions contain five elements each, and in the following two, each file is partitioned into one or more bytes blocks."
   ]
  },
  {
   "cell_type": "code",
   "execution_count": 3,
   "metadata": {
    "execution": {
     "iopub.execute_input": "2022-01-27T15:12:03.064443Z",
     "iopub.status.busy": "2022-01-27T15:12:03.062622Z",
     "iopub.status.idle": "2022-01-27T15:12:03.331003Z",
     "shell.execute_reply": "2022-01-27T15:12:03.331355Z"
    }
   },
   "outputs": [
    {
     "data": {
      "text/plain": [
       "(1, 2, 3)"
      ]
     },
     "execution_count": 3,
     "metadata": {},
     "output_type": "execute_result"
    }
   ],
   "source": [
    "# each element is an integer\n",
    "import dask.bag as db\n",
    "b = db.from_sequence([1, 2, 3, 4, 5, 6, 7, 8, 9, 10], npartitions=2)\n",
    "b.take(3)"
   ]
  },
  {
   "cell_type": "code",
   "execution_count": 4,
   "metadata": {
    "execution": {
     "iopub.execute_input": "2022-01-27T15:12:03.335307Z",
     "iopub.status.busy": "2022-01-27T15:12:03.334639Z",
     "iopub.status.idle": "2022-01-27T15:12:03.423681Z",
     "shell.execute_reply": "2022-01-27T15:12:03.424012Z"
    }
   },
   "outputs": [
    {
     "data": {
      "text/plain": [
       "('{\"id\": 0, \"name\": \"Alice\", \"transactions\": [{\"transaction-id\": 502, \"amount\": 386}, {\"transaction-id\": 690, \"amount\": 401}, {\"transaction-id\": 927, \"amount\": 397}, {\"transaction-id\": 1861, \"amount\": 408}, {\"transaction-id\": 2446, \"amount\": 392}, {\"transaction-id\": 2884, \"amount\": 381}, {\"transaction-id\": 2892, \"amount\": 377}, {\"transaction-id\": 4432, \"amount\": 338}, {\"transaction-id\": 4766, \"amount\": 378}, {\"transaction-id\": 4890, \"amount\": 418}, {\"transaction-id\": 7325, \"amount\": 369}]}\\n',)"
      ]
     },
     "execution_count": 4,
     "metadata": {},
     "output_type": "execute_result"
    }
   ],
   "source": [
    "# each element is a text file, where each line is a JSON object\n",
    "# note that the compression is handled automatically\n",
    "import os\n",
    "b = db.read_text(os.path.join('data', 'accounts.*.json.gz'))\n",
    "b.take(1)"
   ]
  },
  {
   "cell_type": "code",
   "execution_count": 5,
   "metadata": {
    "execution": {
     "iopub.execute_input": "2022-01-27T15:12:03.427841Z",
     "iopub.status.busy": "2022-01-27T15:12:03.427406Z",
     "iopub.status.idle": "2022-01-27T15:12:03.431343Z",
     "shell.execute_reply": "2022-01-27T15:12:03.430960Z"
    }
   },
   "outputs": [
    {
     "data": {
      "text/plain": [
       "'s3://dask-data/nyc-taxi/2015/yellow_tripdata_2015-01.csv'"
      ]
     },
     "execution_count": 5,
     "metadata": {},
     "output_type": "execute_result"
    }
   ],
   "source": [
    "# Edit sources.py to configure source locations\n",
    "import sources\n",
    "sources.bag_url"
   ]
  },
  {
   "cell_type": "code",
   "execution_count": 6,
   "metadata": {
    "execution": {
     "iopub.execute_input": "2022-01-27T15:12:03.434641Z",
     "iopub.status.busy": "2022-01-27T15:12:03.434150Z",
     "iopub.status.idle": "2022-01-27T15:12:04.894542Z",
     "shell.execute_reply": "2022-01-27T15:12:04.894866Z"
    }
   },
   "outputs": [
    {
     "data": {
      "text/plain": [
       "('VendorID,tpep_pickup_datetime,tpep_dropoff_datetime,passenger_count,trip_distance,pickup_longitude,pickup_latitude,RateCodeID,store_and_fwd_flag,dropoff_longitude,dropoff_latitude,payment_type,fare_amount,extra,mta_tax,tip_amount,tolls_amount,improvement_surcharge,total_amount\\n',)"
      ]
     },
     "execution_count": 6,
     "metadata": {},
     "output_type": "execute_result"
    }
   ],
   "source": [
    "# Requires `s3fs` library\n",
    "# each partition is a remote CSV text file\n",
    "b = db.read_text(sources.bag_url,\n",
    "                 storage_options={'anon': True})\n",
    "b.take(1)"
   ]
  },
  {
   "cell_type": "markdown",
   "metadata": {},
   "source": [
    "## Manipulation"
   ]
  },
  {
   "cell_type": "markdown",
   "metadata": {},
   "source": [
    "`Bag` objects hold the standard functional API found in projects like the Python standard library, `toolz`, or `pyspark`, including `map`, `filter`, `groupby`, etc..\n",
    "\n",
    "Operations on `Bag` objects create new bags.  Call the `.compute()` method to trigger execution, as we saw for `Delayed` objects.  "
   ]
  },
  {
   "cell_type": "code",
   "execution_count": 7,
   "metadata": {
    "execution": {
     "iopub.execute_input": "2022-01-27T15:12:04.900590Z",
     "iopub.status.busy": "2022-01-27T15:12:04.899824Z",
     "iopub.status.idle": "2022-01-27T15:12:04.904308Z",
     "shell.execute_reply": "2022-01-27T15:12:04.903970Z"
    }
   },
   "outputs": [
    {
     "data": {
      "text/plain": [
       "dask.bag<lambda, npartitions=10>"
      ]
     },
     "execution_count": 7,
     "metadata": {},
     "output_type": "execute_result"
    }
   ],
   "source": [
    "def is_even(n):\n",
    "    return n % 2 == 0\n",
    "\n",
    "b = db.from_sequence([1, 2, 3, 4, 5, 6, 7, 8, 9, 10])\n",
    "c = b.filter(is_even).map(lambda x: x ** 2)\n",
    "c"
   ]
  },
  {
   "cell_type": "code",
   "execution_count": 8,
   "metadata": {
    "execution": {
     "iopub.execute_input": "2022-01-27T15:12:04.913704Z",
     "iopub.status.busy": "2022-01-27T15:12:04.913260Z",
     "iopub.status.idle": "2022-01-27T15:12:04.996017Z",
     "shell.execute_reply": "2022-01-27T15:12:04.995632Z"
    }
   },
   "outputs": [
    {
     "data": {
      "text/plain": [
       "[4, 16, 36, 64, 100]"
      ]
     },
     "execution_count": 8,
     "metadata": {},
     "output_type": "execute_result"
    }
   ],
   "source": [
    "# blocking form: wait for completion (which is very fast in this case)\n",
    "c.compute()"
   ]
  },
  {
   "cell_type": "markdown",
   "metadata": {},
   "source": [
    "### Example: Accounts JSON data"
   ]
  },
  {
   "cell_type": "markdown",
   "metadata": {},
   "source": [
    "We've created a fake dataset of gzipped JSON data in your data directory.  This is like the example used in the `DataFrame` example we will see later, except that it has bundled up all of the entries for each individual `id` into a single record.  This is similar to data that you might collect off of a document store database or a web API.\n",
    "\n",
    "Each line is a JSON encoded dictionary with the following keys\n",
    "\n",
    "*  id: Unique identifier of the customer\n",
    "*  name: Name of the customer\n",
    "*  transactions: List of `transaction-id`, `amount` pairs, one for each transaction for the customer in that file"
   ]
  },
  {
   "cell_type": "code",
   "execution_count": 9,
   "metadata": {
    "execution": {
     "iopub.execute_input": "2022-01-27T15:12:05.000507Z",
     "iopub.status.busy": "2022-01-27T15:12:04.997978Z",
     "iopub.status.idle": "2022-01-27T15:12:05.027778Z",
     "shell.execute_reply": "2022-01-27T15:12:05.027410Z"
    }
   },
   "outputs": [
    {
     "data": {
      "text/plain": [
       "('{\"id\": 0, \"name\": \"Alice\", \"transactions\": [{\"transaction-id\": 502, \"amount\": 386}, {\"transaction-id\": 690, \"amount\": 401}, {\"transaction-id\": 927, \"amount\": 397}, {\"transaction-id\": 1861, \"amount\": 408}, {\"transaction-id\": 2446, \"amount\": 392}, {\"transaction-id\": 2884, \"amount\": 381}, {\"transaction-id\": 2892, \"amount\": 377}, {\"transaction-id\": 4432, \"amount\": 338}, {\"transaction-id\": 4766, \"amount\": 378}, {\"transaction-id\": 4890, \"amount\": 418}, {\"transaction-id\": 7325, \"amount\": 369}]}\\n',\n",
       " '{\"id\": 1, \"name\": \"Quinn\", \"transactions\": [{\"transaction-id\": 151, \"amount\": 1198}, {\"transaction-id\": 355, \"amount\": 1235}, {\"transaction-id\": 566, \"amount\": 1178}, {\"transaction-id\": 988, \"amount\": 1326}, {\"transaction-id\": 1581, \"amount\": 1255}, {\"transaction-id\": 4438, \"amount\": 1323}, {\"transaction-id\": 5107, \"amount\": 1176}, {\"transaction-id\": 5559, \"amount\": 1171}, {\"transaction-id\": 8152, \"amount\": 1127}, {\"transaction-id\": 8302, \"amount\": 1114}]}\\n',\n",
       " '{\"id\": 2, \"name\": \"Edith\", \"transactions\": [{\"transaction-id\": 288, \"amount\": -503}, {\"transaction-id\": 376, \"amount\": -521}, {\"transaction-id\": 454, \"amount\": -491}, {\"transaction-id\": 825, \"amount\": -632}, {\"transaction-id\": 990, \"amount\": -663}, {\"transaction-id\": 1185, \"amount\": -679}, {\"transaction-id\": 1787, \"amount\": -525}, {\"transaction-id\": 3415, \"amount\": -526}, {\"transaction-id\": 4072, \"amount\": -446}, {\"transaction-id\": 4928, \"amount\": -677}, {\"transaction-id\": 5219, \"amount\": -665}, {\"transaction-id\": 6023, \"amount\": -528}, {\"transaction-id\": 6024, \"amount\": -445}, {\"transaction-id\": 6254, \"amount\": -625}, {\"transaction-id\": 6735, \"amount\": -561}, {\"transaction-id\": 7054, \"amount\": -484}, {\"transaction-id\": 7701, \"amount\": -594}, {\"transaction-id\": 7947, \"amount\": -433}, {\"transaction-id\": 8916, \"amount\": -504}, {\"transaction-id\": 8977, \"amount\": -464}, {\"transaction-id\": 9242, \"amount\": -684}, {\"transaction-id\": 9470, \"amount\": -562}, {\"transaction-id\": 9847, \"amount\": -531}]}\\n')"
      ]
     },
     "execution_count": 9,
     "metadata": {},
     "output_type": "execute_result"
    }
   ],
   "source": [
    "filename = os.path.join('data', 'accounts.*.json.gz')\n",
    "lines = db.read_text(filename)\n",
    "lines.take(3)"
   ]
  },
  {
   "cell_type": "markdown",
   "metadata": {},
   "source": [
    "Our data comes out of the file as lines of text. Notice that file decompression happened automatically. We can make this data look more reasonable by mapping the `json.loads` function onto our bag."
   ]
  },
  {
   "cell_type": "code",
   "execution_count": 10,
   "metadata": {
    "execution": {
     "iopub.execute_input": "2022-01-27T15:12:05.036793Z",
     "iopub.status.busy": "2022-01-27T15:12:05.031165Z",
     "iopub.status.idle": "2022-01-27T15:12:05.054643Z",
     "shell.execute_reply": "2022-01-27T15:12:05.054265Z"
    }
   },
   "outputs": [
    {
     "data": {
      "text/plain": [
       "({'id': 0,\n",
       "  'name': 'Alice',\n",
       "  'transactions': [{'transaction-id': 502, 'amount': 386},\n",
       "   {'transaction-id': 690, 'amount': 401},\n",
       "   {'transaction-id': 927, 'amount': 397},\n",
       "   {'transaction-id': 1861, 'amount': 408},\n",
       "   {'transaction-id': 2446, 'amount': 392},\n",
       "   {'transaction-id': 2884, 'amount': 381},\n",
       "   {'transaction-id': 2892, 'amount': 377},\n",
       "   {'transaction-id': 4432, 'amount': 338},\n",
       "   {'transaction-id': 4766, 'amount': 378},\n",
       "   {'transaction-id': 4890, 'amount': 418},\n",
       "   {'transaction-id': 7325, 'amount': 369}]},\n",
       " {'id': 1,\n",
       "  'name': 'Quinn',\n",
       "  'transactions': [{'transaction-id': 151, 'amount': 1198},\n",
       "   {'transaction-id': 355, 'amount': 1235},\n",
       "   {'transaction-id': 566, 'amount': 1178},\n",
       "   {'transaction-id': 988, 'amount': 1326},\n",
       "   {'transaction-id': 1581, 'amount': 1255},\n",
       "   {'transaction-id': 4438, 'amount': 1323},\n",
       "   {'transaction-id': 5107, 'amount': 1176},\n",
       "   {'transaction-id': 5559, 'amount': 1171},\n",
       "   {'transaction-id': 8152, 'amount': 1127},\n",
       "   {'transaction-id': 8302, 'amount': 1114}]},\n",
       " {'id': 2,\n",
       "  'name': 'Edith',\n",
       "  'transactions': [{'transaction-id': 288, 'amount': -503},\n",
       "   {'transaction-id': 376, 'amount': -521},\n",
       "   {'transaction-id': 454, 'amount': -491},\n",
       "   {'transaction-id': 825, 'amount': -632},\n",
       "   {'transaction-id': 990, 'amount': -663},\n",
       "   {'transaction-id': 1185, 'amount': -679},\n",
       "   {'transaction-id': 1787, 'amount': -525},\n",
       "   {'transaction-id': 3415, 'amount': -526},\n",
       "   {'transaction-id': 4072, 'amount': -446},\n",
       "   {'transaction-id': 4928, 'amount': -677},\n",
       "   {'transaction-id': 5219, 'amount': -665},\n",
       "   {'transaction-id': 6023, 'amount': -528},\n",
       "   {'transaction-id': 6024, 'amount': -445},\n",
       "   {'transaction-id': 6254, 'amount': -625},\n",
       "   {'transaction-id': 6735, 'amount': -561},\n",
       "   {'transaction-id': 7054, 'amount': -484},\n",
       "   {'transaction-id': 7701, 'amount': -594},\n",
       "   {'transaction-id': 7947, 'amount': -433},\n",
       "   {'transaction-id': 8916, 'amount': -504},\n",
       "   {'transaction-id': 8977, 'amount': -464},\n",
       "   {'transaction-id': 9242, 'amount': -684},\n",
       "   {'transaction-id': 9470, 'amount': -562},\n",
       "   {'transaction-id': 9847, 'amount': -531}]})"
      ]
     },
     "execution_count": 10,
     "metadata": {},
     "output_type": "execute_result"
    }
   ],
   "source": [
    "import json\n",
    "js = lines.map(json.loads)\n",
    "# take: inspect first few elements\n",
    "js.take(3)"
   ]
  },
  {
   "cell_type": "markdown",
   "metadata": {},
   "source": [
    "### Basic Queries"
   ]
  },
  {
   "cell_type": "markdown",
   "metadata": {},
   "source": [
    "Once we parse our JSON data into proper Python objects (`dict`s, `list`s, etc.) we can perform more interesting queries by creating small Python functions to run on our data."
   ]
  },
  {
   "cell_type": "code",
   "execution_count": 11,
   "metadata": {
    "execution": {
     "iopub.execute_input": "2022-01-27T15:12:05.065984Z",
     "iopub.status.busy": "2022-01-27T15:12:05.062953Z",
     "iopub.status.idle": "2022-01-27T15:12:05.091652Z",
     "shell.execute_reply": "2022-01-27T15:12:05.091999Z"
    }
   },
   "outputs": [
    {
     "data": {
      "text/plain": [
       "({'id': 0,\n",
       "  'name': 'Alice',\n",
       "  'transactions': [{'transaction-id': 502, 'amount': 386},\n",
       "   {'transaction-id': 690, 'amount': 401},\n",
       "   {'transaction-id': 927, 'amount': 397},\n",
       "   {'transaction-id': 1861, 'amount': 408},\n",
       "   {'transaction-id': 2446, 'amount': 392},\n",
       "   {'transaction-id': 2884, 'amount': 381},\n",
       "   {'transaction-id': 2892, 'amount': 377},\n",
       "   {'transaction-id': 4432, 'amount': 338},\n",
       "   {'transaction-id': 4766, 'amount': 378},\n",
       "   {'transaction-id': 4890, 'amount': 418},\n",
       "   {'transaction-id': 7325, 'amount': 369}]},\n",
       " {'id': 10,\n",
       "  'name': 'Alice',\n",
       "  'transactions': [{'transaction-id': 124, 'amount': 3370},\n",
       "   {'transaction-id': 922, 'amount': 2899},\n",
       "   {'transaction-id': 994, 'amount': 2938},\n",
       "   {'transaction-id': 1114, 'amount': 2954},\n",
       "   {'transaction-id': 1227, 'amount': 2856},\n",
       "   {'transaction-id': 1252, 'amount': 2942},\n",
       "   {'transaction-id': 1854, 'amount': 2980},\n",
       "   {'transaction-id': 2084, 'amount': 2893},\n",
       "   {'transaction-id': 2345, 'amount': 3053},\n",
       "   {'transaction-id': 2543, 'amount': 3039},\n",
       "   {'transaction-id': 3073, 'amount': 2814},\n",
       "   {'transaction-id': 3961, 'amount': 2853},\n",
       "   {'transaction-id': 4403, 'amount': 2989},\n",
       "   {'transaction-id': 5489, 'amount': 2924},\n",
       "   {'transaction-id': 5735, 'amount': 3020},\n",
       "   {'transaction-id': 6117, 'amount': 3020},\n",
       "   {'transaction-id': 6993, 'amount': 2788},\n",
       "   {'transaction-id': 7033, 'amount': 2969},\n",
       "   {'transaction-id': 8070, 'amount': 2898},\n",
       "   {'transaction-id': 9005, 'amount': 2764},\n",
       "   {'transaction-id': 9079, 'amount': 2767},\n",
       "   {'transaction-id': 9226, 'amount': 3094},\n",
       "   {'transaction-id': 9604, 'amount': 2842}]},\n",
       " {'id': 71,\n",
       "  'name': 'Alice',\n",
       "  'transactions': [{'transaction-id': 237, 'amount': 14},\n",
       "   {'transaction-id': 808, 'amount': 14},\n",
       "   {'transaction-id': 1571, 'amount': 15},\n",
       "   {'transaction-id': 1629, 'amount': 14},\n",
       "   {'transaction-id': 1872, 'amount': 14},\n",
       "   {'transaction-id': 2090, 'amount': 14},\n",
       "   {'transaction-id': 2202, 'amount': 14},\n",
       "   {'transaction-id': 2803, 'amount': 14},\n",
       "   {'transaction-id': 2838, 'amount': 14},\n",
       "   {'transaction-id': 3268, 'amount': 15},\n",
       "   {'transaction-id': 3449, 'amount': 15},\n",
       "   {'transaction-id': 3560, 'amount': 15},\n",
       "   {'transaction-id': 3623, 'amount': 16},\n",
       "   {'transaction-id': 3691, 'amount': 14},\n",
       "   {'transaction-id': 4190, 'amount': 15},\n",
       "   {'transaction-id': 4937, 'amount': 16},\n",
       "   {'transaction-id': 5466, 'amount': 14},\n",
       "   {'transaction-id': 5879, 'amount': 14},\n",
       "   {'transaction-id': 6038, 'amount': 14},\n",
       "   {'transaction-id': 6229, 'amount': 14},\n",
       "   {'transaction-id': 6252, 'amount': 15},\n",
       "   {'transaction-id': 6555, 'amount': 17},\n",
       "   {'transaction-id': 6576, 'amount': 15},\n",
       "   {'transaction-id': 6710, 'amount': 15},\n",
       "   {'transaction-id': 6753, 'amount': 15},\n",
       "   {'transaction-id': 6991, 'amount': 16},\n",
       "   {'transaction-id': 7036, 'amount': 15},\n",
       "   {'transaction-id': 7156, 'amount': 16},\n",
       "   {'transaction-id': 7369, 'amount': 14},\n",
       "   {'transaction-id': 7611, 'amount': 15},\n",
       "   {'transaction-id': 7832, 'amount': 14},\n",
       "   {'transaction-id': 8303, 'amount': 15},\n",
       "   {'transaction-id': 8310, 'amount': 13},\n",
       "   {'transaction-id': 8337, 'amount': 16},\n",
       "   {'transaction-id': 8591, 'amount': 15},\n",
       "   {'transaction-id': 8788, 'amount': 15},\n",
       "   {'transaction-id': 8989, 'amount': 15},\n",
       "   {'transaction-id': 9210, 'amount': 15},\n",
       "   {'transaction-id': 9286, 'amount': 15},\n",
       "   {'transaction-id': 9288, 'amount': 15},\n",
       "   {'transaction-id': 9382, 'amount': 15},\n",
       "   {'transaction-id': 9773, 'amount': 15},\n",
       "   {'transaction-id': 9963, 'amount': 14}]},\n",
       " {'id': 83,\n",
       "  'name': 'Alice',\n",
       "  'transactions': [{'transaction-id': 197, 'amount': 1409},\n",
       "   {'transaction-id': 291, 'amount': 1099},\n",
       "   {'transaction-id': 351, 'amount': 1658},\n",
       "   {'transaction-id': 378, 'amount': 1493},\n",
       "   {'transaction-id': 541, 'amount': 1808},\n",
       "   {'transaction-id': 1006, 'amount': 2030},\n",
       "   {'transaction-id': 1039, 'amount': 1851},\n",
       "   {'transaction-id': 1172, 'amount': 1768},\n",
       "   {'transaction-id': 1268, 'amount': 1611},\n",
       "   {'transaction-id': 1836, 'amount': 1489},\n",
       "   {'transaction-id': 1913, 'amount': 1536},\n",
       "   {'transaction-id': 1942, 'amount': 1722},\n",
       "   {'transaction-id': 2006, 'amount': 1858},\n",
       "   {'transaction-id': 2044, 'amount': 1841},\n",
       "   {'transaction-id': 2101, 'amount': 1757},\n",
       "   {'transaction-id': 2408, 'amount': 1956},\n",
       "   {'transaction-id': 2795, 'amount': 1634},\n",
       "   {'transaction-id': 3056, 'amount': 1613},\n",
       "   {'transaction-id': 3084, 'amount': 1480},\n",
       "   {'transaction-id': 3273, 'amount': 1588},\n",
       "   {'transaction-id': 3355, 'amount': 2076},\n",
       "   {'transaction-id': 3422, 'amount': 1886},\n",
       "   {'transaction-id': 3718, 'amount': 1804},\n",
       "   {'transaction-id': 3775, 'amount': 1700},\n",
       "   {'transaction-id': 4211, 'amount': 1572},\n",
       "   {'transaction-id': 4437, 'amount': 1797},\n",
       "   {'transaction-id': 4455, 'amount': 1812},\n",
       "   {'transaction-id': 4471, 'amount': 1374},\n",
       "   {'transaction-id': 4734, 'amount': 1760},\n",
       "   {'transaction-id': 4820, 'amount': 1695},\n",
       "   {'transaction-id': 4831, 'amount': 1750},\n",
       "   {'transaction-id': 4871, 'amount': 1802},\n",
       "   {'transaction-id': 4961, 'amount': 2017},\n",
       "   {'transaction-id': 5015, 'amount': 1577},\n",
       "   {'transaction-id': 5204, 'amount': 1721},\n",
       "   {'transaction-id': 5384, 'amount': 1451},\n",
       "   {'transaction-id': 5461, 'amount': 1679},\n",
       "   {'transaction-id': 5728, 'amount': 1733},\n",
       "   {'transaction-id': 6130, 'amount': 1753},\n",
       "   {'transaction-id': 6378, 'amount': 1800},\n",
       "   {'transaction-id': 6393, 'amount': 1364},\n",
       "   {'transaction-id': 6457, 'amount': 1923},\n",
       "   {'transaction-id': 6727, 'amount': 1897},\n",
       "   {'transaction-id': 6943, 'amount': 1758},\n",
       "   {'transaction-id': 7108, 'amount': 1682},\n",
       "   {'transaction-id': 7112, 'amount': 1549},\n",
       "   {'transaction-id': 7133, 'amount': 1969},\n",
       "   {'transaction-id': 7141, 'amount': 1783},\n",
       "   {'transaction-id': 7168, 'amount': 1095},\n",
       "   {'transaction-id': 7221, 'amount': 1754},\n",
       "   {'transaction-id': 7310, 'amount': 1773},\n",
       "   {'transaction-id': 7432, 'amount': 1796},\n",
       "   {'transaction-id': 8040, 'amount': 1329},\n",
       "   {'transaction-id': 8291, 'amount': 1417},\n",
       "   {'transaction-id': 8457, 'amount': 1675},\n",
       "   {'transaction-id': 8544, 'amount': 1549},\n",
       "   {'transaction-id': 8911, 'amount': 1583},\n",
       "   {'transaction-id': 9012, 'amount': 1746},\n",
       "   {'transaction-id': 9056, 'amount': 1693},\n",
       "   {'transaction-id': 9067, 'amount': 1757},\n",
       "   {'transaction-id': 9221, 'amount': 1931},\n",
       "   {'transaction-id': 9384, 'amount': 1754},\n",
       "   {'transaction-id': 9465, 'amount': 1783},\n",
       "   {'transaction-id': 9497, 'amount': 1895},\n",
       "   {'transaction-id': 9655, 'amount': 1927},\n",
       "   {'transaction-id': 9709, 'amount': 1597},\n",
       "   {'transaction-id': 9814, 'amount': 1545}]},\n",
       " {'id': 102,\n",
       "  'name': 'Alice',\n",
       "  'transactions': [{'transaction-id': 434, 'amount': 146},\n",
       "   {'transaction-id': 1395, 'amount': 148},\n",
       "   {'transaction-id': 1599, 'amount': 161},\n",
       "   {'transaction-id': 2027, 'amount': 164},\n",
       "   {'transaction-id': 2065, 'amount': 150},\n",
       "   {'transaction-id': 2069, 'amount': 138},\n",
       "   {'transaction-id': 2269, 'amount': 153},\n",
       "   {'transaction-id': 2331, 'amount': 146},\n",
       "   {'transaction-id': 2357, 'amount': 166},\n",
       "   {'transaction-id': 2750, 'amount': 144},\n",
       "   {'transaction-id': 3096, 'amount': 148},\n",
       "   {'transaction-id': 3150, 'amount': 140},\n",
       "   {'transaction-id': 3157, 'amount': 144},\n",
       "   {'transaction-id': 3197, 'amount': 142},\n",
       "   {'transaction-id': 3852, 'amount': 165},\n",
       "   {'transaction-id': 3948, 'amount': 135},\n",
       "   {'transaction-id': 3960, 'amount': 152},\n",
       "   {'transaction-id': 3989, 'amount': 139},\n",
       "   {'transaction-id': 4004, 'amount': 157},\n",
       "   {'transaction-id': 4317, 'amount': 149},\n",
       "   {'transaction-id': 4327, 'amount': 152},\n",
       "   {'transaction-id': 4462, 'amount': 142},\n",
       "   {'transaction-id': 4492, 'amount': 166},\n",
       "   {'transaction-id': 4927, 'amount': 167},\n",
       "   {'transaction-id': 5108, 'amount': 149},\n",
       "   {'transaction-id': 5611, 'amount': 128},\n",
       "   {'transaction-id': 5652, 'amount': 133},\n",
       "   {'transaction-id': 6110, 'amount': 151},\n",
       "   {'transaction-id': 6331, 'amount': 153},\n",
       "   {'transaction-id': 6587, 'amount': 166},\n",
       "   {'transaction-id': 6987, 'amount': 150},\n",
       "   {'transaction-id': 7074, 'amount': 150},\n",
       "   {'transaction-id': 7430, 'amount': 165},\n",
       "   {'transaction-id': 7632, 'amount': 148},\n",
       "   {'transaction-id': 7965, 'amount': 158},\n",
       "   {'transaction-id': 8263, 'amount': 159},\n",
       "   {'transaction-id': 8331, 'amount': 160},\n",
       "   {'transaction-id': 8360, 'amount': 154},\n",
       "   {'transaction-id': 8689, 'amount': 157},\n",
       "   {'transaction-id': 9062, 'amount': 160},\n",
       "   {'transaction-id': 9544, 'amount': 166},\n",
       "   {'transaction-id': 9826, 'amount': 164}]})"
      ]
     },
     "execution_count": 11,
     "metadata": {},
     "output_type": "execute_result"
    }
   ],
   "source": [
    "# filter: keep only some elements of the sequence\n",
    "js.filter(lambda record: record['name'] == 'Alice').take(5)"
   ]
  },
  {
   "cell_type": "code",
   "execution_count": 12,
   "metadata": {
    "execution": {
     "iopub.execute_input": "2022-01-27T15:12:05.103203Z",
     "iopub.status.busy": "2022-01-27T15:12:05.097214Z",
     "iopub.status.idle": "2022-01-27T15:12:05.117901Z",
     "shell.execute_reply": "2022-01-27T15:12:05.118250Z"
    }
   },
   "outputs": [
    {
     "data": {
      "text/plain": [
       "({'name': 'Alice', 'count': 11},\n",
       " {'name': 'Alice', 'count': 23},\n",
       " {'name': 'Alice', 'count': 43},\n",
       " {'name': 'Alice', 'count': 67},\n",
       " {'name': 'Alice', 'count': 42})"
      ]
     },
     "execution_count": 12,
     "metadata": {},
     "output_type": "execute_result"
    }
   ],
   "source": [
    "def count_transactions(d):\n",
    "    return {'name': d['name'], 'count': len(d['transactions'])}\n",
    "\n",
    "# map: apply a function to each element\n",
    "(js.filter(lambda record: record['name'] == 'Alice')\n",
    "   .map(count_transactions)\n",
    "   .take(5))"
   ]
  },
  {
   "cell_type": "code",
   "execution_count": 13,
   "metadata": {
    "execution": {
     "iopub.execute_input": "2022-01-27T15:12:05.123554Z",
     "iopub.status.busy": "2022-01-27T15:12:05.123145Z",
     "iopub.status.idle": "2022-01-27T15:12:05.142606Z",
     "shell.execute_reply": "2022-01-27T15:12:05.142922Z"
    }
   },
   "outputs": [
    {
     "data": {
      "text/plain": [
       "(11, 23, 43, 67, 42)"
      ]
     },
     "execution_count": 13,
     "metadata": {},
     "output_type": "execute_result"
    }
   ],
   "source": [
    "# pluck: select a field, as from a dictionary, element[field]\n",
    "(js.filter(lambda record: record['name'] == 'Alice')\n",
    "   .map(count_transactions)\n",
    "   .pluck('count')\n",
    "   .take(5))"
   ]
  },
  {
   "cell_type": "code",
   "execution_count": 14,
   "metadata": {
    "execution": {
     "iopub.execute_input": "2022-01-27T15:12:05.147309Z",
     "iopub.status.busy": "2022-01-27T15:12:05.146898Z",
     "iopub.status.idle": "2022-01-27T15:12:05.586271Z",
     "shell.execute_reply": "2022-01-27T15:12:05.585877Z"
    }
   },
   "outputs": [
    {
     "data": {
      "text/plain": [
       "44.0175"
      ]
     },
     "execution_count": 14,
     "metadata": {},
     "output_type": "execute_result"
    }
   ],
   "source": [
    "# Average number of transactions for all of the Alice entries\n",
    "(js.filter(lambda record: record['name'] == 'Alice')\n",
    "   .map(count_transactions)\n",
    "   .pluck('count')\n",
    "   .mean()\n",
    "   .compute())"
   ]
  },
  {
   "cell_type": "markdown",
   "metadata": {},
   "source": [
    "### Use `flatten` to de-nest"
   ]
  },
  {
   "cell_type": "markdown",
   "metadata": {},
   "source": [
    "In the example below we see the use of `.flatten()` to flatten results.  We compute the average amount for all transactions for all Alices."
   ]
  },
  {
   "cell_type": "code",
   "execution_count": 15,
   "metadata": {
    "execution": {
     "iopub.execute_input": "2022-01-27T15:12:05.596790Z",
     "iopub.status.busy": "2022-01-27T15:12:05.590852Z",
     "iopub.status.idle": "2022-01-27T15:12:05.617328Z",
     "shell.execute_reply": "2022-01-27T15:12:05.616951Z"
    }
   },
   "outputs": [
    {
     "data": {
      "text/plain": [
       "([{'transaction-id': 502, 'amount': 386},\n",
       "  {'transaction-id': 690, 'amount': 401},\n",
       "  {'transaction-id': 927, 'amount': 397},\n",
       "  {'transaction-id': 1861, 'amount': 408},\n",
       "  {'transaction-id': 2446, 'amount': 392},\n",
       "  {'transaction-id': 2884, 'amount': 381},\n",
       "  {'transaction-id': 2892, 'amount': 377},\n",
       "  {'transaction-id': 4432, 'amount': 338},\n",
       "  {'transaction-id': 4766, 'amount': 378},\n",
       "  {'transaction-id': 4890, 'amount': 418},\n",
       "  {'transaction-id': 7325, 'amount': 369}],\n",
       " [{'transaction-id': 124, 'amount': 3370},\n",
       "  {'transaction-id': 922, 'amount': 2899},\n",
       "  {'transaction-id': 994, 'amount': 2938},\n",
       "  {'transaction-id': 1114, 'amount': 2954},\n",
       "  {'transaction-id': 1227, 'amount': 2856},\n",
       "  {'transaction-id': 1252, 'amount': 2942},\n",
       "  {'transaction-id': 1854, 'amount': 2980},\n",
       "  {'transaction-id': 2084, 'amount': 2893},\n",
       "  {'transaction-id': 2345, 'amount': 3053},\n",
       "  {'transaction-id': 2543, 'amount': 3039},\n",
       "  {'transaction-id': 3073, 'amount': 2814},\n",
       "  {'transaction-id': 3961, 'amount': 2853},\n",
       "  {'transaction-id': 4403, 'amount': 2989},\n",
       "  {'transaction-id': 5489, 'amount': 2924},\n",
       "  {'transaction-id': 5735, 'amount': 3020},\n",
       "  {'transaction-id': 6117, 'amount': 3020},\n",
       "  {'transaction-id': 6993, 'amount': 2788},\n",
       "  {'transaction-id': 7033, 'amount': 2969},\n",
       "  {'transaction-id': 8070, 'amount': 2898},\n",
       "  {'transaction-id': 9005, 'amount': 2764},\n",
       "  {'transaction-id': 9079, 'amount': 2767},\n",
       "  {'transaction-id': 9226, 'amount': 3094},\n",
       "  {'transaction-id': 9604, 'amount': 2842}],\n",
       " [{'transaction-id': 237, 'amount': 14},\n",
       "  {'transaction-id': 808, 'amount': 14},\n",
       "  {'transaction-id': 1571, 'amount': 15},\n",
       "  {'transaction-id': 1629, 'amount': 14},\n",
       "  {'transaction-id': 1872, 'amount': 14},\n",
       "  {'transaction-id': 2090, 'amount': 14},\n",
       "  {'transaction-id': 2202, 'amount': 14},\n",
       "  {'transaction-id': 2803, 'amount': 14},\n",
       "  {'transaction-id': 2838, 'amount': 14},\n",
       "  {'transaction-id': 3268, 'amount': 15},\n",
       "  {'transaction-id': 3449, 'amount': 15},\n",
       "  {'transaction-id': 3560, 'amount': 15},\n",
       "  {'transaction-id': 3623, 'amount': 16},\n",
       "  {'transaction-id': 3691, 'amount': 14},\n",
       "  {'transaction-id': 4190, 'amount': 15},\n",
       "  {'transaction-id': 4937, 'amount': 16},\n",
       "  {'transaction-id': 5466, 'amount': 14},\n",
       "  {'transaction-id': 5879, 'amount': 14},\n",
       "  {'transaction-id': 6038, 'amount': 14},\n",
       "  {'transaction-id': 6229, 'amount': 14},\n",
       "  {'transaction-id': 6252, 'amount': 15},\n",
       "  {'transaction-id': 6555, 'amount': 17},\n",
       "  {'transaction-id': 6576, 'amount': 15},\n",
       "  {'transaction-id': 6710, 'amount': 15},\n",
       "  {'transaction-id': 6753, 'amount': 15},\n",
       "  {'transaction-id': 6991, 'amount': 16},\n",
       "  {'transaction-id': 7036, 'amount': 15},\n",
       "  {'transaction-id': 7156, 'amount': 16},\n",
       "  {'transaction-id': 7369, 'amount': 14},\n",
       "  {'transaction-id': 7611, 'amount': 15},\n",
       "  {'transaction-id': 7832, 'amount': 14},\n",
       "  {'transaction-id': 8303, 'amount': 15},\n",
       "  {'transaction-id': 8310, 'amount': 13},\n",
       "  {'transaction-id': 8337, 'amount': 16},\n",
       "  {'transaction-id': 8591, 'amount': 15},\n",
       "  {'transaction-id': 8788, 'amount': 15},\n",
       "  {'transaction-id': 8989, 'amount': 15},\n",
       "  {'transaction-id': 9210, 'amount': 15},\n",
       "  {'transaction-id': 9286, 'amount': 15},\n",
       "  {'transaction-id': 9288, 'amount': 15},\n",
       "  {'transaction-id': 9382, 'amount': 15},\n",
       "  {'transaction-id': 9773, 'amount': 15},\n",
       "  {'transaction-id': 9963, 'amount': 14}])"
      ]
     },
     "execution_count": 15,
     "metadata": {},
     "output_type": "execute_result"
    }
   ],
   "source": [
    "(js.filter(lambda record: record['name'] == 'Alice')\n",
    "   .pluck('transactions')\n",
    "   .take(3))"
   ]
  },
  {
   "cell_type": "code",
   "execution_count": 16,
   "metadata": {
    "execution": {
     "iopub.execute_input": "2022-01-27T15:12:05.627580Z",
     "iopub.status.busy": "2022-01-27T15:12:05.619238Z",
     "iopub.status.idle": "2022-01-27T15:12:05.643299Z",
     "shell.execute_reply": "2022-01-27T15:12:05.643665Z"
    }
   },
   "outputs": [
    {
     "data": {
      "text/plain": [
       "({'transaction-id': 502, 'amount': 386},\n",
       " {'transaction-id': 690, 'amount': 401},\n",
       " {'transaction-id': 927, 'amount': 397})"
      ]
     },
     "execution_count": 16,
     "metadata": {},
     "output_type": "execute_result"
    }
   ],
   "source": [
    "(js.filter(lambda record: record['name'] == 'Alice')\n",
    "   .pluck('transactions')\n",
    "   .flatten()\n",
    "   .take(3))"
   ]
  },
  {
   "cell_type": "code",
   "execution_count": 17,
   "metadata": {
    "execution": {
     "iopub.execute_input": "2022-01-27T15:12:05.652345Z",
     "iopub.status.busy": "2022-01-27T15:12:05.647332Z",
     "iopub.status.idle": "2022-01-27T15:12:05.667585Z",
     "shell.execute_reply": "2022-01-27T15:12:05.667930Z"
    }
   },
   "outputs": [
    {
     "data": {
      "text/plain": [
       "(386, 401, 397)"
      ]
     },
     "execution_count": 17,
     "metadata": {},
     "output_type": "execute_result"
    }
   ],
   "source": [
    "(js.filter(lambda record: record['name'] == 'Alice')\n",
    "   .pluck('transactions')\n",
    "   .flatten()\n",
    "   .pluck('amount')\n",
    "   .take(3))"
   ]
  },
  {
   "cell_type": "code",
   "execution_count": 18,
   "metadata": {
    "execution": {
     "iopub.execute_input": "2022-01-27T15:12:05.672715Z",
     "iopub.status.busy": "2022-01-27T15:12:05.672296Z",
     "iopub.status.idle": "2022-01-27T15:12:06.027079Z",
     "shell.execute_reply": "2022-01-27T15:12:06.026713Z"
    }
   },
   "outputs": [
    {
     "data": {
      "text/plain": [
       "635.5091724882149"
      ]
     },
     "execution_count": 18,
     "metadata": {},
     "output_type": "execute_result"
    }
   ],
   "source": [
    "(js.filter(lambda record: record['name'] == 'Alice')\n",
    "   .pluck('transactions')\n",
    "   .flatten()\n",
    "   .pluck('amount')\n",
    "   .mean()\n",
    "   .compute())"
   ]
  },
  {
   "cell_type": "markdown",
   "metadata": {},
   "source": [
    "### Groupby and Foldby"
   ]
  },
  {
   "cell_type": "markdown",
   "metadata": {},
   "source": [
    "Often we want to group data by some function or key.  We can do this either with the `.groupby` method, which is straightforward but forces a full shuffle of the data (expensive) or with the harder-to-use but faster `.foldby` method, which does a streaming combined groupby and reduction.\n",
    "\n",
    "*  `groupby`:  Shuffles data so that all items with the same key are in the same key-value pair\n",
    "*  `foldby`:  Walks through the data accumulating a result per key\n",
    "\n",
    "*Note: the full groupby is particularly bad. In actual workloads you would do well to use `foldby` or switch to `DataFrame`s if possible.*"
   ]
  },
  {
   "cell_type": "markdown",
   "metadata": {},
   "source": [
    "### `groupby`"
   ]
  },
  {
   "cell_type": "markdown",
   "metadata": {},
   "source": [
    "Groupby collects items in your collection so that all items with the same value under some function are collected together into a key-value pair."
   ]
  },
  {
   "cell_type": "code",
   "execution_count": 19,
   "metadata": {
    "execution": {
     "iopub.execute_input": "2022-01-27T15:12:06.030867Z",
     "iopub.status.busy": "2022-01-27T15:12:06.029264Z",
     "iopub.status.idle": "2022-01-27T15:12:06.112903Z",
     "shell.execute_reply": "2022-01-27T15:12:06.113246Z"
    }
   },
   "outputs": [
    {
     "data": {
      "text/plain": [
       "[(7, ['Charlie']), (3, ['Bob', 'Dan']), (5, ['Alice', 'Edith', 'Frank'])]"
      ]
     },
     "execution_count": 19,
     "metadata": {},
     "output_type": "execute_result"
    }
   ],
   "source": [
    "b = db.from_sequence(['Alice', 'Bob', 'Charlie', 'Dan', 'Edith', 'Frank'])\n",
    "b.groupby(len).compute()  # names grouped by length"
   ]
  },
  {
   "cell_type": "code",
   "execution_count": 20,
   "metadata": {
    "execution": {
     "iopub.execute_input": "2022-01-27T15:12:06.129469Z",
     "iopub.status.busy": "2022-01-27T15:12:06.122096Z",
     "iopub.status.idle": "2022-01-27T15:12:06.235885Z",
     "shell.execute_reply": "2022-01-27T15:12:06.236214Z"
    }
   },
   "outputs": [
    {
     "data": {
      "text/plain": [
       "[(0, [0, 2, 4, 6, 8]), (1, [1, 3, 5, 7, 9])]"
      ]
     },
     "execution_count": 20,
     "metadata": {},
     "output_type": "execute_result"
    }
   ],
   "source": [
    "b = db.from_sequence(list(range(10)))\n",
    "b.groupby(lambda x: x % 2).compute()"
   ]
  },
  {
   "cell_type": "code",
   "execution_count": 21,
   "metadata": {
    "execution": {
     "iopub.execute_input": "2022-01-27T15:12:06.240626Z",
     "iopub.status.busy": "2022-01-27T15:12:06.240216Z",
     "iopub.status.idle": "2022-01-27T15:12:06.381538Z",
     "shell.execute_reply": "2022-01-27T15:12:06.381907Z"
    }
   },
   "outputs": [
    {
     "data": {
      "text/plain": [
       "[(0, 8), (1, 9)]"
      ]
     },
     "execution_count": 21,
     "metadata": {},
     "output_type": "execute_result"
    }
   ],
   "source": [
    "b.groupby(lambda x: x % 2).starmap(lambda k, v: (k, max(v))).compute()"
   ]
  },
  {
   "cell_type": "markdown",
   "metadata": {},
   "source": [
    "### `foldby`"
   ]
  },
  {
   "cell_type": "markdown",
   "metadata": {},
   "source": [
    "Foldby can be quite odd at first.  It is similar to the following functions from other libraries:\n",
    "\n",
    "*  [`toolz.reduceby`](http://toolz.readthedocs.io/en/latest/streaming-analytics.html#streaming-split-apply-combine)\n",
    "*  [`pyspark.RDD.combineByKey`](http://abshinn.github.io/python/apache-spark/2014/10/11/using-combinebykey-in-apache-spark/)\n",
    "\n",
    "When using `foldby` you provide \n",
    "\n",
    "1.  A key function on which to group elements\n",
    "2.  A binary operator such as you would pass to `reduce` that you use to perform reduction per each group\n",
    "3.  A combine binary operator that can combine the results of two `reduce` calls on different parts of your dataset.\n",
    "\n",
    "Your reduction must be associative.  It will happen in parallel in each of the partitions of your dataset.  Then all of these intermediate results will be combined by the `combine` binary operator."
   ]
  },
  {
   "cell_type": "code",
   "execution_count": 22,
   "metadata": {
    "execution": {
     "iopub.execute_input": "2022-01-27T15:12:06.395809Z",
     "iopub.status.busy": "2022-01-27T15:12:06.393603Z",
     "iopub.status.idle": "2022-01-27T15:12:06.435196Z",
     "shell.execute_reply": "2022-01-27T15:12:06.434809Z"
    }
   },
   "outputs": [
    {
     "data": {
      "text/plain": [
       "[(0, 8), (1, 9)]"
      ]
     },
     "execution_count": 22,
     "metadata": {},
     "output_type": "execute_result"
    }
   ],
   "source": [
    "b.foldby(lambda x: x % 2, binop=max, combine=max).compute()"
   ]
  },
  {
   "cell_type": "markdown",
   "metadata": {},
   "source": [
    "### Example with account data"
   ]
  },
  {
   "cell_type": "markdown",
   "metadata": {},
   "source": [
    "We find the number of people with the same name."
   ]
  },
  {
   "cell_type": "code",
   "execution_count": 23,
   "metadata": {
    "execution": {
     "iopub.execute_input": "2022-01-27T15:12:06.441587Z",
     "iopub.status.busy": "2022-01-27T15:12:06.437979Z",
     "iopub.status.idle": "2022-01-27T15:12:10.573874Z",
     "shell.execute_reply": "2022-01-27T15:12:10.574235Z"
    }
   },
   "outputs": [
    {
     "name": "stdout",
     "output_type": "stream",
     "text": [
      "[('Alice', 96), ('Alice', 112), ('Alice', 192), ('Bob', 84), ('Bob', 84), ('Bob', 84), ('Bob', 98), ('Charlie', 144), ('Charlie', 144), ('Charlie', 144), ('Charlie', 168), ('Dan', 144), ('Dan', 144), ('Dan', 144), ('Dan', 168), ('Edith', 165), ('Edith', 168), ('Edith', 168), ('Edith', 194), ('Frank', 156), ('Frank', 156), ('Frank', 156), ('Frank', 182), ('George', 120), ('George', 120), ('George', 120), ('George', 139), ('Hannah', 118), ('Hannah', 119), ('Hannah', 119), ('Hannah', 139), ('Ingrid', 130), ('Ingrid', 134), ('Ingrid', 135), ('Ingrid', 155), ('Jerry', 164), ('Jerry', 165), ('Jerry', 168), ('Jerry', 195), ('Kevin', 144), ('Kevin', 144), ('Kevin', 144), ('Kevin', 168), ('Laura', 84), ('Laura', 84), ('Laura', 84), ('Laura', 98), ('Michael', 120), ('Michael', 120), ('Michael', 120), ('Michael', 140), ('Norbert', 83), ('Norbert', 84), ('Norbert', 84), ('Norbert', 97), ('Oliver', 84), ('Oliver', 84), ('Oliver', 84), ('Oliver', 98), ('Patricia', 84), ('Patricia', 84), ('Patricia', 84), ('Patricia', 98), ('Quinn', 132), ('Quinn', 132), ('Quinn', 134), ('Quinn', 155), ('Ray', 48), ('Ray', 48), ('Ray', 48), ('Ray', 56), ('Sarah', 163), ('Sarah', 164), ('Sarah', 164), ('Sarah', 192), ('Tim', 142), ('Tim', 142), ('Tim', 144), ('Tim', 167), ('Ursula', 120), ('Ursula', 120), ('Ursula', 120), ('Ursula', 140), ('Victor', 126), ('Victor', 129), ('Victor', 130), ('Victor', 146), ('Wendy', 48), ('Wendy', 48), ('Wendy', 48), ('Wendy', 56), ('Xavier', 82), ('Xavier', 82), ('Xavier', 82), ('Xavier', 91), ('Yvonne', 48), ('Yvonne', 48), ('Yvonne', 48), ('Yvonne', 56), ('Zelda', 120), ('Zelda', 120), ('Zelda', 120), ('Zelda', 140)]\n",
      "CPU times: user 828 ms, sys: 54.5 ms, total: 882 ms\n",
      "Wall time: 4.13 s\n"
     ]
    }
   ],
   "source": [
    "%%time\n",
    "# Warning, this one takes a while...\n",
    "result = js.groupby(lambda item: item['name']).starmap(lambda k, v: (k, len(v))).compute()\n",
    "print(sorted(result))"
   ]
  },
  {
   "cell_type": "code",
   "execution_count": 24,
   "metadata": {
    "execution": {
     "iopub.execute_input": "2022-01-27T15:12:10.583706Z",
     "iopub.status.busy": "2022-01-27T15:12:10.583281Z",
     "iopub.status.idle": "2022-01-27T15:12:11.060237Z",
     "shell.execute_reply": "2022-01-27T15:12:11.059848Z"
    }
   },
   "outputs": [
    {
     "name": "stdout",
     "output_type": "stream",
     "text": [
      "[('Alice', 400), ('Bob', 350), ('Charlie', 600), ('Dan', 600), ('Edith', 695), ('Frank', 650), ('George', 499), ('Hannah', 495), ('Ingrid', 554), ('Jerry', 692), ('Kevin', 600), ('Laura', 350), ('Michael', 500), ('Norbert', 348), ('Oliver', 350), ('Patricia', 350), ('Quinn', 553), ('Ray', 200), ('Sarah', 683), ('Tim', 595), ('Ursula', 500), ('Victor', 531), ('Wendy', 200), ('Xavier', 337), ('Yvonne', 200), ('Zelda', 500)]\n",
      "CPU times: user 188 ms, sys: 12.2 ms, total: 200 ms\n",
      "Wall time: 478 ms\n"
     ]
    }
   ],
   "source": [
    "%%time\n",
    "# This one is comparatively fast and produces the same result.\n",
    "from operator import add\n",
    "def incr(tot, _):\n",
    "    return tot + 1\n",
    "\n",
    "result = js.foldby(key='name', \n",
    "                   binop=incr, \n",
    "                   initial=0, \n",
    "                   combine=add, \n",
    "                   combine_initial=0).compute()\n",
    "print(sorted(result))"
   ]
  },
  {
   "cell_type": "markdown",
   "metadata": {},
   "source": [
    "### Exercise: compute total amount per name"
   ]
  },
  {
   "cell_type": "markdown",
   "metadata": {},
   "source": [
    "We want to groupby (or foldby) the `name` key, then add up the all of the amounts for each name.\n",
    "\n",
    "Steps\n",
    "\n",
    "1.  Create a small function that, given a dictionary like \n",
    "\n",
    "        {'name': 'Alice', 'transactions': [{'amount': 1, 'id': 123}, {'amount': 2, 'id': 456}]}\n",
    "        \n",
    "    produces the sum of the amounts, e.g. `3`\n",
    "    \n",
    "2.  Slightly change the binary operator of the `foldby` example above so that the binary operator doesn't count the number of entries, but instead accumulates the sum of the amounts."
   ]
  },
  {
   "cell_type": "code",
   "execution_count": 25,
   "metadata": {
    "execution": {
     "iopub.execute_input": "2022-01-27T15:12:11.063905Z",
     "iopub.status.busy": "2022-01-27T15:12:11.063493Z",
     "iopub.status.idle": "2022-01-27T15:12:11.066071Z",
     "shell.execute_reply": "2022-01-27T15:12:11.066385Z"
    }
   },
   "outputs": [],
   "source": [
    "# Your code here..."
   ]
  },
  {
   "cell_type": "markdown",
   "metadata": {},
   "source": [
    "## DataFrames"
   ]
  },
  {
   "cell_type": "markdown",
   "metadata": {},
   "source": [
    "For the same reasons that Pandas is often faster than pure Python, `dask.dataframe` can be faster than `dask.bag`.  We will work more with DataFrames later, but from the point of view of a Bag, it is frequently the end-point of the \"messy\" part of data ingestion—once the data can be made into a data-frame, then complex split-apply-combine logic will become much more straight-forward and efficient.\n",
    "\n",
    "You can transform a bag with a simple tuple or flat dictionary structure into a `dask.dataframe` with the `to_dataframe` method."
   ]
  },
  {
   "cell_type": "code",
   "execution_count": 26,
   "metadata": {
    "execution": {
     "iopub.execute_input": "2022-01-27T15:12:11.069563Z",
     "iopub.status.busy": "2022-01-27T15:12:11.069095Z",
     "iopub.status.idle": "2022-01-27T15:12:11.469457Z",
     "shell.execute_reply": "2022-01-27T15:12:11.469838Z"
    }
   },
   "outputs": [
    {
     "name": "stderr",
     "output_type": "stream",
     "text": [
      "/usr/share/miniconda3/envs/dask-tutorial/lib/python3.8/site-packages/dask/dataframe/backends.py:187: FutureWarning: pandas.Int64Index is deprecated and will be removed from pandas in a future version. Use pandas.Index with the appropriate dtype instead.\n",
      "  _numeric_index_types = (pd.Int64Index, pd.Float64Index, pd.UInt64Index)\n",
      "/usr/share/miniconda3/envs/dask-tutorial/lib/python3.8/site-packages/dask/dataframe/backends.py:187: FutureWarning: pandas.Float64Index is deprecated and will be removed from pandas in a future version. Use pandas.Index with the appropriate dtype instead.\n",
      "  _numeric_index_types = (pd.Int64Index, pd.Float64Index, pd.UInt64Index)\n",
      "/usr/share/miniconda3/envs/dask-tutorial/lib/python3.8/site-packages/dask/dataframe/backends.py:187: FutureWarning: pandas.UInt64Index is deprecated and will be removed from pandas in a future version. Use pandas.Index with the appropriate dtype instead.\n",
      "  _numeric_index_types = (pd.Int64Index, pd.Float64Index, pd.UInt64Index)\n"
     ]
    },
    {
     "data": {
      "text/html": [
       "<div>\n",
       "<style scoped>\n",
       "    .dataframe tbody tr th:only-of-type {\n",
       "        vertical-align: middle;\n",
       "    }\n",
       "\n",
       "    .dataframe tbody tr th {\n",
       "        vertical-align: top;\n",
       "    }\n",
       "\n",
       "    .dataframe thead th {\n",
       "        text-align: right;\n",
       "    }\n",
       "</style>\n",
       "<table border=\"1\" class=\"dataframe\">\n",
       "  <thead>\n",
       "    <tr style=\"text-align: right;\">\n",
       "      <th></th>\n",
       "      <th>id</th>\n",
       "      <th>name</th>\n",
       "      <th>transactions</th>\n",
       "    </tr>\n",
       "  </thead>\n",
       "  <tbody>\n",
       "    <tr>\n",
       "      <th>0</th>\n",
       "      <td>0</td>\n",
       "      <td>Alice</td>\n",
       "      <td>[{'transaction-id': 502, 'amount': 386}, {'tra...</td>\n",
       "    </tr>\n",
       "    <tr>\n",
       "      <th>1</th>\n",
       "      <td>1</td>\n",
       "      <td>Quinn</td>\n",
       "      <td>[{'transaction-id': 151, 'amount': 1198}, {'tr...</td>\n",
       "    </tr>\n",
       "    <tr>\n",
       "      <th>2</th>\n",
       "      <td>2</td>\n",
       "      <td>Edith</td>\n",
       "      <td>[{'transaction-id': 288, 'amount': -503}, {'tr...</td>\n",
       "    </tr>\n",
       "    <tr>\n",
       "      <th>3</th>\n",
       "      <td>3</td>\n",
       "      <td>Dan</td>\n",
       "      <td>[{'transaction-id': 9, 'amount': 26}, {'transa...</td>\n",
       "    </tr>\n",
       "    <tr>\n",
       "      <th>4</th>\n",
       "      <td>4</td>\n",
       "      <td>Victor</td>\n",
       "      <td>[{'transaction-id': 196, 'amount': 1200}, {'tr...</td>\n",
       "    </tr>\n",
       "  </tbody>\n",
       "</table>\n",
       "</div>"
      ],
      "text/plain": [
       "   id    name                                       transactions\n",
       "0   0   Alice  [{'transaction-id': 502, 'amount': 386}, {'tra...\n",
       "1   1   Quinn  [{'transaction-id': 151, 'amount': 1198}, {'tr...\n",
       "2   2   Edith  [{'transaction-id': 288, 'amount': -503}, {'tr...\n",
       "3   3     Dan  [{'transaction-id': 9, 'amount': 26}, {'transa...\n",
       "4   4  Victor  [{'transaction-id': 196, 'amount': 1200}, {'tr..."
      ]
     },
     "execution_count": 26,
     "metadata": {},
     "output_type": "execute_result"
    }
   ],
   "source": [
    "df1 = js.to_dataframe()\n",
    "df1.head()"
   ]
  },
  {
   "cell_type": "markdown",
   "metadata": {},
   "source": [
    "This now looks like a well-defined DataFrame, and we can apply Pandas-like computations to it efficiently."
   ]
  },
  {
   "cell_type": "markdown",
   "metadata": {},
   "source": [
    "Using a Dask DataFrame, how long does it take to do our prior computation of numbers of people with the same name?  It turns out that `dask.dataframe.groupby()` beats `dask.bag.groupby()` by more than an order of magnitude; but it still cannot match `dask.bag.foldby()` for this case."
   ]
  },
  {
   "cell_type": "code",
   "execution_count": 27,
   "metadata": {
    "execution": {
     "iopub.execute_input": "2022-01-27T15:12:11.475071Z",
     "iopub.status.busy": "2022-01-27T15:12:11.471947Z",
     "iopub.status.idle": "2022-01-27T15:12:12.712552Z",
     "shell.execute_reply": "2022-01-27T15:12:12.712880Z"
    }
   },
   "outputs": [
    {
     "name": "stdout",
     "output_type": "stream",
     "text": [
      "CPU times: user 177 ms, sys: 16.6 ms, total: 194 ms\n",
      "Wall time: 1.23 s\n"
     ]
    },
    {
     "data": {
      "text/plain": [
       "name\n",
       "Alice      400\n",
       "Bob        350\n",
       "Charlie    600\n",
       "Dan        600\n",
       "Edith      695\n",
       "Name: id, dtype: int64"
      ]
     },
     "execution_count": 27,
     "metadata": {},
     "output_type": "execute_result"
    }
   ],
   "source": [
    "%time df1.groupby('name').id.count().compute().head()"
   ]
  },
  {
   "cell_type": "markdown",
   "metadata": {},
   "source": [
    "### Denormalization"
   ]
  },
  {
   "cell_type": "markdown",
   "metadata": {},
   "source": [
    "This DataFrame format is less-than-optimal because the `transactions` column is filled with nested data so Pandas has to revert to `object` dtype, which is quite slow in Pandas.  Ideally we want to transform to a dataframe only after we have flattened our data so that each record is a single `int`, `string`, `float`, etc.."
   ]
  },
  {
   "cell_type": "code",
   "execution_count": 28,
   "metadata": {
    "execution": {
     "iopub.execute_input": "2022-01-27T15:12:12.715778Z",
     "iopub.status.busy": "2022-01-27T15:12:12.715340Z",
     "iopub.status.idle": "2022-01-27T15:12:12.740156Z",
     "shell.execute_reply": "2022-01-27T15:12:12.739735Z"
    }
   },
   "outputs": [
    {
     "data": {
      "text/plain": [
       "({'id': 0, 'name': 'Alice', 'amount': 386, 'transaction-id': 502},\n",
       " {'id': 0, 'name': 'Alice', 'amount': 401, 'transaction-id': 690},\n",
       " {'id': 0, 'name': 'Alice', 'amount': 397, 'transaction-id': 927})"
      ]
     },
     "execution_count": 28,
     "metadata": {},
     "output_type": "execute_result"
    }
   ],
   "source": [
    "def denormalize(record):\n",
    "    # returns a list for each person, one item per transaction\n",
    "    return [{'id': record['id'], \n",
    "             'name': record['name'], \n",
    "             'amount': transaction['amount'], \n",
    "             'transaction-id': transaction['transaction-id']}\n",
    "            for transaction in record['transactions']]\n",
    "\n",
    "transactions = js.map(denormalize).flatten()\n",
    "transactions.take(3)"
   ]
  },
  {
   "cell_type": "code",
   "execution_count": 29,
   "metadata": {
    "execution": {
     "iopub.execute_input": "2022-01-27T15:12:12.749299Z",
     "iopub.status.busy": "2022-01-27T15:12:12.742967Z",
     "iopub.status.idle": "2022-01-27T15:12:12.818566Z",
     "shell.execute_reply": "2022-01-27T15:12:12.818154Z"
    }
   },
   "outputs": [
    {
     "data": {
      "text/html": [
       "<div>\n",
       "<style scoped>\n",
       "    .dataframe tbody tr th:only-of-type {\n",
       "        vertical-align: middle;\n",
       "    }\n",
       "\n",
       "    .dataframe tbody tr th {\n",
       "        vertical-align: top;\n",
       "    }\n",
       "\n",
       "    .dataframe thead th {\n",
       "        text-align: right;\n",
       "    }\n",
       "</style>\n",
       "<table border=\"1\" class=\"dataframe\">\n",
       "  <thead>\n",
       "    <tr style=\"text-align: right;\">\n",
       "      <th></th>\n",
       "      <th>id</th>\n",
       "      <th>name</th>\n",
       "      <th>amount</th>\n",
       "      <th>transaction-id</th>\n",
       "    </tr>\n",
       "  </thead>\n",
       "  <tbody>\n",
       "    <tr>\n",
       "      <th>0</th>\n",
       "      <td>0</td>\n",
       "      <td>Alice</td>\n",
       "      <td>386</td>\n",
       "      <td>502</td>\n",
       "    </tr>\n",
       "    <tr>\n",
       "      <th>1</th>\n",
       "      <td>0</td>\n",
       "      <td>Alice</td>\n",
       "      <td>401</td>\n",
       "      <td>690</td>\n",
       "    </tr>\n",
       "    <tr>\n",
       "      <th>2</th>\n",
       "      <td>0</td>\n",
       "      <td>Alice</td>\n",
       "      <td>397</td>\n",
       "      <td>927</td>\n",
       "    </tr>\n",
       "    <tr>\n",
       "      <th>3</th>\n",
       "      <td>0</td>\n",
       "      <td>Alice</td>\n",
       "      <td>408</td>\n",
       "      <td>1861</td>\n",
       "    </tr>\n",
       "    <tr>\n",
       "      <th>4</th>\n",
       "      <td>0</td>\n",
       "      <td>Alice</td>\n",
       "      <td>392</td>\n",
       "      <td>2446</td>\n",
       "    </tr>\n",
       "  </tbody>\n",
       "</table>\n",
       "</div>"
      ],
      "text/plain": [
       "   id   name  amount  transaction-id\n",
       "0   0  Alice     386             502\n",
       "1   0  Alice     401             690\n",
       "2   0  Alice     397             927\n",
       "3   0  Alice     408            1861\n",
       "4   0  Alice     392            2446"
      ]
     },
     "execution_count": 29,
     "metadata": {},
     "output_type": "execute_result"
    }
   ],
   "source": [
    "df = transactions.to_dataframe()\n",
    "df.head()"
   ]
  },
  {
   "cell_type": "code",
   "execution_count": 30,
   "metadata": {
    "execution": {
     "iopub.execute_input": "2022-01-27T15:12:12.843200Z",
     "iopub.status.busy": "2022-01-27T15:12:12.820582Z",
     "iopub.status.idle": "2022-01-27T15:12:13.749561Z",
     "shell.execute_reply": "2022-01-27T15:12:13.748884Z"
    }
   },
   "outputs": [
    {
     "name": "stdout",
     "output_type": "stream",
     "text": [
      "CPU times: user 151 ms, sys: 16.4 ms, total: 168 ms\n",
      "Wall time: 920 ms\n"
     ]
    },
    {
     "data": {
      "text/plain": [
       "name\n",
       "Alice       17607\n",
       "Bob         21411\n",
       "Charlie     19716\n",
       "Dan         29355\n",
       "Edith       17363\n",
       "Frank       30584\n",
       "George      23159\n",
       "Hannah      23357\n",
       "Ingrid      21303\n",
       "Jerry       36914\n",
       "Kevin       35089\n",
       "Laura        6464\n",
       "Michael     12867\n",
       "Norbert      6633\n",
       "Oliver      13061\n",
       "Patricia     8502\n",
       "Quinn       21783\n",
       "Ray         19465\n",
       "Sarah       26704\n",
       "Tim         26469\n",
       "Ursula      10831\n",
       "Victor      20755\n",
       "Wendy        2521\n",
       "Xavier      20632\n",
       "Yvonne       7822\n",
       "Zelda       19633\n",
       "Name: transaction-id, dtype: int64"
      ]
     },
     "execution_count": 30,
     "metadata": {},
     "output_type": "execute_result"
    }
   ],
   "source": [
    "%%time\n",
    "# number of transactions per name\n",
    "# note that the time here includes the data load and ingestion\n",
    "df.groupby('name')['transaction-id'].count().compute()"
   ]
  },
  {
   "cell_type": "markdown",
   "metadata": {},
   "source": [
    "## Limitations"
   ]
  },
  {
   "cell_type": "markdown",
   "metadata": {},
   "source": [
    "Bags provide very general computation (any Python function.)  This generality\n",
    "comes at cost.  Bags have the following known limitations\n",
    "\n",
    "1.  Bag operations tend to be slower than array/dataframe computations in the\n",
    "    same way that Python tends to be slower than NumPy/Pandas\n",
    "2.  ``Bag.groupby`` is slow.  You should try to use ``Bag.foldby`` if possible.\n",
    "    Using ``Bag.foldby`` requires more thought. Even better, consider creating\n",
    "    a normalised dataframe."
   ]
  },
  {
   "cell_type": "markdown",
   "metadata": {},
   "source": [
    "## Learn More\n",
    "\n",
    "* [Bag documentation](https://docs.dask.org/en/latest/bag.html)\n",
    "* [Bag screencast](https://youtu.be/-qIiJ1XtSv0)\n",
    "* [Bag API](https://docs.dask.org/en/latest/bag-api.html)\n",
    "* [Bag examples](https://examples.dask.org/bag.html)"
   ]
  },
  {
   "cell_type": "markdown",
   "metadata": {},
   "source": [
    "## Shutdown"
   ]
  },
  {
   "cell_type": "code",
   "execution_count": 31,
   "metadata": {
    "execution": {
     "iopub.execute_input": "2022-01-27T15:12:13.752038Z",
     "iopub.status.busy": "2022-01-27T15:12:13.751629Z",
     "iopub.status.idle": "2022-01-27T15:12:14.224133Z",
     "shell.execute_reply": "2022-01-27T15:12:14.223668Z"
    }
   },
   "outputs": [
    {
     "name": "stderr",
     "output_type": "stream",
     "text": [
      "/usr/share/miniconda3/envs/dask-tutorial/lib/python3.8/site-packages/dask/dataframe/backends.py:187: FutureWarning: pandas.Int64Index is deprecated and will be removed from pandas in a future version. Use pandas.Index with the appropriate dtype instead.\n",
      "  _numeric_index_types = (pd.Int64Index, pd.Float64Index, pd.UInt64Index)\n",
      "/usr/share/miniconda3/envs/dask-tutorial/lib/python3.8/site-packages/dask/dataframe/backends.py:187: FutureWarning: pandas.Float64Index is deprecated and will be removed from pandas in a future version. Use pandas.Index with the appropriate dtype instead.\n",
      "  _numeric_index_types = (pd.Int64Index, pd.Float64Index, pd.UInt64Index)\n",
      "/usr/share/miniconda3/envs/dask-tutorial/lib/python3.8/site-packages/dask/dataframe/backends.py:187: FutureWarning: pandas.UInt64Index is deprecated and will be removed from pandas in a future version. Use pandas.Index with the appropriate dtype instead.\n",
      "  _numeric_index_types = (pd.Int64Index, pd.Float64Index, pd.UInt64Index)\n",
      "/usr/share/miniconda3/envs/dask-tutorial/lib/python3.8/site-packages/dask/dataframe/backends.py:187: FutureWarning: pandas.Int64Index is deprecated and will be removed from pandas in a future version. Use pandas.Index with the appropriate dtype instead.\n",
      "  _numeric_index_types = (pd.Int64Index, pd.Float64Index, pd.UInt64Index)\n",
      "/usr/share/miniconda3/envs/dask-tutorial/lib/python3.8/site-packages/dask/dataframe/backends.py:187: FutureWarning: pandas.Float64Index is deprecated and will be removed from pandas in a future version. Use pandas.Index with the appropriate dtype instead.\n",
      "  _numeric_index_types = (pd.Int64Index, pd.Float64Index, pd.UInt64Index)\n",
      "/usr/share/miniconda3/envs/dask-tutorial/lib/python3.8/site-packages/dask/dataframe/backends.py:187: FutureWarning: pandas.UInt64Index is deprecated and will be removed from pandas in a future version. Use pandas.Index with the appropriate dtype instead.\n",
      "  _numeric_index_types = (pd.Int64Index, pd.Float64Index, pd.UInt64Index)\n",
      "/usr/share/miniconda3/envs/dask-tutorial/lib/python3.8/site-packages/dask/dataframe/backends.py:187: FutureWarning: pandas.Int64Index is deprecated and will be removed from pandas in a future version. Use pandas.Index with the appropriate dtype instead.\n",
      "  _numeric_index_types = (pd.Int64Index, pd.Float64Index, pd.UInt64Index)\n",
      "/usr/share/miniconda3/envs/dask-tutorial/lib/python3.8/site-packages/dask/dataframe/backends.py:187: FutureWarning: pandas.Float64Index is deprecated and will be removed from pandas in a future version. Use pandas.Index with the appropriate dtype instead.\n",
      "  _numeric_index_types = (pd.Int64Index, pd.Float64Index, pd.UInt64Index)\n",
      "/usr/share/miniconda3/envs/dask-tutorial/lib/python3.8/site-packages/dask/dataframe/backends.py:187: FutureWarning: pandas.UInt64Index is deprecated and will be removed from pandas in a future version. Use pandas.Index with the appropriate dtype instead.\n",
      "  _numeric_index_types = (pd.Int64Index, pd.Float64Index, pd.UInt64Index)\n",
      "/usr/share/miniconda3/envs/dask-tutorial/lib/python3.8/site-packages/dask/dataframe/backends.py:187: FutureWarning: pandas.Int64Index is deprecated and will be removed from pandas in a future version. Use pandas.Index with the appropriate dtype instead.\n",
      "  _numeric_index_types = (pd.Int64Index, pd.Float64Index, pd.UInt64Index)\n",
      "/usr/share/miniconda3/envs/dask-tutorial/lib/python3.8/site-packages/dask/dataframe/backends.py:187: FutureWarning: pandas.Float64Index is deprecated and will be removed from pandas in a future version. Use pandas.Index with the appropriate dtype instead.\n",
      "  _numeric_index_types = (pd.Int64Index, pd.Float64Index, pd.UInt64Index)\n",
      "/usr/share/miniconda3/envs/dask-tutorial/lib/python3.8/site-packages/dask/dataframe/backends.py:187: FutureWarning: pandas.UInt64Index is deprecated and will be removed from pandas in a future version. Use pandas.Index with the appropriate dtype instead.\n",
      "  _numeric_index_types = (pd.Int64Index, pd.Float64Index, pd.UInt64Index)\n"
     ]
    }
   ],
   "source": [
    "client.shutdown()"
   ]
  }
 ],
 "metadata": {
  "anaconda-cloud": {},
  "kernelspec": {
   "display_name": "Python 3 (ipykernel)",
   "language": "python",
   "name": "python3"
  },
  "language_info": {
   "codemirror_mode": {
    "name": "ipython",
    "version": 3
   },
   "file_extension": ".py",
   "mimetype": "text/x-python",
   "name": "python",
   "nbconvert_exporter": "python",
   "pygments_lexer": "ipython3",
   "version": "3.8.12"
  }
 },
 "nbformat": 4,
 "nbformat_minor": 4
}
